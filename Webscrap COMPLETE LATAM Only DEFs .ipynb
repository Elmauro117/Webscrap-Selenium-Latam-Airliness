{
 "cells": [
  {
   "cell_type": "code",
   "execution_count": 5,
   "metadata": {},
   "outputs": [],
   "source": [
    "import requests\n",
    "from bs4 import BeautifulSoup\n",
    "import time"
   ]
  },
  {
   "cell_type": "code",
   "execution_count": 6,
   "metadata": {},
   "outputs": [],
   "source": [
    "#url = \"https://www.latamairlines.com/pe/es/ofertas-vuelos?origin=LIM&inbound=2023-06-24T17%3A00%3A00.000Z&outbound=2023-05-20T17%3A00%3A00.000Z&destination=MAD&adt=1&chd=0&inf=0&trip=RT&cabin=Economy&redemption=false&sort=RECOMMENDED\"\n",
    "\n",
    "url =\"https://www.latamairlines.com/pe/es\""
   ]
  },
  {
   "cell_type": "code",
   "execution_count": 7,
   "metadata": {},
   "outputs": [],
   "source": [
    "r = requests.get(url)"
   ]
  },
  {
   "cell_type": "code",
   "execution_count": 8,
   "metadata": {},
   "outputs": [
    {
     "data": {
      "text/plain": [
       "200"
      ]
     },
     "execution_count": 8,
     "metadata": {},
     "output_type": "execute_result"
    }
   ],
   "source": [
    "r.status_code"
   ]
  },
  {
   "cell_type": "code",
   "execution_count": 9,
   "metadata": {},
   "outputs": [],
   "source": [
    "s = BeautifulSoup(r.text,'lxml')"
   ]
  },
  {
   "cell_type": "code",
   "execution_count": 10,
   "metadata": {},
   "outputs": [],
   "source": [
    "from selenium import webdriver\n",
    "from selenium.webdriver import Keys\n",
    "from selenium.webdriver.support.ui import Select\n",
    "from selenium.webdriver.common.by import By\n",
    "from selenium.webdriver.common.action_chains import ActionChains\n",
    "from selenium.webdriver.common.keys import Keys"
   ]
  },
  {
   "cell_type": "code",
   "execution_count": 11,
   "metadata": {},
   "outputs": [
    {
     "name": "stderr",
     "output_type": "stream",
     "text": [
      "<ipython-input-11-e8535a51902f>:4: DeprecationWarning: executable_path has been deprecated, please pass in a Service object\n",
      "  driver = webdriver.Chrome(executable_path=r\"F:\\\\Chrome driver\\\\chromedriver.exe\", options = options)\n"
     ]
    }
   ],
   "source": [
    "options = webdriver.ChromeOptions()\n",
    "options.add_argument(\"--incognito\")\n",
    "\n",
    "driver = webdriver.Chrome(executable_path=r\"F:\\\\Chrome driver\\\\chromedriver.exe\", options = options)"
   ]
  },
  {
   "cell_type": "code",
   "execution_count": 12,
   "metadata": {},
   "outputs": [],
   "source": [
    "def partes_llegas(lugar_partida, aeropuerto_partida, lugar_llegada=None,aeropuerto_llegada=None):\n",
    "    donde_partes = driver.find_element(By.XPATH, \"//input[@id='txtInputOrigin_field']\")\n",
    "    donde_partes.click()\n",
    "    time.sleep(0.7)\n",
    "\n",
    "    lugars = lugar_partida\n",
    "    for character in lugars:\n",
    "        donde_partes.send_keys(character)\n",
    "        time.sleep(0.3)\n",
    "\n",
    "\n",
    "        ### TUIENES QUE CORRER ESTA VAINA 2 VECES\n",
    "        ### TUIENES QUE CORRER ESTA VAINA 2 VECES\n",
    "        ### TUIENES QUE CORRER ESTA VAINA 2 VECES\n",
    "        ### TUIENES QUE CORRER ESTA VAINA 2 VECES\n",
    "\n",
    "    saaaa = driver.find_element(By.XPATH, \"//ul[@id='listAutoComplete']\")\n",
    "    time.sleep(0.7)\n",
    "    match_aeroporto = saaaa.find_elements(By.XPATH, \".//div[@class='sc-eghKGU cDOfgz']\")    \n",
    "    time.sleep(0.8)\n",
    "    boton_porto =  saaaa.find_elements(By.XPATH, \".//li[@class='sc-fUKxqW jVNaws']\")\n",
    "\n",
    "    lista_portos = []\n",
    "\n",
    "    for z in match_aeroporto :\n",
    "        ga = z.text\n",
    "        time.sleep(1.1)\n",
    "        lista_portos.append(ga)\n",
    "\n",
    "    time.sleep(1.3)\n",
    "\n",
    "\n",
    "    x = aeropuerto_partida\n",
    "    if x in lista_portos:\n",
    "        indice= lista_portos.index(x)\n",
    "        siu = boton_porto[indice]\n",
    "        time.sleep(0.7)\n",
    "        siu.click()\n",
    "        \n",
    "        \n",
    "    ## DONDE LLEGAS ::::\n",
    "    time.sleep(1.3)\n",
    "        \n",
    "    donde_llegas = driver.find_element(By.XPATH, \"//input[@id='txtInputDestination_field']\")\n",
    "    donde_llegas.click()\n",
    "    time.sleep(0.7)\n",
    "\n",
    "    lugar_llegada = lugar_llegada\n",
    "    for character in lugar_llegada:\n",
    "        donde_llegas.send_keys(character)\n",
    "        time.sleep(0.3)\n",
    "\n",
    "    saaaa_2 = driver.find_element(By.XPATH, \"//ul[@id='listAutoComplete']\")\n",
    "    match_aeroporto_2 = saaaa_2.find_elements(By.XPATH, \".//div[@class='sc-eghKGU cDOfgz']\")    \n",
    "    boton_porto_2 =  saaaa_2.find_elements(By.XPATH, \".//li[@class='sc-fUKxqW jVNaws']\")\n",
    "    time.sleep(0.7)\n",
    "\n",
    "    lista_portos_2 = []\n",
    "\n",
    "    for zz in match_aeroporto_2:\n",
    "        ga = zz.text\n",
    "        time.sleep(1.1)\n",
    "        lista_portos_2.append(ga)\n",
    "\n",
    "\n",
    "\n",
    "    y = aeropuerto_llegada\n",
    "    if y in lista_portos_2:\n",
    "        indice= lista_portos_2.index(y)\n",
    "        siu = boton_porto_2[indice]\n",
    "        time.sleep(0.7)\n",
    "        siu.click()"
   ]
  },
  {
   "cell_type": "code",
   "execution_count": 13,
   "metadata": {},
   "outputs": [],
   "source": [
    "### Pon 0 o 1\n",
    "def elige_ida_vuelta(ida=None,vYi=None):\n",
    "    ida = ida\n",
    "    vYi = vYi\n",
    "    \n",
    "    click_ida_vuelta = driver.find_element(By.XPATH, \"//div[@class='sc-dzVpKk jfONHk']\")\n",
    "    click_ida_vuelta.click()\n",
    "    time.sleep(3)\n",
    "    \n",
    "    ques = []\n",
    "    if ida == 1:\n",
    "        Solo_ida = driver.find_element(By.XPATH, \".//button[@id='btnTripType0']\")\n",
    "        Solo_ida.click()\n",
    "        \n",
    "        ques.append(\"ida\")\n",
    "        \n",
    "    else:\n",
    "        Ida_vuelta = driver.find_element(By.XPATH, \".//button[@id='btnTripType1']\")\n",
    "        Ida_vuelta.click()\n",
    "        ques.append(\"ida y retorno\")\n",
    "        \n",
    "    return ques\n",
    "    \n",
    "##### ACA tambn 0 y 1   \n",
    "def elige_economico_caro(barato=None,mid=None,cara=None):\n",
    "    \n",
    "    barato = barato\n",
    "    mid = mid\n",
    "    cara = cara    \n",
    "    \n",
    "    click_eco = driver.find_element(By.XPATH, \"//button[@class='sc-dAWfgX SNJiG']\")\n",
    "    click_eco.click()\n",
    "    \n",
    "    ques_barato=[]\n",
    "    time.sleep(1)\n",
    "    if barato == 1:\n",
    "        economy = driver.find_element(By.XPATH, \".//button[@id='btnCabinType0']\")\n",
    "        economy.click()\n",
    "        ques_barato.append(\"barato\")\n",
    "        \n",
    "    elif mid == 1:\n",
    "        premium = driver.find_element(By.XPATH, \".//button[@id='btnCabinType1']\")\n",
    "        premium.click()\n",
    "        ques_barato.append(\"mid\")\n",
    "    \n",
    "    else:\n",
    "        premium_top = driver.find_element(By.XPATH, \".//button[@id='btnCabinType2']\")\n",
    "        premium_top.click()\n",
    "        ques_barato.append(\"cara\")      \n",
    "  "
   ]
  },
  {
   "cell_type": "code",
   "execution_count": 14,
   "metadata": {},
   "outputs": [],
   "source": [
    "  ### RECUERDA QUE SOLO SE PERMITE 1 BEBE POR ADULTO\n",
    "def cuantos_pajeros(adultos=None,ninos=None,bebes=None):\n",
    "    \n",
    "    if adultos == 0:\n",
    "        print(\"eres HUEVON causa\")\n",
    "        return\n",
    "    \n",
    "    click_eco = driver.find_element(By.XPATH, \".//div[@class='sc-LAuEU eHebXt']\")\n",
    "    click_eco.click()\n",
    "    time.sleep(1)\n",
    "   \n",
    "        \n",
    "\n",
    "    boomers = driver.find_element(By.XPATH, \".//li[@id='sectionAddAdults']\")\n",
    "    boomers = boomers.find_element(By.XPATH, \".//button[@id='btnPlusAdults']\")\n",
    "    time.sleep(1)\n",
    "    n = 0\n",
    "    if adultos is None or adultos == 1:\n",
    "        pass\n",
    "    else:\n",
    "        while n < adultos-1:\n",
    "                n += 1\n",
    "                time.sleep(0.3)\n",
    "                boomers.click()\n",
    "    \n",
    "    \n",
    "    mocosos = driver.find_element(By.XPATH, \".//li[@id='sectionAddChildren']\")\n",
    "    mocosos = mocosos.find_element(By.XPATH, \".//button[@id='btnPlusChildren']\")\n",
    "    time.sleep(1)\n",
    "    n = 0\n",
    "    if ninos == 0 or ninos == None:\n",
    "        pass\n",
    "    else:\n",
    "        while n < ninos:\n",
    "            n += 1\n",
    "            time.sleep(0.4)\n",
    "            mocosos.click()\n",
    "\n",
    "       \n",
    "    wawas = driver.find_element(By.XPATH, \".//li[@id='sectionAddInfant']\")\n",
    "    wawas = wawas.find_element(By.XPATH, \".//button[@id='btnPlusInfant']\")\n",
    "    time.sleep(1)\n",
    "    n = 0\n",
    "    if bebes == 0 or bebes == None:\n",
    "        pass\n",
    "    else:\n",
    "        while n < bebes:\n",
    "            n += 1\n",
    "            time.sleep(0.6)\n",
    "            wawas.click()\n",
    "            \n",
    "    time.sleep(1.7)\n",
    "\n",
    "    action = webdriver.ActionChains(driver)\n",
    "    action.move_by_offset(10,10).click().perform()\n",
    "\n",
    "    time.sleep(0.7)\n"
   ]
  },
  {
   "cell_type": "code",
   "execution_count": 15,
   "metadata": {},
   "outputs": [],
   "source": [
    "\n",
    "def repetir_mes(mes,dia):\n",
    "    \n",
    "    departure_click = driver.find_element(By.XPATH, \"//input[@id='departureDate']\")\n",
    "    departure_click.click()\n",
    "    time.sleep(2)\n",
    "    \n",
    "    boton = driver.find_element(By.XPATH, \"//div[@aria-label='Avanza al mes de']\")\n",
    "    mes = str(mes.lower())\n",
    "    lista_mes_idas = driver.find_elements(By.XPATH, \"//div[@class='CalendarMonth_caption CalendarMonth_caption_1']\")\n",
    "    time.sleep(1)\n",
    "    lista_mes_idas = lista_mes_idas[1:4]\n",
    "    lista_mes_idas_1 = []\n",
    "\n",
    "    for x in lista_mes_idas:\n",
    "        texto = x.text\n",
    "        time.sleep(1)\n",
    "        texto = texto.split(\" \")\n",
    "        texto = texto[0].lower()\n",
    "        lista_mes_idas_1.append(texto)\n",
    "        time.sleep(1)\n",
    "\n",
    "\n",
    "    if mes in lista_mes_idas_1: \n",
    "        bloque  = driver.find_elements(By.XPATH, \"//div[@class='CalendarMonth CalendarMonth_1']\")\n",
    "        time.sleep(1)\n",
    "        bloque = bloque[1:4]\n",
    "        time.sleep(1)\n",
    "        indice = lista_mes_idas_1.index(mes)\n",
    "        time.sleep(1)\n",
    "        bloque = bloque[indice]\n",
    "        time.sleep(1)\n",
    "        ida = bloque.find_elements(By.XPATH, \".//td[@role='button']\")\n",
    "        x = dia\n",
    "        x = x-1    # te coje día +1 entonce sque sea *-1   esto por q tabaja con lista p y el indice comienza desde el 0 webas\n",
    "        time.sleep(1)\n",
    "        fecha_que_quiero = ida[x]\n",
    "        fecha_que_quiero.click()\n",
    "    else:\n",
    "        boton.click()\n",
    "        time.sleep(1)\n",
    "        boton.click()\n",
    "        time.sleep(1)\n",
    "        boton.click()\n",
    "        time.sleep(1)\n",
    "        repetir_mes(mes,dia)\n",
    "    "
   ]
  },
  {
   "cell_type": "code",
   "execution_count": 16,
   "metadata": {},
   "outputs": [],
   "source": [
    "def repetir_mes_retorno(mes,dia):\n",
    "    \n",
    "    #return_click = driver.find_element(By.XPATH, \"//input[@id='arrivalDate']\")\n",
    "    #return_click.click()\n",
    "    #time.sleep(2)\n",
    "    \n",
    "    boton = driver.find_element(By.XPATH, \"//div[@aria-label='Avanza al mes de']\")\n",
    "    mes = mes\n",
    "    mes = str(mes.lower())\n",
    "    mes_1 = \"vacio\"\n",
    "    \n",
    "    if mes == \"setiembre\":\n",
    "        mes_1 = \"septiembre\"\n",
    "        \n",
    "    lista_mes_idas = driver.find_elements(By.XPATH, \"//div[@class='CalendarMonth_caption CalendarMonth_caption_1']\")\n",
    "    lista_mes_idas = lista_mes_idas[1:4]\n",
    "    lista_mes_idas_1 = []\n",
    "    time.sleep(1)\n",
    "\n",
    "    for x in lista_mes_idas:\n",
    "        texto = x.text\n",
    "        texto = texto.split(\" \")\n",
    "        texto = texto[0].lower()\n",
    "        time.sleep(0.60)\n",
    "        lista_mes_idas_1.append(texto)\n",
    "\n",
    "\n",
    "    if mes in lista_mes_idas_1: \n",
    "        bloque  = driver.find_elements(By.XPATH, \"//div[@class='CalendarMonth CalendarMonth_1']\")\n",
    "        time.sleep(1)\n",
    "        bloque = bloque[1:4]\n",
    "        time.sleep(1)\n",
    "        indice = lista_mes_idas_1.index(mes)\n",
    "        bloque = bloque[indice]\n",
    "        regreso = bloque.find_elements(By.XPATH, \".//td[@role='button']\")\n",
    "        time.sleep(1)\n",
    "        y = dia\n",
    "        y = y-1    # te coje día +1 entonce sque sea *-1 \n",
    "        time.sleep(1)\n",
    "        fecha_que_quiero_regresar = regreso[y]\n",
    "        time.sleep(1)\n",
    "        fecha_que_quiero_regresar.click()\n",
    "    elif mes_1 in lista_mes_idas_1:\n",
    "        bloque  = driver.find_elements(By.XPATH, \"//div[@class='CalendarMonth CalendarMonth_1']\")\n",
    "        time.sleep(1)\n",
    "        bloque = bloque[1:4]\n",
    "        time.sleep(1)\n",
    "        indice = lista_mes_idas_1.index(mes_1)\n",
    "        bloque = bloque[indice]\n",
    "        regreso = bloque.find_elements(By.XPATH, \".//td[@role='button']\")\n",
    "        time.sleep(1)\n",
    "        y = dia\n",
    "        y = y-1    # te coje día +1 entonce sque sea *-1 \n",
    "        time.sleep(1)\n",
    "        fecha_que_quiero_regresar = regreso[y]\n",
    "        time.sleep(1)\n",
    "        fecha_que_quiero_regresar.click()\n",
    "    \n",
    "    else:\n",
    "        boton.click()\n",
    "        time.sleep(1)\n",
    "        boton.click()\n",
    "        time.sleep(1)\n",
    "        boton.click()\n",
    "        time.sleep(2.5)\n",
    "        repetir_mes_retorno(mes,dia)\n",
    "    \n",
    "    \n",
    "    "
   ]
  },
  {
   "cell_type": "code",
   "execution_count": 17,
   "metadata": {},
   "outputs": [],
   "source": [
    "def click_buscar():\n",
    "    \n",
    "    buscaras = driver.find_element(By.XPATH, \"//button[@id='btnSearchCTA']\")\n",
    "    buscaras.click()"
   ]
  },
  {
   "cell_type": "code",
   "execution_count": 37,
   "metadata": {},
   "outputs": [
    {
     "data": {
      "text/plain": [
       "['ida y retorno']"
      ]
     },
     "execution_count": 37,
     "metadata": {},
     "output_type": "execute_result"
    }
   ],
   "source": [
    "elige_ida_vuelta(0,1)"
   ]
  },
  {
   "cell_type": "code",
   "execution_count": 38,
   "metadata": {},
   "outputs": [],
   "source": [
    "elige_economico_caro(1,0,0)"
   ]
  },
  {
   "cell_type": "code",
   "execution_count": 39,
   "metadata": {},
   "outputs": [],
   "source": [
    "cuantos_pajeros(2,0,0)"
   ]
  },
  {
   "cell_type": "code",
   "execution_count": 40,
   "metadata": {},
   "outputs": [],
   "source": [
    "partes_llegas(\"Lim\",\"J Chavez Intl.\",\"Madr\", \"Barajas Intl.\")\n"
   ]
  },
  {
   "cell_type": "code",
   "execution_count": 41,
   "metadata": {},
   "outputs": [],
   "source": [
    "# Si es solo ida entonce solo usas esta función p \n",
    "repetir_mes(\"mayo\",21)"
   ]
  },
  {
   "cell_type": "code",
   "execution_count": 42,
   "metadata": {},
   "outputs": [],
   "source": [
    "# Si es ida y regreaso usas esta tambien\n",
    "repetir_mes_retorno(\"agosto\",9)"
   ]
  },
  {
   "cell_type": "code",
   "execution_count": 43,
   "metadata": {},
   "outputs": [],
   "source": [
    "click_buscar()"
   ]
  },
  {
   "cell_type": "code",
   "execution_count": 22,
   "metadata": {},
   "outputs": [],
   "source": []
  },
  {
   "cell_type": "code",
   "execution_count": null,
   "metadata": {},
   "outputs": [],
   "source": []
  },
  {
   "cell_type": "code",
   "execution_count": null,
   "metadata": {},
   "outputs": [],
   "source": []
  },
  {
   "cell_type": "code",
   "execution_count": 45,
   "metadata": {},
   "outputs": [
    {
     "data": {
      "text/plain": [
       "'https://www.latamairlines.com/pe/es/ofertas-vuelos?origin=LIM&outbound=2023-05-01T12%3A00%3A00.000Z&destination=MAD&inbound=2023-08-27T12%3A00%3A00.000Z&adt=2&chd=1&inf=1&trip=RT&cabin=Economy&redemption=false&sort=RECOMMENDED'"
      ]
     },
     "execution_count": 45,
     "metadata": {},
     "output_type": "execute_result"
    }
   ],
   "source": [
    "## ver en qué url estoy, latam siempre te bota el resultado en una neuva pestaña o tab y tendráis que ir a dicha tab para continuar con la vaina\n",
    "driver.current_url"
   ]
  },
  {
   "cell_type": "code",
   "execution_count": 26,
   "metadata": {},
   "outputs": [],
   "source": [
    "driver.switch_to.window(driver.window_handles[1])"
   ]
  },
  {
   "cell_type": "code",
   "execution_count": null,
   "metadata": {},
   "outputs": [],
   "source": []
  },
  {
   "cell_type": "code",
   "execution_count": 46,
   "metadata": {},
   "outputs": [],
   "source": [
    "def premiums(vuelo):\n",
    "    \n",
    "    tarifas = vuelo.find_elements(By.XPATH, \".//div[@class='sc-bveJEc bPLtvA']\")\n",
    "    \n",
    "    precios = []\n",
    "\n",
    "    for tarifa in tarifas:\n",
    "        precio = tarifa.find_elements(By.XPATH, \".//span[@class='sc-lmrgJh bggiiV']\")\n",
    "        currency = tarifa.find_elements(By.XPATH, \".//span[@class='sc-lmrgJh bggiiV currency']\")\n",
    "        clase = tarifa.find_elements(By.XPATH, \".//span[@class='sc-khKDHO kCIAAi']\")\n",
    "        sublista = list(range(len(clase)))\n",
    "        for i in sublista:\n",
    "            dict_tarifa = {clase[i].text:{\"moneda\":currency[i].text, \"valor\":precio[i].text}}\n",
    "            precios.append(dict_tarifa)\n",
    "    return precios"
   ]
  },
  {
   "cell_type": "code",
   "execution_count": 47,
   "metadata": {},
   "outputs": [],
   "source": [
    "def obtener_datos_escalas(vuelo):\n",
    "\n",
    "    info_escalas = []\n",
    "    time.sleep(2)\n",
    "    aeroporto = driver.find_elements(By.XPATH, \"//span[@class='ariport-name']\")\n",
    "    time.sleep(2)\n",
    "    lugar = driver.find_elements(By.XPATH, \"//span['%%']\")\n",
    "    time.sleep(2)\n",
    "    partida_hr= driver.find_elements(By.XPATH, \"//span[@class='time']\")\n",
    "    time.sleep(2)\n",
    "    \n",
    "    print(len(partida_hr))\n",
    "        \n",
    "    if len(partida_hr)>4:\n",
    "        data_dict = {\n",
    "                \"origen\": lugar[0].text,\n",
    "                \"aeroporto_origen\": aeroporto[0].text,\n",
    "                \"destino\": lugar[1].text,\n",
    "                \"aeroporto_destino\": aeroporto[1].text,\n",
    "\n",
    "                \"dept_time\": partida_hr[0].text,\n",
    "                \"duracion_vuelo\": partida_hr[1].text,\n",
    "                \"arr_time\": partida_hr[2].text,\n",
    "\n",
    "                \"dura_escala\": partida_hr[3].text,\n",
    "\n",
    "                \"origen2\": lugar[2].text,\n",
    "                \"aeroporto_origen2\": aeroporto[2].text,\n",
    "                \"destino2\": lugar[3].text,\n",
    "                \"aeroporto_destino2\": aeroporto[3].text,\n",
    "\n",
    "                \"dept_time2\": partida_hr[4].text,\n",
    "                \"duracion_vuelo2\": partida_hr[5].text,\n",
    "                \"arr_time2\": partida_hr[6].text,\n",
    "            }\n",
    "        info_escalas.append(data_dict)\n",
    "    else:\n",
    "        data_dict = {\n",
    "                \"origen\": lugar[0].text,\n",
    "                \"aeroporto_origen\": aeroporto[0].text,\n",
    "                \"destino\": lugar[1].text,\n",
    "                \"aeroporto_destino\": aeroporto[1].text,\n",
    "\n",
    "                \"dept_time\": partida_hr[0].text,\n",
    "                \"duracion_vuelo\": partida_hr[1].text,\n",
    "                \"arr_time\": partida_hr[2].text,\n",
    "\n",
    "            }\n",
    "                \n",
    "        info_escalas.append(data_dict)\n",
    "    return info_escalas\n"
   ]
  },
  {
   "cell_type": "code",
   "execution_count": 48,
   "metadata": {},
   "outputs": [],
   "source": [
    "def obtener_tiempos(vuelo):\n",
    "    salida=vuelo.find_elements(By.XPATH, \".//span[@class='sc-jbxdUx irLFPy']\")\n",
    "    llegada=vuelo.find_elements(By.XPATH, \".//span[@class='sc-bMuqKn iZseNN']\")\n",
    "    duracion=vuelo.find_elements(By.XPATH, \"(.//span[@class='sc-jbxdUx irLFPy'])[2]\")\n",
    "    \n",
    "    sublista = list(range(len(duracion)))\n",
    "    for i in sublista:\n",
    "        tiempos = {\"hora_salida\": salida[i].text, \"hora_llegada\":llegada[i].text,\n",
    "                   \"duracion\":duracion[i].text}\n",
    "        return tiempos"
   ]
  },
  {
   "cell_type": "code",
   "execution_count": 49,
   "metadata": {},
   "outputs": [],
   "source": [
    "def obtener_info(vuelo):\n",
    "    vuelos = driver.find_elements(By.XPATH, \"//li[@class='sc-fQfKYo hqsges']\")\n",
    "    vuelos = vuelos[:2]\n",
    "\n",
    "    print(f\"Se encontraron {len(vuelos)} vuelos.\")\n",
    "    print(\"Iniciando Scraping...\")\n",
    "    info = []\n",
    "    for vuelo in vuelos:\n",
    "\n",
    "        tiempos = obtener_tiempos(vuelo)\n",
    "\n",
    "        boton = vuelo.find_elements(By.XPATH, \".//a[@data-reference='modal-air-offers']\")     \n",
    "        boton[0].click()  \n",
    "        escalas = obtener_datos_escalas(vuelo)\n",
    "\n",
    "        time.sleep(5)\n",
    "        cierro = driver.find_elements(By.XPATH, \".//button[@type='button']\")\n",
    "        cierro[0].click()\n",
    "        time.sleep(3)\n",
    "\n",
    "        vuelo.click()\n",
    "        precios = premiums(vuelo)\n",
    "        time.sleep(2)\n",
    "        cierro = driver.find_elements(By.XPATH, \".//button[@type='button']\")\n",
    "        cierro[0].click()\n",
    "        time.sleep(2)\n",
    "        info.append({\"precios\":precios, \"tiempos\":tiempos,\"escalas\":escalas})\n",
    "    return info\n",
    "        "
   ]
  },
  {
   "cell_type": "code",
   "execution_count": 51,
   "metadata": {},
   "outputs": [
    {
     "data": {
      "text/plain": [
       "[<selenium.webdriver.remote.webelement.WebElement (session=\"4aa77b3c300a7c39d94826f3608e45f8\", element=\"491a3c82-91d7-4cb6-9476-e095932ddfb1\")>,\n",
       " <selenium.webdriver.remote.webelement.WebElement (session=\"4aa77b3c300a7c39d94826f3608e45f8\", element=\"b1e84d2d-bc8a-41c9-b8b6-d63b6f0db478\")>,\n",
       " <selenium.webdriver.remote.webelement.WebElement (session=\"4aa77b3c300a7c39d94826f3608e45f8\", element=\"398de272-d022-4022-a540-f44dcdd135c2\")>,\n",
       " <selenium.webdriver.remote.webelement.WebElement (session=\"4aa77b3c300a7c39d94826f3608e45f8\", element=\"fb1f44a3-0832-4c4d-9b76-921f6ca6ad6d\")>,\n",
       " <selenium.webdriver.remote.webelement.WebElement (session=\"4aa77b3c300a7c39d94826f3608e45f8\", element=\"7b7aead7-a662-48f8-9e9c-ff31e55bcd82\")>,\n",
       " <selenium.webdriver.remote.webelement.WebElement (session=\"4aa77b3c300a7c39d94826f3608e45f8\", element=\"5145b741-65a8-48d6-b09e-8c3db07115d3\")>,\n",
       " <selenium.webdriver.remote.webelement.WebElement (session=\"4aa77b3c300a7c39d94826f3608e45f8\", element=\"c338a1d2-606f-4c36-80ba-2bb8ada040c4\")>,\n",
       " <selenium.webdriver.remote.webelement.WebElement (session=\"4aa77b3c300a7c39d94826f3608e45f8\", element=\"246d42b9-8cbf-4092-abee-9da9e7a5dd4a\")>,\n",
       " <selenium.webdriver.remote.webelement.WebElement (session=\"4aa77b3c300a7c39d94826f3608e45f8\", element=\"d684b228-1475-4f36-a7cf-003d94af4b12\")>,\n",
       " <selenium.webdriver.remote.webelement.WebElement (session=\"4aa77b3c300a7c39d94826f3608e45f8\", element=\"60e0b8ff-52d3-4461-9b22-a3bda3f41da8\")>,\n",
       " <selenium.webdriver.remote.webelement.WebElement (session=\"4aa77b3c300a7c39d94826f3608e45f8\", element=\"97e3ee76-1f2c-4765-938b-97aaba2d9577\")>,\n",
       " <selenium.webdriver.remote.webelement.WebElement (session=\"4aa77b3c300a7c39d94826f3608e45f8\", element=\"da1608d7-9c8a-4b05-bd00-f0a8e06d7ebb\")>,\n",
       " <selenium.webdriver.remote.webelement.WebElement (session=\"4aa77b3c300a7c39d94826f3608e45f8\", element=\"a9f815f8-10b1-444f-a439-8c494470a3ea\")>,\n",
       " <selenium.webdriver.remote.webelement.WebElement (session=\"4aa77b3c300a7c39d94826f3608e45f8\", element=\"71c6f8ad-8c44-4176-a6a2-9d7d8838bd67\")>,\n",
       " <selenium.webdriver.remote.webelement.WebElement (session=\"4aa77b3c300a7c39d94826f3608e45f8\", element=\"228cf5b3-5f81-46fc-af8c-1df8d895cb11\")>,\n",
       " <selenium.webdriver.remote.webelement.WebElement (session=\"4aa77b3c300a7c39d94826f3608e45f8\", element=\"ee5f0d70-3fcd-419c-bbe6-9b5378064fcc\")>,\n",
       " <selenium.webdriver.remote.webelement.WebElement (session=\"4aa77b3c300a7c39d94826f3608e45f8\", element=\"37622edb-a121-4f73-9b7b-a873015d1b22\")>,\n",
       " <selenium.webdriver.remote.webelement.WebElement (session=\"4aa77b3c300a7c39d94826f3608e45f8\", element=\"e4dadcbf-313e-4f15-9765-e64c81d44d33\")>,\n",
       " <selenium.webdriver.remote.webelement.WebElement (session=\"4aa77b3c300a7c39d94826f3608e45f8\", element=\"f65a23e1-7265-41a6-a404-564ec4bb5d85\")>,\n",
       " <selenium.webdriver.remote.webelement.WebElement (session=\"4aa77b3c300a7c39d94826f3608e45f8\", element=\"c0f6245c-a32d-4eae-a66c-39e7903dab7a\")>,\n",
       " <selenium.webdriver.remote.webelement.WebElement (session=\"4aa77b3c300a7c39d94826f3608e45f8\", element=\"8fdeceac-ea94-43c4-b34a-c3d880a4e3bb\")>,\n",
       " <selenium.webdriver.remote.webelement.WebElement (session=\"4aa77b3c300a7c39d94826f3608e45f8\", element=\"d8131a6c-2e46-4e42-8693-15c03288c0fe\")>,\n",
       " <selenium.webdriver.remote.webelement.WebElement (session=\"4aa77b3c300a7c39d94826f3608e45f8\", element=\"d576c2a1-9f83-4287-9d81-dd55b819da86\")>,\n",
       " <selenium.webdriver.remote.webelement.WebElement (session=\"4aa77b3c300a7c39d94826f3608e45f8\", element=\"6db55853-6f3d-4618-8d92-652f0a37d7f7\")>,\n",
       " <selenium.webdriver.remote.webelement.WebElement (session=\"4aa77b3c300a7c39d94826f3608e45f8\", element=\"86f9e805-3368-49c1-826e-9f84252a7764\")>,\n",
       " <selenium.webdriver.remote.webelement.WebElement (session=\"4aa77b3c300a7c39d94826f3608e45f8\", element=\"e0f46e2a-801c-4c99-8faf-0304a0e18578\")>,\n",
       " <selenium.webdriver.remote.webelement.WebElement (session=\"4aa77b3c300a7c39d94826f3608e45f8\", element=\"33f87879-1d3b-4e04-829b-07e5e6baab42\")>,\n",
       " <selenium.webdriver.remote.webelement.WebElement (session=\"4aa77b3c300a7c39d94826f3608e45f8\", element=\"5d5590a4-4ac4-4f4b-8bee-de8915da848d\")>,\n",
       " <selenium.webdriver.remote.webelement.WebElement (session=\"4aa77b3c300a7c39d94826f3608e45f8\", element=\"7477bfa0-2972-4f45-be9a-e5feb7afd978\")>]"
      ]
     },
     "execution_count": 51,
     "metadata": {},
     "output_type": "execute_result"
    }
   ],
   "source": [
    "vuelos = driver.find_elements(By.XPATH, \"//li[@class='sc-fQfKYo hqsges']\")\n",
    "vuelos"
   ]
  },
  {
   "cell_type": "code",
   "execution_count": 52,
   "metadata": {},
   "outputs": [],
   "source": [
    "vuelo =  vuelos[1]"
   ]
  },
  {
   "cell_type": "code",
   "execution_count": 53,
   "metadata": {},
   "outputs": [
    {
     "name": "stdout",
     "output_type": "stream",
     "text": [
      "Se encontraron 2 vuelos.\n",
      "Iniciando Scraping...\n",
      "3\n",
      "7\n"
     ]
    },
    {
     "data": {
      "text/plain": [
       "[{'precios': [],\n",
       "  'tiempos': {'hora_salida': '22:55',\n",
       "   'hora_llegada': '11 h 25 min',\n",
       "   'duracion': '17:20\\n+1'},\n",
       "  'escalas': [{'origen': '',\n",
       "    'aeroporto_origen': 'J Chavez Intl.',\n",
       "    'destino': 'Navegación de secciones de usuario.',\n",
       "    'aeroporto_destino': 'Barajas Intl.',\n",
       "    'dept_time': '22:55',\n",
       "    'duracion_vuelo': '11 h 25 min',\n",
       "    'arr_time': '17:20'}]},\n",
       " {'precios': [],\n",
       "  'tiempos': {'hora_salida': '9:00',\n",
       "   'hora_llegada': '24 h 5 min',\n",
       "   'duracion': '16:05\\n+1'},\n",
       "  'escalas': [{'origen': '',\n",
       "    'aeroporto_origen': 'J Chavez Intl.',\n",
       "    'destino': 'Navegación de secciones de usuario.',\n",
       "    'aeroporto_destino': 'A. Merino Benitez Intl.',\n",
       "    'dept_time': '9:00',\n",
       "    'duracion_vuelo': '3 h 30 min',\n",
       "    'arr_time': '13:30',\n",
       "    'dura_escala': '7 h 50 min',\n",
       "    'origen2': 'Latam Airlines',\n",
       "    'aeroporto_origen2': 'A. Merino Benitez Intl.',\n",
       "    'destino2': '',\n",
       "    'aeroporto_destino2': 'Barajas Intl.',\n",
       "    'dept_time2': '21:20',\n",
       "    'duracion_vuelo2': '12 h 45 min',\n",
       "    'arr_time2': '16:05'}]}]"
      ]
     },
     "execution_count": 53,
     "metadata": {},
     "output_type": "execute_result"
    }
   ],
   "source": [
    "obtener_info(vuelo)"
   ]
  },
  {
   "cell_type": "code",
   "execution_count": 54,
   "metadata": {},
   "outputs": [],
   "source": [
    "driver.close()"
   ]
  },
  {
   "cell_type": "code",
   "execution_count": null,
   "metadata": {},
   "outputs": [],
   "source": []
  }
 ],
 "metadata": {
  "kernelspec": {
   "display_name": "Python 3",
   "language": "python",
   "name": "python3"
  },
  "language_info": {
   "codemirror_mode": {
    "name": "ipython",
    "version": 3
   },
   "file_extension": ".py",
   "mimetype": "text/x-python",
   "name": "python",
   "nbconvert_exporter": "python",
   "pygments_lexer": "ipython3",
   "version": "3.8.3"
  }
 },
 "nbformat": 4,
 "nbformat_minor": 4
}
