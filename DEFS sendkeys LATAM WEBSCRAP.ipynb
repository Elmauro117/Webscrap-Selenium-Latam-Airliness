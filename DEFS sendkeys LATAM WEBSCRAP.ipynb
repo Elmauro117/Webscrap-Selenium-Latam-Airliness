{
 "cells": [
  {
   "cell_type": "code",
   "execution_count": 1,
   "metadata": {},
   "outputs": [],
   "source": [
    "import requests\n",
    "from bs4 import BeautifulSoup\n",
    "import time"
   ]
  },
  {
   "cell_type": "code",
   "execution_count": 2,
   "metadata": {},
   "outputs": [],
   "source": [
    "#url = \"https://www.latamairlines.com/pe/es/ofertas-vuelos?origin=LIM&inbound=2023-06-24T17%3A00%3A00.000Z&outbound=2023-05-20T17%3A00%3A00.000Z&destination=MAD&adt=1&chd=0&inf=0&trip=RT&cabin=Economy&redemption=false&sort=RECOMMENDED\"\n",
    "\n",
    "url =\"https://www.latamairlines.com/pe/es\""
   ]
  },
  {
   "cell_type": "code",
   "execution_count": 3,
   "metadata": {},
   "outputs": [],
   "source": [
    "r = requests.get(url)"
   ]
  },
  {
   "cell_type": "code",
   "execution_count": 4,
   "metadata": {},
   "outputs": [
    {
     "data": {
      "text/plain": [
       "200"
      ]
     },
     "execution_count": 4,
     "metadata": {},
     "output_type": "execute_result"
    }
   ],
   "source": [
    "r.status_code"
   ]
  },
  {
   "cell_type": "code",
   "execution_count": 5,
   "metadata": {},
   "outputs": [],
   "source": [
    "s = BeautifulSoup(r.text,'lxml')"
   ]
  },
  {
   "cell_type": "code",
   "execution_count": 6,
   "metadata": {},
   "outputs": [],
   "source": [
    "from selenium import webdriver\n",
    "from selenium.webdriver import Keys\n",
    "from selenium.webdriver.support.ui import Select\n",
    "from selenium.webdriver.common.by import By\n",
    "from selenium.webdriver.common.action_chains import ActionChains\n",
    "from selenium.webdriver.common.keys import Keys"
   ]
  },
  {
   "cell_type": "code",
   "execution_count": 7,
   "metadata": {},
   "outputs": [
    {
     "name": "stderr",
     "output_type": "stream",
     "text": [
      "<ipython-input-7-b6fdade9fe4e>:5: DeprecationWarning: executable_path has been deprecated, please pass in a Service object\n",
      "  driver = webdriver.Chrome(executable_path=r\"F:\\\\Chrome driver\\\\chromedriver.exe\", options = options)\n"
     ]
    }
   ],
   "source": [
    "options = webdriver.ChromeOptions()\n",
    "time.sleep(0.7)\n",
    "options.add_argument(\"--incognito\")\n",
    "time.sleep(0.7)\n",
    "driver = webdriver.Chrome(executable_path=r\"F:\\\\Chrome driver\\\\chromedriver.exe\", options = options)"
   ]
  },
  {
   "cell_type": "code",
   "execution_count": 19,
   "metadata": {},
   "outputs": [
    {
     "ename": "AttributeError",
     "evalue": "'list' object has no attribute 'click'",
     "output_type": "error",
     "traceback": [
      "\u001b[1;31m---------------------------------------------------------------------------\u001b[0m",
      "\u001b[1;31mAttributeError\u001b[0m                            Traceback (most recent call last)",
      "\u001b[1;32m<ipython-input-19-2f9d61011956>\u001b[0m in \u001b[0;36m<module>\u001b[1;34m\u001b[0m\n\u001b[0;32m      9\u001b[0m \u001b[0mtime\u001b[0m\u001b[1;33m.\u001b[0m\u001b[0msleep\u001b[0m\u001b[1;33m(\u001b[0m\u001b[1;36m1.4\u001b[0m\u001b[1;33m)\u001b[0m\u001b[1;33m\u001b[0m\u001b[1;33m\u001b[0m\u001b[0m\n\u001b[0;32m     10\u001b[0m \u001b[0mque_aeroporto\u001b[0m \u001b[1;33m=\u001b[0m \u001b[0mdriver\u001b[0m\u001b[1;33m.\u001b[0m\u001b[0mfind_elements\u001b[0m\u001b[1;33m(\u001b[0m\u001b[0mBy\u001b[0m\u001b[1;33m.\u001b[0m\u001b[0mXPATH\u001b[0m\u001b[1;33m,\u001b[0m \u001b[1;34m\"//input[@id='sc-bCQtTp bNAKTR']\"\u001b[0m\u001b[1;33m)\u001b[0m\u001b[1;33m\u001b[0m\u001b[1;33m\u001b[0m\u001b[0m\n\u001b[1;32m---> 11\u001b[1;33m \u001b[0mque_aeroporto\u001b[0m\u001b[1;33m.\u001b[0m\u001b[0mclick\u001b[0m\u001b[1;33m(\u001b[0m\u001b[1;33m)\u001b[0m\u001b[1;33m\u001b[0m\u001b[1;33m\u001b[0m\u001b[0m\n\u001b[0m\u001b[0;32m     12\u001b[0m \u001b[1;33m\u001b[0m\u001b[0m\n\u001b[0;32m     13\u001b[0m \u001b[1;33m\u001b[0m\u001b[0m\n",
      "\u001b[1;31mAttributeError\u001b[0m: 'list' object has no attribute 'click'"
     ]
    }
   ],
   "source": [
    "donde_partes = driver.find_element(By.XPATH, \"//input[@id='txtInputOrigin_field']\")\n",
    "donde_partes.click()\n",
    "\n",
    "lugars = \"Londres\"\n",
    "for character in lugars:\n",
    "    donde_partes.send_keys(character)\n",
    "    time.sleep(0.3)\n",
    "\n",
    "time.sleep(1.4)\n",
    "que_aeroporto = driver.find_elements(By.XPATH, \"//input[@id='sc-bCQtTp bNAKTR']\")\n",
    "que_aeroporto.click()\n",
    "    \n",
    "    \n",
    "    \n",
    "\n",
    "#donde_arribas =  driver.find_element(By.XPATH, \"//input[@id='txtInputDestination_field']\")\n",
    "\n",
    "## Elegiremos el primer aeropuerto de la lista\n",
    "#que_aeroporto = driver.find_elements(By.XPATH, \"//input[@id='sc-bCQtTp bNAKTR']\")\n",
    "#que_aeroporto.click()"
   ]
  },
  {
   "cell_type": "code",
   "execution_count": 55,
   "metadata": {},
   "outputs": [],
   "source": [
    "\n",
    "donde_partes = driver.find_element(By.XPATH, \"//input[@id='txtInputOrigin_field']\")\n",
    "donde_partes.click()\n",
    "\n",
    "lugars = \"Londres\"\n",
    "for character in lugars:\n",
    "    donde_partes.send_keys(character)\n",
    "    time.sleep(0.3)\n",
    "\n",
    "    \n",
    "    ### TUIENES QUE CORRER ESTA VAINA 2 VECES\n",
    "    ### TUIENES QUE CORRER ESTA VAINA 2 VECES\n",
    "    ### TUIENES QUE CORRER ESTA VAINA 2 VECES\n",
    "    ### TUIENES QUE CORRER ESTA VAINA 2 VECES\n",
    "\n",
    "saaaa = driver.find_element(By.XPATH, \"//ul[@id='listAutoComplete']\")\n",
    "time.sleep(1)\n",
    "match_aeroporto = saaaa.find_elements(By.XPATH, \".//div[@class='sc-eghKGU cDOfgz']\")    \n",
    "time.sleep(1)\n",
    "boton_porto =  saaaa.find_elements(By.XPATH, \".//li[@class='sc-fUKxqW jVNaws']\")\n",
    "\n",
    "lista_portos = []\n",
    "\n",
    "for z in match_aeroporto :\n",
    "    ga = z.text\n",
    "    time.sleep(1.1)\n",
    "    lista_portos.append(ga)\n",
    "\n",
    "time.sleep(1.3)\n",
    "\n",
    "\n",
    "x = \"Gatwick\"\n",
    "if x in lista_portos:\n",
    "    indice= lista_portos.index(x)\n",
    "    siu = boton_porto[indice]\n",
    "    time.sleep(0.7)\n",
    "    siu.click()"
   ]
  },
  {
   "cell_type": "code",
   "execution_count": 74,
   "metadata": {},
   "outputs": [],
   "source": [
    "def partes_llegas(lugar_partida, aeropuerto_partida, lugar_llegada=None,aeropuerto_llegada=None):\n",
    "    donde_partes = driver.find_element(By.XPATH, \"//input[@id='txtInputOrigin_field']\")\n",
    "    donde_partes.click()\n",
    "    time.sleep(0.7)\n",
    "\n",
    "    lugars = lugar_partida\n",
    "    for character in lugars:\n",
    "        donde_partes.send_keys(character)\n",
    "        time.sleep(0.3)\n",
    "\n",
    "\n",
    "        ### TUIENES QUE CORRER ESTA VAINA 2 VECES\n",
    "        ### TUIENES QUE CORRER ESTA VAINA 2 VECES\n",
    "        ### TUIENES QUE CORRER ESTA VAINA 2 VECES\n",
    "        ### TUIENES QUE CORRER ESTA VAINA 2 VECES\n",
    "\n",
    "    saaaa = driver.find_element(By.XPATH, \"//ul[@id='listAutoComplete']\")\n",
    "    time.sleep(0.7)\n",
    "    match_aeroporto = saaaa.find_elements(By.XPATH, \".//div[@class='sc-eghKGU cDOfgz']\")    \n",
    "    time.sleep(0.8)\n",
    "    boton_porto =  saaaa.find_elements(By.XPATH, \".//li[@class='sc-fUKxqW jVNaws']\")\n",
    "\n",
    "    lista_portos = []\n",
    "\n",
    "    for z in match_aeroporto :\n",
    "        ga = z.text\n",
    "        time.sleep(1.1)\n",
    "        lista_portos.append(ga)\n",
    "\n",
    "    time.sleep(1.3)\n",
    "\n",
    "\n",
    "    x = aeropuerto_partida\n",
    "    if x in lista_portos:\n",
    "        indice= lista_portos.index(x)\n",
    "        siu = boton_porto[indice]\n",
    "        time.sleep(0.7)\n",
    "        siu.click()\n",
    "        \n",
    "        \n",
    "## DONDE LLEGAS ::::\n",
    "    time.sleep(1.3)\n",
    "        \n",
    "    donde_llegas = driver.find_element(By.XPATH, \"//input[@id='txtInputDestination_field']\")\n",
    "    donde_llegas.click()\n",
    "    time.sleep(0.7)\n",
    "    \n",
    "    if lugar_llegada is not None and aeropuerto_llegada is not None:\n",
    "        #lugar_llegada = lugar_llegada\n",
    "        for character in lugar_llegada:\n",
    "            donde_llegas.send_keys(character)\n",
    "            time.sleep(0.3)\n",
    "\n",
    "        saaaa_2 = driver.find_element(By.XPATH, \"//ul[@id='listAutoComplete']\")\n",
    "        match_aeroporto_2 = saaaa_2.find_elements(By.XPATH, \".//div[@class='sc-eghKGU cDOfgz']\")    \n",
    "        boton_porto_2 =  saaaa_2.find_elements(By.XPATH, \".//li[@class='sc-fUKxqW jVNaws']\")\n",
    "        time.sleep(0.7)\n",
    "\n",
    "        lista_portos_2 = []\n",
    "\n",
    "        for zz in match_aeroporto_2:\n",
    "            ga = zz.text\n",
    "            time.sleep(1.1)\n",
    "            lista_portos_2.append(ga)\n",
    "\n",
    "\n",
    "\n",
    "        y = aeropuerto_llegada\n",
    "        if y in lista_portos_2:\n",
    "            indice= lista_portos_2.index(y)\n",
    "            siu = boton_porto_2[indice]\n",
    "            time.sleep(0.7)\n",
    "            siu.click()\n",
    "    else:\n",
    "        pass"
   ]
  },
  {
   "cell_type": "code",
   "execution_count": 52,
   "metadata": {},
   "outputs": [],
   "source": [
    "    ### TUIENES QUE CORRER ESTA VAINA 2 VECES\n",
    "    ### TUIENES QUE CORRER ESTA VAINA 2 VECES\n",
    "    ### TUIENES QUE CORRER ESTA VAINA 2 VECES\n",
    "    ### TUIENES QUE CORRER ESTA VAINA 2 VECES"
   ]
  },
  {
   "cell_type": "code",
   "execution_count": 56,
   "metadata": {},
   "outputs": [],
   "source": [
    "donde_llegas = driver.find_element(By.XPATH, \"//input[@id='txtInputDestination_field']\")\n",
    "donde_llegas.click()\n",
    "\n",
    "lugars = \"Madr\"\n",
    "for character in lugars:\n",
    "    donde_llegas.send_keys(character)\n",
    "    time.sleep(0.3)\n",
    "\n",
    "saaaa_2 = driver.find_element(By.XPATH, \"//ul[@id='listAutoComplete']\")\n",
    "match_aeroporto_2 = saaaa_2.find_elements(By.XPATH, \".//div[@class='sc-eghKGU cDOfgz']\")    \n",
    "boton_porto_2 =  saaaa_2.find_elements(By.XPATH, \".//li[@class='sc-fUKxqW jVNaws']\")\n",
    "\n",
    "lista_portos_2 = []\n",
    "\n",
    "for zz in match_aeroporto_2:\n",
    "    ga = zz.text\n",
    "    time.sleep(1.1)\n",
    "    lista_portos_2.append(ga)\n",
    "\n",
    "\n",
    "\n",
    "x = \"Barajas Intl.\"\n",
    "if x in lista_portos_2:\n",
    "    indice= lista_portos_2.index(x)\n",
    "    siu = boton_porto_2[indice]\n",
    "    time.sleep(0.7)\n",
    "    siu.click()"
   ]
  },
  {
   "cell_type": "code",
   "execution_count": 61,
   "metadata": {},
   "outputs": [
    {
     "ename": "TypeError",
     "evalue": "'NoneType' object is not iterable",
     "output_type": "error",
     "traceback": [
      "\u001b[1;31m---------------------------------------------------------------------------\u001b[0m",
      "\u001b[1;31mTypeError\u001b[0m                                 Traceback (most recent call last)",
      "\u001b[1;32m<ipython-input-61-ac556eeb4687>\u001b[0m in \u001b[0;36m<module>\u001b[1;34m\u001b[0m\n\u001b[1;32m----> 1\u001b[1;33m \u001b[0mpartes_llegas\u001b[0m\u001b[1;33m(\u001b[0m\u001b[1;34m\"Londr\"\u001b[0m\u001b[1;33m,\u001b[0m\u001b[1;34m\"Gatwick\"\u001b[0m\u001b[1;33m)\u001b[0m\u001b[1;33m\u001b[0m\u001b[1;33m\u001b[0m\u001b[0m\n\u001b[0m",
      "\u001b[1;32m<ipython-input-59-599158156fa4>\u001b[0m in \u001b[0;36mpartes_llegas\u001b[1;34m(lugar_partida, aeropuerto_partida, lugar_llegada, aeropuerto_llegada)\u001b[0m\n\u001b[0;32m     47\u001b[0m \u001b[1;33m\u001b[0m\u001b[0m\n\u001b[0;32m     48\u001b[0m     \u001b[0mlugar_llegada\u001b[0m \u001b[1;33m=\u001b[0m \u001b[0mlugar_llegada\u001b[0m\u001b[1;33m\u001b[0m\u001b[1;33m\u001b[0m\u001b[0m\n\u001b[1;32m---> 49\u001b[1;33m     \u001b[1;32mfor\u001b[0m \u001b[0mcharacter\u001b[0m \u001b[1;32min\u001b[0m \u001b[0mlugar_llegada\u001b[0m\u001b[1;33m:\u001b[0m\u001b[1;33m\u001b[0m\u001b[1;33m\u001b[0m\u001b[0m\n\u001b[0m\u001b[0;32m     50\u001b[0m         \u001b[0mdonde_llegas\u001b[0m\u001b[1;33m.\u001b[0m\u001b[0msend_keys\u001b[0m\u001b[1;33m(\u001b[0m\u001b[0mcharacter\u001b[0m\u001b[1;33m)\u001b[0m\u001b[1;33m\u001b[0m\u001b[1;33m\u001b[0m\u001b[0m\n\u001b[0;32m     51\u001b[0m         \u001b[0mtime\u001b[0m\u001b[1;33m.\u001b[0m\u001b[0msleep\u001b[0m\u001b[1;33m(\u001b[0m\u001b[1;36m0.3\u001b[0m\u001b[1;33m)\u001b[0m\u001b[1;33m\u001b[0m\u001b[1;33m\u001b[0m\u001b[0m\n",
      "\u001b[1;31mTypeError\u001b[0m: 'NoneType' object is not iterable"
     ]
    }
   ],
   "source": [
    "partes_llegas(\"Londr\",\"Gatwick\")"
   ]
  },
  {
   "cell_type": "code",
   "execution_count": 40,
   "metadata": {},
   "outputs": [],
   "source": [
    "## IDa o vuelta o ambas\n",
    "\n",
    "\n",
    "### Pon 0 o 1\n",
    "def elige_ida_vuelta(ida=None,vYi=None):\n",
    "    ida = ida\n",
    "    vYi = vYi\n",
    "    \n",
    "    click_ida_vuelta = driver.find_element(By.XPATH, \"//div[@class='sc-dzVpKk jfONHk']\")\n",
    "    click_ida_vuelta.click()\n",
    "    time.sleep(3)\n",
    "    \n",
    "    ques = []\n",
    "    if ida == 1:\n",
    "        Solo_ida = driver.find_element(By.XPATH, \".//button[@id='btnTripType0']\")\n",
    "        Solo_ida.click()\n",
    "        \n",
    "        ques.append(\"ida\")\n",
    "        \n",
    "    else:\n",
    "        Ida_vuelta = driver.find_element(By.XPATH, \".//button[@id='btnTripType1']\")\n",
    "        Ida_vuelta.click()\n",
    "        ques.append(\"ida y retorno\")\n",
    "        \n",
    "    return ques\n",
    "    \n",
    " #### ACA tambn 0 y 1   \n",
    "def elige_economico_caro(barato=None,mid=None,cara=None):\n",
    "    \n",
    "    barato = barato\n",
    "    mid = mid\n",
    "    cara = cara    \n",
    "    \n",
    "    click_eco = driver.find_element(By.XPATH, \"//button[@class='sc-dAWfgX SNJiG']\")\n",
    "    click_eco.click()\n",
    "    \n",
    "    ques_barato=[]\n",
    "    time.sleep(1)\n",
    "    if barato == 1:\n",
    "        economy = driver.find_element(By.XPATH, \".//button[@id='btnCabinType0']\")\n",
    "        economy.click()\n",
    "        ques_barato.append(\"barato\")\n",
    "        \n",
    "    elif mid == 1:\n",
    "        premium = driver.find_element(By.XPATH, \".//button[@id='btnCabinType1']\")\n",
    "        premium.click()\n",
    "        ques_barato.append(\"mid\")\n",
    "    \n",
    "    else:\n",
    "        premium_top = driver.find_element(By.XPATH, \".//button[@id='btnCabinType2']\")\n",
    "        premium_top.click()\n",
    "        ques_barato.append(\"cara\")\n",
    "\n",
    "    \n",
    "    ###\n",
    "    \n",
    "    ### RECUERDA QUE SOLO SE PERMITE 1 BEBE POR ADULTO\n",
    "def cuantos_pajeros(adultos=None,ninos=None,bebes=None):\n",
    "    \n",
    "    if adultos == 0:\n",
    "        print(\"eres HUEVON causa\")\n",
    "        return\n",
    "    \n",
    "    click_eco = driver.find_element(By.XPATH, \".//div[@class='sc-LAuEU eHebXt']\")\n",
    "    click_eco.click()\n",
    "    time.sleep(1)\n",
    "   \n",
    "        \n",
    "\n",
    "    boomers = driver.find_element(By.XPATH, \".//li[@id='sectionAddAdults']\")\n",
    "    boomers = boomers.find_element(By.XPATH, \".//button[@id='btnPlusAdults']\")\n",
    "    time.sleep(1)\n",
    "    n = 0\n",
    "    if adultos is None or adultos == 1:\n",
    "        pass\n",
    "    else:\n",
    "        while n < adultos-1:\n",
    "                n += 1\n",
    "                time.sleep(0.3)\n",
    "                boomers.click()\n",
    "    \n",
    "    \n",
    "    mocosos = driver.find_element(By.XPATH, \".//li[@id='sectionAddChildren']\")\n",
    "    mocosos = mocosos.find_element(By.XPATH, \".//button[@id='btnPlusChildren']\")\n",
    "    time.sleep(1)\n",
    "    n = 0\n",
    "    if ninos == 0 or ninos == None:\n",
    "        pass\n",
    "    else:\n",
    "        while n < ninos:\n",
    "            n += 1\n",
    "            time.sleep(0.4)\n",
    "            mocosos.click()\n",
    "\n",
    "       \n",
    "    wawas = driver.find_element(By.XPATH, \".//li[@id='sectionAddInfant']\")\n",
    "    wawas = wawas.find_element(By.XPATH, \".//button[@id='btnPlusInfant']\")\n",
    "    time.sleep(1)\n",
    "    n = 0\n",
    "    if bebes == 0 or bebes == None:\n",
    "        pass\n",
    "    else:\n",
    "        while n < bebes:\n",
    "            n += 1\n",
    "            time.sleep(0.6)\n",
    "            wawas.click()\n",
    "            \n",
    "    time.sleep(1.7)\n",
    "\n",
    "    action = webdriver.ActionChains(driver)\n",
    "    action.move_by_offset(10,10).click().perform()\n",
    "\n",
    "    time.sleep(0.7)\n",
    "    #blanco.click()"
   ]
  },
  {
   "cell_type": "code",
   "execution_count": 145,
   "metadata": {},
   "outputs": [
    {
     "data": {
      "text/plain": [
       "['ida y retorno']"
      ]
     },
     "execution_count": 145,
     "metadata": {},
     "output_type": "execute_result"
    }
   ],
   "source": [
    "elige_ida_vuelta(0,1)"
   ]
  },
  {
   "cell_type": "code",
   "execution_count": 146,
   "metadata": {},
   "outputs": [],
   "source": [
    "elige_economico_caro(0,0,1)"
   ]
  },
  {
   "cell_type": "code",
   "execution_count": 147,
   "metadata": {},
   "outputs": [],
   "source": [
    "cuantos_pajeros(1,1,1)"
   ]
  },
  {
   "cell_type": "code",
   "execution_count": 148,
   "metadata": {},
   "outputs": [],
   "source": [
    "partes_llegas(\"Londr\",\"Gatwick\",\"Madr\", \"Barajas Intl.\")\n"
   ]
  },
  {
   "cell_type": "code",
   "execution_count": 149,
   "metadata": {},
   "outputs": [],
   "source": [
    "# Si es solo ida entonce solo usas esta función p \n",
    "repetir_mes(\"febrero\",26)"
   ]
  },
  {
   "cell_type": "code",
   "execution_count": 150,
   "metadata": {},
   "outputs": [],
   "source": [
    "repetir_mes_retorno(\"setiembre\",2)"
   ]
  },
  {
   "cell_type": "code",
   "execution_count": 151,
   "metadata": {},
   "outputs": [],
   "source": [
    "### Mete un str o int cualqueir cosa\n",
    "click_buscar()"
   ]
  },
  {
   "cell_type": "code",
   "execution_count": 153,
   "metadata": {},
   "outputs": [
    {
     "ename": "NoSuchWindowException",
     "evalue": "Message: no such window: target window already closed\nfrom unknown error: web view not found\n  (Session info: chrome=105.0.5195.102)\nStacktrace:\nBacktrace:\n\tOrdinal0 [0x0093DF13+2219795]\n\tOrdinal0 [0x008D2841+1779777]\n\tOrdinal0 [0x007E423D+803389]\n\tOrdinal0 [0x007CC70A+706314]\n\tOrdinal0 [0x00831502+1119490]\n\tOrdinal0 [0x00834F7E+1134462]\n\tOrdinal0 [0x0082E7C3+1107907]\n\tOrdinal0 [0x00807F89+950153]\n\tOrdinal0 [0x00808F56+954198]\n\tGetHandleVerifier [0x00C32CB2+3040210]\n\tGetHandleVerifier [0x00C22BB4+2974420]\n\tGetHandleVerifier [0x009D6A0A+565546]\n\tGetHandleVerifier [0x009D5680+560544]\n\tOrdinal0 [0x008D9A5C+1808988]\n\tOrdinal0 [0x008DE3A8+1827752]\n\tOrdinal0 [0x008DE495+1827989]\n\tOrdinal0 [0x008E80A4+1867940]\n\tBaseThreadInitThunk [0x75A800F9+25]\n\tRtlGetAppContainerNamedObjectPath [0x77447BBE+286]\n\tRtlGetAppContainerNamedObjectPath [0x77447B8E+238]\n",
     "output_type": "error",
     "traceback": [
      "\u001b[1;31m---------------------------------------------------------------------------\u001b[0m",
      "\u001b[1;31mNoSuchWindowException\u001b[0m                     Traceback (most recent call last)",
      "\u001b[1;32m<ipython-input-153-ad0c9a213c39>\u001b[0m in \u001b[0;36m<module>\u001b[1;34m\u001b[0m\n\u001b[1;32m----> 1\u001b[1;33m \u001b[0mdriver\u001b[0m\u001b[1;33m.\u001b[0m\u001b[0mclose\u001b[0m\u001b[1;33m(\u001b[0m\u001b[1;33m)\u001b[0m\u001b[1;33m\u001b[0m\u001b[1;33m\u001b[0m\u001b[0m\n\u001b[0m",
      "\u001b[1;32m~\\anaconda3\\lib\\site-packages\\selenium\\webdriver\\remote\\webdriver.py\u001b[0m in \u001b[0;36mclose\u001b[1;34m(self)\u001b[0m\n\u001b[0;32m    548\u001b[0m                 \u001b[0mdriver\u001b[0m\u001b[1;33m.\u001b[0m\u001b[0mclose\u001b[0m\u001b[1;33m(\u001b[0m\u001b[1;33m)\u001b[0m\u001b[1;33m\u001b[0m\u001b[1;33m\u001b[0m\u001b[0m\n\u001b[0;32m    549\u001b[0m         \"\"\"\n\u001b[1;32m--> 550\u001b[1;33m         \u001b[0mself\u001b[0m\u001b[1;33m.\u001b[0m\u001b[0mexecute\u001b[0m\u001b[1;33m(\u001b[0m\u001b[0mCommand\u001b[0m\u001b[1;33m.\u001b[0m\u001b[0mCLOSE\u001b[0m\u001b[1;33m)\u001b[0m\u001b[1;33m\u001b[0m\u001b[1;33m\u001b[0m\u001b[0m\n\u001b[0m\u001b[0;32m    551\u001b[0m \u001b[1;33m\u001b[0m\u001b[0m\n\u001b[0;32m    552\u001b[0m     \u001b[1;32mdef\u001b[0m \u001b[0mquit\u001b[0m\u001b[1;33m(\u001b[0m\u001b[0mself\u001b[0m\u001b[1;33m)\u001b[0m \u001b[1;33m->\u001b[0m \u001b[1;32mNone\u001b[0m\u001b[1;33m:\u001b[0m\u001b[1;33m\u001b[0m\u001b[1;33m\u001b[0m\u001b[0m\n",
      "\u001b[1;32m~\\anaconda3\\lib\\site-packages\\selenium\\webdriver\\remote\\webdriver.py\u001b[0m in \u001b[0;36mexecute\u001b[1;34m(self, driver_command, params)\u001b[0m\n\u001b[0;32m    426\u001b[0m         \u001b[0mresponse\u001b[0m \u001b[1;33m=\u001b[0m \u001b[0mself\u001b[0m\u001b[1;33m.\u001b[0m\u001b[0mcommand_executor\u001b[0m\u001b[1;33m.\u001b[0m\u001b[0mexecute\u001b[0m\u001b[1;33m(\u001b[0m\u001b[0mdriver_command\u001b[0m\u001b[1;33m,\u001b[0m \u001b[0mparams\u001b[0m\u001b[1;33m)\u001b[0m\u001b[1;33m\u001b[0m\u001b[1;33m\u001b[0m\u001b[0m\n\u001b[0;32m    427\u001b[0m         \u001b[1;32mif\u001b[0m \u001b[0mresponse\u001b[0m\u001b[1;33m:\u001b[0m\u001b[1;33m\u001b[0m\u001b[1;33m\u001b[0m\u001b[0m\n\u001b[1;32m--> 428\u001b[1;33m             \u001b[0mself\u001b[0m\u001b[1;33m.\u001b[0m\u001b[0merror_handler\u001b[0m\u001b[1;33m.\u001b[0m\u001b[0mcheck_response\u001b[0m\u001b[1;33m(\u001b[0m\u001b[0mresponse\u001b[0m\u001b[1;33m)\u001b[0m\u001b[1;33m\u001b[0m\u001b[1;33m\u001b[0m\u001b[0m\n\u001b[0m\u001b[0;32m    429\u001b[0m             response['value'] = self._unwrap_value(\n\u001b[0;32m    430\u001b[0m                 response.get('value', None))\n",
      "\u001b[1;32m~\\anaconda3\\lib\\site-packages\\selenium\\webdriver\\remote\\errorhandler.py\u001b[0m in \u001b[0;36mcheck_response\u001b[1;34m(self, response)\u001b[0m\n\u001b[0;32m    241\u001b[0m                 \u001b[0malert_text\u001b[0m \u001b[1;33m=\u001b[0m \u001b[0mvalue\u001b[0m\u001b[1;33m[\u001b[0m\u001b[1;34m'alert'\u001b[0m\u001b[1;33m]\u001b[0m\u001b[1;33m.\u001b[0m\u001b[0mget\u001b[0m\u001b[1;33m(\u001b[0m\u001b[1;34m'text'\u001b[0m\u001b[1;33m)\u001b[0m\u001b[1;33m\u001b[0m\u001b[1;33m\u001b[0m\u001b[0m\n\u001b[0;32m    242\u001b[0m             \u001b[1;32mraise\u001b[0m \u001b[0mexception_class\u001b[0m\u001b[1;33m(\u001b[0m\u001b[0mmessage\u001b[0m\u001b[1;33m,\u001b[0m \u001b[0mscreen\u001b[0m\u001b[1;33m,\u001b[0m \u001b[0mstacktrace\u001b[0m\u001b[1;33m,\u001b[0m \u001b[0malert_text\u001b[0m\u001b[1;33m)\u001b[0m  \u001b[1;31m# type: ignore[call-arg]  # mypy is not smart enough here\u001b[0m\u001b[1;33m\u001b[0m\u001b[1;33m\u001b[0m\u001b[0m\n\u001b[1;32m--> 243\u001b[1;33m         \u001b[1;32mraise\u001b[0m \u001b[0mexception_class\u001b[0m\u001b[1;33m(\u001b[0m\u001b[0mmessage\u001b[0m\u001b[1;33m,\u001b[0m \u001b[0mscreen\u001b[0m\u001b[1;33m,\u001b[0m \u001b[0mstacktrace\u001b[0m\u001b[1;33m)\u001b[0m\u001b[1;33m\u001b[0m\u001b[1;33m\u001b[0m\u001b[0m\n\u001b[0m",
      "\u001b[1;31mNoSuchWindowException\u001b[0m: Message: no such window: target window already closed\nfrom unknown error: web view not found\n  (Session info: chrome=105.0.5195.102)\nStacktrace:\nBacktrace:\n\tOrdinal0 [0x0093DF13+2219795]\n\tOrdinal0 [0x008D2841+1779777]\n\tOrdinal0 [0x007E423D+803389]\n\tOrdinal0 [0x007CC70A+706314]\n\tOrdinal0 [0x00831502+1119490]\n\tOrdinal0 [0x00834F7E+1134462]\n\tOrdinal0 [0x0082E7C3+1107907]\n\tOrdinal0 [0x00807F89+950153]\n\tOrdinal0 [0x00808F56+954198]\n\tGetHandleVerifier [0x00C32CB2+3040210]\n\tGetHandleVerifier [0x00C22BB4+2974420]\n\tGetHandleVerifier [0x009D6A0A+565546]\n\tGetHandleVerifier [0x009D5680+560544]\n\tOrdinal0 [0x008D9A5C+1808988]\n\tOrdinal0 [0x008DE3A8+1827752]\n\tOrdinal0 [0x008DE495+1827989]\n\tOrdinal0 [0x008E80A4+1867940]\n\tBaseThreadInitThunk [0x75A800F9+25]\n\tRtlGetAppContainerNamedObjectPath [0x77447BBE+286]\n\tRtlGetAppContainerNamedObjectPath [0x77447B8E+238]\n"
     ]
    }
   ],
   "source": [
    "driver.close()"
   ]
  },
  {
   "cell_type": "code",
   "execution_count": null,
   "metadata": {},
   "outputs": [],
   "source": []
  },
  {
   "cell_type": "code",
   "execution_count": null,
   "metadata": {},
   "outputs": [],
   "source": [
    "departure"
   ]
  },
  {
   "cell_type": "code",
   "execution_count": null,
   "metadata": {},
   "outputs": [],
   "source": [
    "departure[0].click()"
   ]
  },
  {
   "cell_type": "code",
   "execution_count": 56,
   "metadata": {},
   "outputs": [],
   "source": [
    "### IDAAAAAAA\n",
    "que_mes = \"febrero\"\n",
    "###   USA ESTE EN CAOS SEA INPUT  8====D    sentence = input('Mete un mes bien escrito crj: ')\n",
    "#del 0 al 11, enero = 0 dic = 11 p web\n",
    "que_mes = que_mes_regreso.lower()\n",
    "\n",
    "lista_meses = [\"enero\",\"febrero\",\"marzo\",\"abril\",\"mayo\",\"junio\",\"julio\",\"agosto\",\"setiembre\",\"octubre\",\"noviembre\",\"diciembre\"]\n",
    "\n",
    "if que_mes in lista_meses:\n",
    "    x = lista_meses.index(que_mes)\n",
    "\n",
    "#mes = driver.find_elements(By.XPATH, \"//div[@class='CalendarMonth CalendarMonth_{}']\".format(x))\n",
    "mes = driver.find_elements(By.XPATH, \"//div[@class='CalendarMonthGrid_month__horizontal CalendarMonthGrid_month__horizontal_1']\".format(x))\n"
   ]
  },
  {
   "cell_type": "code",
   "execution_count": 57,
   "metadata": {},
   "outputs": [
    {
     "data": {
      "text/plain": [
       "[<selenium.webdriver.remote.webelement.WebElement (session=\"9f1eb3d17f3d7e200004db0994fc2ef0\", element=\"831c832a-bcdb-48c4-9aa0-8e20fe75f4d2\")>,\n",
       " <selenium.webdriver.remote.webelement.WebElement (session=\"9f1eb3d17f3d7e200004db0994fc2ef0\", element=\"0b491caa-b76f-4c5e-a28f-3bd0be883cb4\")>,\n",
       " <selenium.webdriver.remote.webelement.WebElement (session=\"9f1eb3d17f3d7e200004db0994fc2ef0\", element=\"b2ed5fef-97bf-4e04-a0ab-a06828302162\")>]"
      ]
     },
     "execution_count": 57,
     "metadata": {},
     "output_type": "execute_result"
    }
   ],
   "source": [
    "mes"
   ]
  },
  {
   "cell_type": "code",
   "execution_count": 58,
   "metadata": {},
   "outputs": [
    {
     "ename": "AttributeError",
     "evalue": "'list' object has no attribute 'find_elements'",
     "output_type": "error",
     "traceback": [
      "\u001b[1;31m---------------------------------------------------------------------------\u001b[0m",
      "\u001b[1;31mAttributeError\u001b[0m                            Traceback (most recent call last)",
      "\u001b[1;32m<ipython-input-58-9e41044ac3fb>\u001b[0m in \u001b[0;36m<module>\u001b[1;34m\u001b[0m\n\u001b[1;32m----> 1\u001b[1;33m \u001b[0mida\u001b[0m \u001b[1;33m=\u001b[0m \u001b[0mmes\u001b[0m\u001b[1;33m.\u001b[0m\u001b[0mfind_elements\u001b[0m\u001b[1;33m(\u001b[0m\u001b[0mBy\u001b[0m\u001b[1;33m.\u001b[0m\u001b[0mXPATH\u001b[0m\u001b[1;33m,\u001b[0m \u001b[1;34m\"//span[@class='sc-ekQYnd bQlcxB']\"\u001b[0m\u001b[1;33m)\u001b[0m\u001b[1;33m\u001b[0m\u001b[1;33m\u001b[0m\u001b[0m\n\u001b[0m",
      "\u001b[1;31mAttributeError\u001b[0m: 'list' object has no attribute 'find_elements'"
     ]
    }
   ],
   "source": [
    "ida = mes.find_elements(By.XPATH, \"//span[@class='sc-ekQYnd bQlcxB']\")"
   ]
  },
  {
   "cell_type": "code",
   "execution_count": 76,
   "metadata": {},
   "outputs": [],
   "source": [
    "\n",
    "def repetir_mes(mes,dia):\n",
    "    \n",
    "    departure_click = driver.find_element(By.XPATH, \"//input[@id='departureDate']\")\n",
    "    departure_click.click()\n",
    "    time.sleep(2)\n",
    "    \n",
    "    boton = driver.find_element(By.XPATH, \"//div[@aria-label='Avanza al mes de']\")\n",
    "    mes = str(mes.lower())\n",
    "    lista_mes_idas = driver.find_elements(By.XPATH, \"//div[@class='CalendarMonth_caption CalendarMonth_caption_1']\")\n",
    "    time.sleep(1)\n",
    "    lista_mes_idas = lista_mes_idas[1:4]\n",
    "    lista_mes_idas_1 = []\n",
    "\n",
    "    for x in lista_mes_idas:\n",
    "        texto = x.text\n",
    "        time.sleep(1)\n",
    "        texto = texto.split(\" \")\n",
    "        texto = texto[0].lower()\n",
    "        lista_mes_idas_1.append(texto)\n",
    "        time.sleep(1)\n",
    "\n",
    "\n",
    "    if mes in lista_mes_idas_1: \n",
    "        bloque  = driver.find_elements(By.XPATH, \"//div[@class='CalendarMonth CalendarMonth_1']\")\n",
    "        time.sleep(1)\n",
    "        bloque = bloque[1:4]\n",
    "        time.sleep(1)\n",
    "        indice = lista_mes_idas_1.index(mes)\n",
    "        time.sleep(1)\n",
    "        bloque = bloque[indice]\n",
    "        time.sleep(1)\n",
    "        ida = bloque.find_elements(By.XPATH, \".//td[@role='button']\")\n",
    "        x = dia\n",
    "        x = x-1    # te coje día +1 entonce sque sea *-1   esto por q tabaja con lista p y el indice comienza desde el 0 webas\n",
    "        time.sleep(1)\n",
    "        fecha_que_quiero = ida[x]\n",
    "        fecha_que_quiero.click()\n",
    "    else:\n",
    "        boton.click()\n",
    "        time.sleep(1)\n",
    "        boton.click()\n",
    "        time.sleep(1)\n",
    "        boton.click()\n",
    "        time.sleep(1)\n",
    "        repetir_mes(mes,dia)\n",
    "    \n",
    "    "
   ]
  },
  {
   "cell_type": "code",
   "execution_count": 114,
   "metadata": {},
   "outputs": [],
   "source": [
    "   \n",
    "def repetir_mes_retorno(mes,dia):\n",
    "    \n",
    "    #return_click = driver.find_element(By.XPATH, \"//input[@id='arrivalDate']\")\n",
    "    #return_click.click()\n",
    "    #time.sleep(2)\n",
    "    \n",
    "    boton = driver.find_element(By.XPATH, \"//div[@aria-label='Avanza al mes de']\")\n",
    "    mes = mes\n",
    "    mes = str(mes.lower())\n",
    "    mes_1 = \"vacio\"\n",
    "    \n",
    "    if mes == \"setiembre\":\n",
    "        mes_1 = \"septiembre\"\n",
    "        \n",
    "    lista_mes_idas = driver.find_elements(By.XPATH, \"//div[@class='CalendarMonth_caption CalendarMonth_caption_1']\")\n",
    "    lista_mes_idas = lista_mes_idas[1:4]\n",
    "    lista_mes_idas_1 = []\n",
    "    time.sleep(1)\n",
    "\n",
    "    for x in lista_mes_idas:\n",
    "        texto = x.text\n",
    "        texto = texto.split(\" \")\n",
    "        texto = texto[0].lower()\n",
    "        time.sleep(0.60)\n",
    "        lista_mes_idas_1.append(texto)\n",
    "\n",
    "\n",
    "    if mes in lista_mes_idas_1: \n",
    "        bloque  = driver.find_elements(By.XPATH, \"//div[@class='CalendarMonth CalendarMonth_1']\")\n",
    "        time.sleep(1)\n",
    "        bloque = bloque[1:4]\n",
    "        time.sleep(1)\n",
    "        indice = lista_mes_idas_1.index(mes)\n",
    "        bloque = bloque[indice]\n",
    "        regreso = bloque.find_elements(By.XPATH, \".//td[@role='button']\")\n",
    "        time.sleep(1)\n",
    "        y = dia\n",
    "        y = y-1    # te coje día +1 entonce sque sea *-1 \n",
    "        time.sleep(1)\n",
    "        fecha_que_quiero_regresar = regreso[y]\n",
    "        time.sleep(1)\n",
    "        fecha_que_quiero_regresar.click()\n",
    "    elif mes_1 in lista_mes_idas_1:\n",
    "        bloque  = driver.find_elements(By.XPATH, \"//div[@class='CalendarMonth CalendarMonth_1']\")\n",
    "        time.sleep(1)\n",
    "        bloque = bloque[1:4]\n",
    "        time.sleep(1)\n",
    "        indice = lista_mes_idas_1.index(mes_1)\n",
    "        bloque = bloque[indice]\n",
    "        regreso = bloque.find_elements(By.XPATH, \".//td[@role='button']\")\n",
    "        time.sleep(1)\n",
    "        y = dia\n",
    "        y = y-1    # te coje día +1 entonce sque sea *-1 \n",
    "        time.sleep(1)\n",
    "        fecha_que_quiero_regresar = regreso[y]\n",
    "        time.sleep(1)\n",
    "        fecha_que_quiero_regresar.click()\n",
    "    \n",
    "    else:\n",
    "        boton.click()\n",
    "        time.sleep(1)\n",
    "        boton.click()\n",
    "        time.sleep(1)\n",
    "        boton.click()\n",
    "        time.sleep(2.5)\n",
    "        repetir_mes_retorno(mes,dia)\n",
    "    \n",
    "    "
   ]
  },
  {
   "cell_type": "code",
   "execution_count": 133,
   "metadata": {},
   "outputs": [],
   "source": [
    "def click_buscar():\n",
    "    \n",
    "    buscaras = driver.find_element(By.XPATH, \"//button[@id='btnSearchCTA']\")\n",
    "    buscaras.click()"
   ]
  },
  {
   "cell_type": "code",
   "execution_count": null,
   "metadata": {},
   "outputs": [],
   "source": []
  },
  {
   "cell_type": "code",
   "execution_count": 100,
   "metadata": {},
   "outputs": [],
   "source": [
    "lista_mes_idas = driver.find_elements(By.XPATH, \"//div[@class='CalendarMonth_caption CalendarMonth_caption_1']\")\n",
    "lista_mes_idas_1 = []\n",
    "for x in lista_mes_idas:\n",
    "    texto = x.text\n",
    "    texto = texto.split(\" \")\n",
    "    texto = texto[0]\n",
    "    lista_mes_idas_1.append(texto)"
   ]
  },
  {
   "cell_type": "code",
   "execution_count": 81,
   "metadata": {},
   "outputs": [
    {
     "data": {
      "text/plain": [
       "''"
      ]
     },
     "execution_count": 81,
     "metadata": {},
     "output_type": "execute_result"
    }
   ],
   "source": [
    "lista_mes_idas_1 = lista_mes_idas_1[1:4]\n",
    "lista_mes_idas_1"
   ]
  },
  {
   "cell_type": "code",
   "execution_count": 26,
   "metadata": {},
   "outputs": [
    {
     "data": {
      "text/plain": [
       "[<selenium.webdriver.remote.webelement.WebElement (session=\"723a9fd1d994df603f26b498a19428c8\", element=\"a5d7bf40-26de-41b2-b4f3-2d48ba208e1a\")>,\n",
       " <selenium.webdriver.remote.webelement.WebElement (session=\"723a9fd1d994df603f26b498a19428c8\", element=\"b43f77c4-fa2a-4ecb-9dbd-1bb98333be6e\")>,\n",
       " <selenium.webdriver.remote.webelement.WebElement (session=\"723a9fd1d994df603f26b498a19428c8\", element=\"3fc6ed08-42de-489e-abe2-b5dd527ca8b1\")>]"
      ]
     },
     "execution_count": 26,
     "metadata": {},
     "output_type": "execute_result"
    }
   ],
   "source": [
    "#sexo  = driver.find_elements(By.XPATH, \"//div[@class='CalendarMonth CalendarMonth_1']\")\n",
    "\n",
    "sexo  = driver.find_elements(By.XPATH, \"//table[@class='CalendarMonth_table CalendarMonth_table_1']\")\n",
    "sexo\n",
    "sexo[1:4]"
   ]
  },
  {
   "cell_type": "code",
   "execution_count": null,
   "metadata": {},
   "outputs": [],
   "source": []
  },
  {
   "cell_type": "code",
   "execution_count": 27,
   "metadata": {},
   "outputs": [],
   "source": [
    "cha = sexo[1]"
   ]
  },
  {
   "cell_type": "code",
   "execution_count": 28,
   "metadata": {},
   "outputs": [],
   "source": [
    "#raa = sexo[1].find_elements(By.XPATH, \"//span[@class='sc-ekQYnd bQlcxB']\")\n",
    "raa = cha.find_elements(By.XPATH, \".//td[@tabindex='-1']\")"
   ]
  },
  {
   "cell_type": "code",
   "execution_count": 94,
   "metadata": {},
   "outputs": [
    {
     "data": {
      "text/plain": [
       "['Febrero', 'Marzo', 'Abril']"
      ]
     },
     "execution_count": 94,
     "metadata": {},
     "output_type": "execute_result"
    }
   ],
   "source": [
    "lista_mes_idas_1"
   ]
  },
  {
   "cell_type": "code",
   "execution_count": 31,
   "metadata": {},
   "outputs": [
    {
     "name": "stdout",
     "output_type": "stream",
     "text": [
      "28\n",
      "31\n",
      "30\n"
     ]
    }
   ],
   "source": [
    "sexo = sexo[1:4]\n",
    "for x in sexo:\n",
    "    print(len(x.find_elements(By.XPATH, \".//td[@role='button']\")))"
   ]
  },
  {
   "cell_type": "code",
   "execution_count": 222,
   "metadata": {},
   "outputs": [],
   "source": [
    "xx = \"Junio\"\n",
    "repetir_mes(xx,3)\n"
   ]
  },
  {
   "cell_type": "code",
   "execution_count": 223,
   "metadata": {},
   "outputs": [],
   "source": [
    "xxx = \"diciembre\"\n",
    "time.sleep(2)\n",
    "repetir_mes_retorno(xxx,23)"
   ]
  },
  {
   "cell_type": "code",
   "execution_count": 225,
   "metadata": {},
   "outputs": [],
   "source": []
  },
  {
   "cell_type": "code",
   "execution_count": 211,
   "metadata": {},
   "outputs": [],
   "source": [
    "departure_click = driver.find_element(By.XPATH, \"//input[@id='departureDate']\")"
   ]
  },
  {
   "cell_type": "code",
   "execution_count": 212,
   "metadata": {},
   "outputs": [
    {
     "data": {
      "text/plain": [
       "<selenium.webdriver.remote.webelement.WebElement (session=\"723a9fd1d994df603f26b498a19428c8\", element=\"161264c0-ce1f-458b-9537-5dd066b8b345\")>"
      ]
     },
     "execution_count": 212,
     "metadata": {},
     "output_type": "execute_result"
    }
   ],
   "source": [
    "departure_click"
   ]
  },
  {
   "cell_type": "code",
   "execution_count": 173,
   "metadata": {},
   "outputs": [],
   "source": []
  },
  {
   "cell_type": "code",
   "execution_count": 174,
   "metadata": {},
   "outputs": [
    {
     "data": {
      "text/plain": [
       "31"
      ]
     },
     "execution_count": 174,
     "metadata": {},
     "output_type": "execute_result"
    }
   ],
   "source": []
  },
  {
   "cell_type": "code",
   "execution_count": null,
   "metadata": {},
   "outputs": [],
   "source": []
  },
  {
   "cell_type": "code",
   "execution_count": null,
   "metadata": {},
   "outputs": [],
   "source": [
    "### Pon la fecha que quieres oe idiota en la x\n",
    "x = 4\n",
    "fecha_que_quiero = ida[x]\n",
    "fecha_que_quiero.click()"
   ]
  },
  {
   "cell_type": "code",
   "execution_count": null,
   "metadata": {},
   "outputs": [],
   "source": [
    "### REGRESOOOOOOOOOOOOOOO\n",
    "que_mes_regreso = \"marzo\"\n",
    "###   USA ESTE EN CAOS SEA INPUT  8====D    sentence = input('Mete un mes bien escrito crj: ')\n",
    "#del 0 al 11, enero = 0 dic = 11 p web\n",
    "\n",
    "que_mes_regreso = que_mes_regreso.lower()\n",
    "\n",
    "lista_meses = [\"enero\",\"febrero\",\"marzo\",\"abril\",\"mayo\",\"junio\",\"julio\",\"agosto\",\"setiembre\",\"octubre\",\"noviembre\",\"diciembre\"]\n",
    "\n",
    "if que_mes_regreso in lista_meses:\n",
    "    x = lista_meses.index(que_mes_regreso)\n",
    "\n",
    "mes_regreso = driver.find_elements(By.XPATH, \"//div[@class='CalendarMonth CalendarMonth_{}']\".format(x))"
   ]
  },
  {
   "cell_type": "code",
   "execution_count": null,
   "metadata": {},
   "outputs": [],
   "source": [
    "retorno = mes_regreso.find_elements(By.XPATH, \"//span[@class='sc-ekQYnd bQlcxB']\")"
   ]
  },
  {
   "cell_type": "code",
   "execution_count": null,
   "metadata": {},
   "outputs": [],
   "source": [
    "### Pon la fecha que quieres oe idiota en la x\n",
    "x = 4\n",
    "fecha_que_quiero_regresar = retorno[x]\n",
    "fecha_que_quiero_regresar.click()"
   ]
  },
  {
   "cell_type": "code",
   "execution_count": null,
   "metadata": {},
   "outputs": [],
   "source": []
  },
  {
   "cell_type": "code",
   "execution_count": null,
   "metadata": {},
   "outputs": [],
   "source": []
  },
  {
   "cell_type": "code",
   "execution_count": null,
   "metadata": {},
   "outputs": [],
   "source": []
  },
  {
   "cell_type": "code",
   "execution_count": null,
   "metadata": {},
   "outputs": [],
   "source": []
  },
  {
   "cell_type": "code",
   "execution_count": 11,
   "metadata": {},
   "outputs": [],
   "source": [
    "driver.get(url)"
   ]
  },
  {
   "cell_type": "code",
   "execution_count": 12,
   "metadata": {
    "scrolled": true
   },
   "outputs": [
    {
     "data": {
      "text/plain": [
       "[<selenium.webdriver.remote.webelement.WebElement (session=\"620a9fe53a205c22f34e34937a779e34\", element=\"11a69066-2101-431c-ad63-d1f3aecad398\")>,\n",
       " <selenium.webdriver.remote.webelement.WebElement (session=\"620a9fe53a205c22f34e34937a779e34\", element=\"99eea258-6e75-47c6-a871-e8ba49631e6e\")>,\n",
       " <selenium.webdriver.remote.webelement.WebElement (session=\"620a9fe53a205c22f34e34937a779e34\", element=\"b538a158-e55e-4700-90b8-3d8c0bf480e6\")>,\n",
       " <selenium.webdriver.remote.webelement.WebElement (session=\"620a9fe53a205c22f34e34937a779e34\", element=\"13224a7f-0b2d-4d4f-83df-bc21e8c48266\")>,\n",
       " <selenium.webdriver.remote.webelement.WebElement (session=\"620a9fe53a205c22f34e34937a779e34\", element=\"c5a3e871-f7dd-4063-a21a-19eed8651a79\")>,\n",
       " <selenium.webdriver.remote.webelement.WebElement (session=\"620a9fe53a205c22f34e34937a779e34\", element=\"9f212ca0-0497-4559-bc69-1c9ab794c74c\")>,\n",
       " <selenium.webdriver.remote.webelement.WebElement (session=\"620a9fe53a205c22f34e34937a779e34\", element=\"52d7eb7f-56af-4598-b7de-2d87da4bda66\")>,\n",
       " <selenium.webdriver.remote.webelement.WebElement (session=\"620a9fe53a205c22f34e34937a779e34\", element=\"9c3b5301-cf91-495a-8807-6117e8214d99\")>,\n",
       " <selenium.webdriver.remote.webelement.WebElement (session=\"620a9fe53a205c22f34e34937a779e34\", element=\"781d03d9-261d-4a96-bd69-827358320f63\")>,\n",
       " <selenium.webdriver.remote.webelement.WebElement (session=\"620a9fe53a205c22f34e34937a779e34\", element=\"4802205a-2401-4905-9be4-a95c13563634\")>,\n",
       " <selenium.webdriver.remote.webelement.WebElement (session=\"620a9fe53a205c22f34e34937a779e34\", element=\"eb23b65a-377d-41b0-bc96-339d9043e4ae\")>,\n",
       " <selenium.webdriver.remote.webelement.WebElement (session=\"620a9fe53a205c22f34e34937a779e34\", element=\"831770fb-f87d-453e-8267-c8ba085459f6\")>,\n",
       " <selenium.webdriver.remote.webelement.WebElement (session=\"620a9fe53a205c22f34e34937a779e34\", element=\"eb90258b-c6f7-4929-bd4f-febeea7f9351\")>,\n",
       " <selenium.webdriver.remote.webelement.WebElement (session=\"620a9fe53a205c22f34e34937a779e34\", element=\"41242868-6f2f-4f67-8dbf-f63bf6919acd\")>,\n",
       " <selenium.webdriver.remote.webelement.WebElement (session=\"620a9fe53a205c22f34e34937a779e34\", element=\"1587f084-a161-4ba6-be89-fbef331d5f57\")>,\n",
       " <selenium.webdriver.remote.webelement.WebElement (session=\"620a9fe53a205c22f34e34937a779e34\", element=\"4ab90c40-c086-4f94-b0e7-195296a0a038\")>,\n",
       " <selenium.webdriver.remote.webelement.WebElement (session=\"620a9fe53a205c22f34e34937a779e34\", element=\"0cef0c2b-c7a6-42e6-8fdf-3eada8083121\")>,\n",
       " <selenium.webdriver.remote.webelement.WebElement (session=\"620a9fe53a205c22f34e34937a779e34\", element=\"6fa14ea4-46f4-4271-bfb7-7b96888ea352\")>,\n",
       " <selenium.webdriver.remote.webelement.WebElement (session=\"620a9fe53a205c22f34e34937a779e34\", element=\"7068e265-5d6c-4c99-9e21-b17e8197aed1\")>,\n",
       " <selenium.webdriver.remote.webelement.WebElement (session=\"620a9fe53a205c22f34e34937a779e34\", element=\"2fd71aa3-11d5-4d25-9116-06274914e280\")>,\n",
       " <selenium.webdriver.remote.webelement.WebElement (session=\"620a9fe53a205c22f34e34937a779e34\", element=\"2c5aa78f-2605-44e1-bc85-5a63f24653b5\")>,\n",
       " <selenium.webdriver.remote.webelement.WebElement (session=\"620a9fe53a205c22f34e34937a779e34\", element=\"78c3a321-5de2-49a7-a8b8-c597b9df5d28\")>,\n",
       " <selenium.webdriver.remote.webelement.WebElement (session=\"620a9fe53a205c22f34e34937a779e34\", element=\"21b14cf3-f19b-49c6-a3ec-48167be16ca0\")>,\n",
       " <selenium.webdriver.remote.webelement.WebElement (session=\"620a9fe53a205c22f34e34937a779e34\", element=\"848fdc9c-3172-4272-b692-40ef0ec318c8\")>,\n",
       " <selenium.webdriver.remote.webelement.WebElement (session=\"620a9fe53a205c22f34e34937a779e34\", element=\"1d2377c6-9814-4c58-984f-aaabcaf5852d\")>,\n",
       " <selenium.webdriver.remote.webelement.WebElement (session=\"620a9fe53a205c22f34e34937a779e34\", element=\"f76133be-8994-488f-aa7c-f6052c710a97\")>,\n",
       " <selenium.webdriver.remote.webelement.WebElement (session=\"620a9fe53a205c22f34e34937a779e34\", element=\"b19010ed-6fee-4ebb-8368-4e6ab6cb2870\")>,\n",
       " <selenium.webdriver.remote.webelement.WebElement (session=\"620a9fe53a205c22f34e34937a779e34\", element=\"3025fd73-8a5d-4df3-ac57-fe7d6ad81a31\")>,\n",
       " <selenium.webdriver.remote.webelement.WebElement (session=\"620a9fe53a205c22f34e34937a779e34\", element=\"b4b3a5a5-2e25-4d48-9b55-ed4f9405b6c3\")>,\n",
       " <selenium.webdriver.remote.webelement.WebElement (session=\"620a9fe53a205c22f34e34937a779e34\", element=\"8cf26456-c8b2-41c9-a023-fcdd06023dbd\")>]"
      ]
     },
     "execution_count": 12,
     "metadata": {},
     "output_type": "execute_result"
    }
   ],
   "source": [
    "vuelos = driver.find_elements(By.XPATH, \"//li[@class='sc-fQfKYo hqsges']\")\n",
    "vuelos"
   ]
  },
  {
   "cell_type": "code",
   "execution_count": 14,
   "metadata": {},
   "outputs": [],
   "source": [
    "vuelo =  vuelos[1]"
   ]
  },
  {
   "cell_type": "code",
   "execution_count": 15,
   "metadata": {},
   "outputs": [
    {
     "data": {
      "text/plain": [
       "<selenium.webdriver.remote.webelement.WebElement (session=\"620a9fe53a205c22f34e34937a779e34\", element=\"99eea258-6e75-47c6-a871-e8ba49631e6e\")>"
      ]
     },
     "execution_count": 15,
     "metadata": {},
     "output_type": "execute_result"
    }
   ],
   "source": [
    "vuelo"
   ]
  },
  {
   "cell_type": "code",
   "execution_count": 47,
   "metadata": {},
   "outputs": [],
   "source": [
    "def premiums(vuelo):\n",
    "    \n",
    "    tarifas = vuelo.find_elements(By.XPATH, \".//div[@class='sc-bveJEc bPLtvA']\")\n",
    "    \n",
    "    precios = []\n",
    "\n",
    "    for tarifa in tarifas:\n",
    "        precio = tarifa.find_elements(By.XPATH, \".//span[@class='sc-lmrgJh bggiiV']\")\n",
    "        currency = tarifa.find_elements(By.XPATH, \".//span[@class='sc-lmrgJh bggiiV currency']\")\n",
    "        clase = tarifa.find_elements(By.XPATH, \".//span[@class='sc-khKDHO kCIAAi']\")\n",
    "        sublista = list(range(len(clase)))\n",
    "        for i in sublista:\n",
    "            dict_tarifa = {clase[i].text:{\"moneda\":currency[i].text, \"valor\":precio[i].text}}\n",
    "            precios.append(dict_tarifa)\n",
    "    return precios"
   ]
  },
  {
   "cell_type": "code",
   "execution_count": 61,
   "metadata": {},
   "outputs": [],
   "source": [
    "def obtener_datos_escalas(vuelo):\n",
    "\n",
    "    info_escalas = []\n",
    "    time.sleep(2)\n",
    "    aeroporto = driver.find_elements(By.XPATH, \"//span[@class='ariport-name']\")\n",
    "    time.sleep(2)\n",
    "    lugar = driver.find_elements(By.XPATH, \"//span['%%']\")\n",
    "    time.sleep(2)\n",
    "    partida_hr= driver.find_elements(By.XPATH, \"//span[@class='time']\")\n",
    "    time.sleep(2)\n",
    "    \n",
    "    print(len(partida_hr))\n",
    "        \n",
    "    if len(partida_hr)>4:\n",
    "        data_dict = {\n",
    "                \"origen\": lugar[0].text,\n",
    "                \"aeroporto_origen\": aeroporto[0].text,\n",
    "                \"destino\": lugar[1].text,\n",
    "                \"aeroporto_destino\": aeroporto[1].text,\n",
    "\n",
    "                \"dept_time\": partida_hr[0].text,\n",
    "                \"duracion_vuelo\": partida_hr[1].text,\n",
    "                \"arr_time\": partida_hr[2].text,\n",
    "\n",
    "                \"dura_escala\": partida_hr[3].text,\n",
    "\n",
    "                \"origen2\": lugar[2].text,\n",
    "                \"aeroporto_origen2\": aeroporto[2].text,\n",
    "                \"destino2\": lugar[3].text,\n",
    "                \"aeroporto_destino2\": aeroporto[3].text,\n",
    "\n",
    "                \"dept_time2\": partida_hr[4].text,\n",
    "                \"duracion_vuelo2\": partida_hr[5].text,\n",
    "                \"arr_time2\": partida_hr[6].text,\n",
    "            }\n",
    "        info_escalas.append(data_dict)\n",
    "    else:\n",
    "        data_dict = {\n",
    "                \"origen\": lugar[0].text,\n",
    "                \"aeroporto_origen\": aeroporto[0].text,\n",
    "                \"destino\": lugar[1].text,\n",
    "                \"aeroporto_destino\": aeroporto[1].text,\n",
    "\n",
    "                \"dept_time\": partida_hr[0].text,\n",
    "                \"duracion_vuelo\": partida_hr[1].text,\n",
    "                \"arr_time\": partida_hr[2].text,\n",
    "\n",
    "            }\n",
    "                \n",
    "        info_escalas.append(data_dict)\n",
    "    return info_escalas\n"
   ]
  },
  {
   "cell_type": "code",
   "execution_count": 62,
   "metadata": {},
   "outputs": [],
   "source": [
    "def obtener_tiempos(vuelo):\n",
    "    salida=vuelo.find_elements(By.XPATH, \".//span[@class='sc-jbxdUx irLFPy']\")\n",
    "    llegada=vuelo.find_elements(By.XPATH, \".//span[@class='sc-bMuqKn iZseNN']\")\n",
    "    duracion=vuelo.find_elements(By.XPATH, \"(.//span[@class='sc-jbxdUx irLFPy'])[2]\")\n",
    "    \n",
    "    sublista = list(range(len(duracion)))\n",
    "    for i in sublista:\n",
    "        tiempos = {\"hora_salida\": salida[i].text, \"hora_llegada\":llegada[i].text,\n",
    "                   \"duracion\":duracion[i].text}\n",
    "        return tiempos"
   ]
  },
  {
   "cell_type": "code",
   "execution_count": 63,
   "metadata": {},
   "outputs": [],
   "source": [
    "def obtener_info(vuelo):\n",
    "    vuelos = driver.find_elements(By.XPATH, \"//li[@class='sc-fQfKYo hqsges']\")\n",
    "    vuelos = vuelos[:2]\n",
    "\n",
    "    print(f\"Se encontraron {len(vuelos)} vuelos.\")\n",
    "    print(\"Iniciando Scraping...\")\n",
    "    info = []\n",
    "    for vuelo in vuelos:\n",
    "\n",
    "        tiempos = obtener_tiempos(vuelo)\n",
    "\n",
    "        boton = vuelo.find_elements(By.XPATH, \".//a[@data-reference='modal-air-offers']\")     \n",
    "        boton[0].click()  \n",
    "        escalas = obtener_datos_escalas(vuelo)\n",
    "\n",
    "        time.sleep(5)\n",
    "        cierro = driver.find_elements(By.XPATH, \".//button[@type='button']\")\n",
    "        cierro[0].click()\n",
    "        time.sleep(3)\n",
    "\n",
    "        vuelo.click()\n",
    "        precios = premiums(vuelo)\n",
    "        time.sleep(2)\n",
    "        cierro = driver.find_elements(By.XPATH, \".//button[@type='button']\")\n",
    "        cierro[0].click()\n",
    "        time.sleep(2)\n",
    "        info.append({\"precios\":precios, \"tiempos\":tiempos,\"escalas\":escalas})\n",
    "    return info\n",
    "        "
   ]
  },
  {
   "cell_type": "code",
   "execution_count": null,
   "metadata": {},
   "outputs": [],
   "source": []
  },
  {
   "cell_type": "code",
   "execution_count": 64,
   "metadata": {},
   "outputs": [
    {
     "name": "stdout",
     "output_type": "stream",
     "text": [
      "Se encontraron 2 vuelos.\n",
      "Iniciando Scraping...\n",
      "3\n",
      "7\n"
     ]
    },
    {
     "data": {
      "text/plain": [
       "[{'precios': [{'light': {'moneda': 'USD', 'valor': '739.59'}},\n",
       "   {'plus': {'moneda': 'USD', 'valor': '802.13'}},\n",
       "   {'top': {'moneda': 'USD', 'valor': '950.81'}},\n",
       "   {'plus': {'moneda': 'USD', 'valor': '1,506.59'}}],\n",
       "  'tiempos': {'hora_salida': '22:55',\n",
       "   'hora_llegada': '11 h 25 min',\n",
       "   'duracion': '17:20\\n+1'},\n",
       "  'escalas': [{'origen': '',\n",
       "    'aeroporto_origen': 'J Chavez Intl.',\n",
       "    'destino': 'Navegación de secciones de usuario.',\n",
       "    'aeroporto_destino': 'Barajas Intl.',\n",
       "    'dept_time': '22:55',\n",
       "    'duracion_vuelo': '11 h 25 min',\n",
       "    'arr_time': '17:20'}]},\n",
       " {'precios': [{'light': {'moneda': 'USD', 'valor': '881.19'}},\n",
       "   {'plus': {'moneda': 'USD', 'valor': '943.73'}},\n",
       "   {'top': {'moneda': 'USD', 'valor': '1,099.49'}},\n",
       "   {'plus': {'moneda': 'USD', 'valor': '1,919.59'}}],\n",
       "  'tiempos': {'hora_salida': '9:30',\n",
       "   'hora_llegada': '21 h 35 min',\n",
       "   'duracion': '14:05\\n+1'},\n",
       "  'escalas': [{'origen': '',\n",
       "    'aeroporto_origen': 'J Chavez Intl.',\n",
       "    'destino': 'Navegación de secciones de usuario.',\n",
       "    'aeroporto_destino': 'Guarulhos Intl.',\n",
       "    'dept_time': '9:30',\n",
       "    'duracion_vuelo': '4 h 50 min',\n",
       "    'arr_time': '16:20',\n",
       "    'dura_escala': '6 h 50 min',\n",
       "    'origen2': 'Latam Airlines',\n",
       "    'aeroporto_origen2': 'Guarulhos Intl.',\n",
       "    'destino2': '',\n",
       "    'aeroporto_destino2': 'Barajas Intl.',\n",
       "    'dept_time2': '23:10',\n",
       "    'duracion_vuelo2': '9 h 55 min',\n",
       "    'arr_time2': '14:05'}]}]"
      ]
     },
     "execution_count": 64,
     "metadata": {},
     "output_type": "execute_result"
    }
   ],
   "source": [
    "obtener_info(vuelo)"
   ]
  },
  {
   "cell_type": "code",
   "execution_count": 65,
   "metadata": {},
   "outputs": [],
   "source": [
    "driver.close()"
   ]
  },
  {
   "cell_type": "code",
   "execution_count": null,
   "metadata": {},
   "outputs": [],
   "source": []
  },
  {
   "cell_type": "code",
   "execution_count": 35,
   "metadata": {},
   "outputs": [],
   "source": [
    "    aeroporto = driver.find_elements(By.XPATH, \"//span[@class='ariport-name']\")\n",
    "    lugar = driver.find_elements(By.XPATH, \"//span['%%']\")\n",
    "    partida_hr= driver.find_elements(By.XPATH, \"//span[@class='time']\")\n",
    "    \n",
    "    if len(partida_hr) > 5 & len(aeroporto) > 3:\n",
    "        data_dict = {\n",
    "                \"origen\": lugar[0].text,\n",
    "                \"aeroporto_origen\": aeroporto[0].text,\n",
    "                \"destino\": lugar[1].text,\n",
    "                \"aeroporto_destino\": aeroporto[1].text,\n",
    "\n",
    "                \"dept_time\": partida_hr[0].text,\n",
    "                \"duracion_vuelo\": partida_hr[1].text,\n",
    "                \"arr_time\": partida_hr[2].text,\n",
    "\n",
    "                \"dura_escala\": partida_hr[3].text,\n",
    "\n",
    "                \"origen2\": lugar[2].text,\n",
    "                \"aeroporto_origen2\": aeroporto[2].text,\n",
    "                \"destino2\": lugar[3].text,\n",
    "                \"aeroporto_destino2\": aeroporto[3].text,\n",
    "\n",
    "                \"dept_time2\": partida_hr[4].text,\n",
    "                \"duracion_vuelo2\": partida_hr[5].text,\n",
    "                \"arr_time2\": partida_hr[6].text,\n",
    "            }\n",
    "        \n",
    "    else:\n",
    "        data_dict = {\n",
    "                \"origen\": lugar[0].text,\n",
    "                \"aeroporto_origen\": aeroporto[0].text,\n",
    "                \"destino\": lugar[1].text,\n",
    "                \"aeroporto_destino\": aeroporto[1].text,\n",
    "\n",
    "                \"dept_time\": partida_hr[0].text,\n",
    "                \"duracion_vuelo\": partida_hr[1].text,\n",
    "                \"arr_time\": partida_hr[2].text,\n",
    "\n",
    "            }\n",
    "                "
   ]
  },
  {
   "cell_type": "code",
   "execution_count": 25,
   "metadata": {},
   "outputs": [],
   "source": [
    "wamne =  aeroporto[1].text"
   ]
  },
  {
   "cell_type": "code",
   "execution_count": 26,
   "metadata": {},
   "outputs": [
    {
     "data": {
      "text/plain": [
       "'Barajas Intl.'"
      ]
     },
     "execution_count": 26,
     "metadata": {},
     "output_type": "execute_result"
    }
   ],
   "source": [
    "wamne"
   ]
  },
  {
   "cell_type": "code",
   "execution_count": 27,
   "metadata": {},
   "outputs": [],
   "source": [
    "www =  lugar[3].text"
   ]
  },
  {
   "cell_type": "code",
   "execution_count": 28,
   "metadata": {},
   "outputs": [
    {
     "data": {
      "text/plain": [
       "''"
      ]
     },
     "execution_count": 28,
     "metadata": {},
     "output_type": "execute_result"
    }
   ],
   "source": [
    "www"
   ]
  },
  {
   "cell_type": "code",
   "execution_count": 29,
   "metadata": {},
   "outputs": [
    {
     "data": {
      "text/plain": [
       "3"
      ]
     },
     "execution_count": 29,
     "metadata": {},
     "output_type": "execute_result"
    }
   ],
   "source": [
    "len(partida_hr)"
   ]
  },
  {
   "cell_type": "code",
   "execution_count": 30,
   "metadata": {},
   "outputs": [
    {
     "ename": "IndexError",
     "evalue": "list index out of range",
     "output_type": "error",
     "traceback": [
      "\u001b[1;31m---------------------------------------------------------------------------\u001b[0m",
      "\u001b[1;31mIndexError\u001b[0m                                Traceback (most recent call last)",
      "\u001b[1;32m<ipython-input-30-3a71b2c18729>\u001b[0m in \u001b[0;36m<module>\u001b[1;34m\u001b[0m\n\u001b[1;32m----> 1\u001b[1;33m \u001b[0mparte\u001b[0m \u001b[1;33m=\u001b[0m \u001b[0mpartida_hr\u001b[0m\u001b[1;33m[\u001b[0m\u001b[1;36m5\u001b[0m\u001b[1;33m]\u001b[0m\u001b[1;33m.\u001b[0m\u001b[0mtext\u001b[0m\u001b[1;33m\u001b[0m\u001b[1;33m\u001b[0m\u001b[0m\n\u001b[0m",
      "\u001b[1;31mIndexError\u001b[0m: list index out of range"
     ]
    }
   ],
   "source": [
    "parte = partida_hr[5].text"
   ]
  },
  {
   "cell_type": "code",
   "execution_count": 31,
   "metadata": {},
   "outputs": [
    {
     "ename": "NameError",
     "evalue": "name 'parte' is not defined",
     "output_type": "error",
     "traceback": [
      "\u001b[1;31m---------------------------------------------------------------------------\u001b[0m",
      "\u001b[1;31mNameError\u001b[0m                                 Traceback (most recent call last)",
      "\u001b[1;32m<ipython-input-31-4766a5c21883>\u001b[0m in \u001b[0;36m<module>\u001b[1;34m\u001b[0m\n\u001b[1;32m----> 1\u001b[1;33m \u001b[0mparte\u001b[0m\u001b[1;33m\u001b[0m\u001b[1;33m\u001b[0m\u001b[0m\n\u001b[0m",
      "\u001b[1;31mNameError\u001b[0m: name 'parte' is not defined"
     ]
    }
   ],
   "source": [
    "parte"
   ]
  },
  {
   "cell_type": "code",
   "execution_count": 32,
   "metadata": {
    "scrolled": true
   },
   "outputs": [
    {
     "data": {
      "text/plain": [
       "{'origen': '',\n",
       " 'aeroporto_origen': 'J Chavez Intl.',\n",
       " 'destino': 'Navegación de secciones de usuario.',\n",
       " 'aeroporto_destino': 'Barajas Intl.',\n",
       " 'dept_time': '22:55',\n",
       " 'duracion_vuelo': '11 h 25 min',\n",
       " 'arr_time': '17:20'}"
      ]
     },
     "execution_count": 32,
     "metadata": {},
     "output_type": "execute_result"
    }
   ],
   "source": [
    "data_dict"
   ]
  },
  {
   "cell_type": "code",
   "execution_count": 38,
   "metadata": {},
   "outputs": [
    {
     "data": {
      "text/plain": [
       "3"
      ]
     },
     "execution_count": 38,
     "metadata": {},
     "output_type": "execute_result"
    }
   ],
   "source": [
    "len(partida_hr)"
   ]
  },
  {
   "cell_type": "code",
   "execution_count": 45,
   "metadata": {},
   "outputs": [
    {
     "name": "stdout",
     "output_type": "stream",
     "text": [
      "[<selenium.webdriver.remote.webelement.WebElement (session=\"620a9fe53a205c22f34e34937a779e34\", element=\"a6e61ffa-cf49-4dc8-a9fa-f52d0bd7ab08\")>, <selenium.webdriver.remote.webelement.WebElement (session=\"620a9fe53a205c22f34e34937a779e34\", element=\"9780af0d-16e1-40d8-9562-0b344b3790d2\")>, <selenium.webdriver.remote.webelement.WebElement (session=\"620a9fe53a205c22f34e34937a779e34\", element=\"e460d658-1c2e-418a-9555-e79cf225681d\")>, <selenium.webdriver.remote.webelement.WebElement (session=\"620a9fe53a205c22f34e34937a779e34\", element=\"2ef16893-a5c9-438f-8e03-1e52a666ae33\")>, <selenium.webdriver.remote.webelement.WebElement (session=\"620a9fe53a205c22f34e34937a779e34\", element=\"e166cbab-8d9c-46af-8a08-b07952412d56\")>, <selenium.webdriver.remote.webelement.WebElement (session=\"620a9fe53a205c22f34e34937a779e34\", element=\"028ac83b-09cc-435e-bc96-c02634ebd314\")>, <selenium.webdriver.remote.webelement.WebElement (session=\"620a9fe53a205c22f34e34937a779e34\", element=\"590fe3aa-aeaf-4b3b-ae51-b0e622288a2b\")>]\n"
     ]
    },
    {
     "data": {
      "text/plain": [
       "[{'origen': '',\n",
       "  'aeroporto_origen': 'J Chavez Intl.',\n",
       "  'destino': 'Navegación de secciones de usuario.',\n",
       "  'aeroporto_destino': 'Guarulhos Intl.',\n",
       "  'dept_time': '9:30',\n",
       "  'duracion_vuelo': '4 h 50 min',\n",
       "  'arr_time': '16:20',\n",
       "  'dura_escala': '6 h 50 min',\n",
       "  'origen2': 'Latam Airlines',\n",
       "  'aeroporto_origen2': 'Guarulhos Intl.',\n",
       "  'destino2': '',\n",
       "  'aeroporto_destino2': 'Barajas Intl.',\n",
       "  'dept_time2': '23:10',\n",
       "  'duracion_vuelo2': '9 h 55 min',\n",
       "  'arr_time2': '14:05'}]"
      ]
     },
     "execution_count": 45,
     "metadata": {},
     "output_type": "execute_result"
    }
   ],
   "source": [
    "obtener_datos_escalas(vuelo)"
   ]
  },
  {
   "cell_type": "code",
   "execution_count": null,
   "metadata": {},
   "outputs": [],
   "source": []
  },
  {
   "cell_type": "code",
   "execution_count": 64,
   "metadata": {},
   "outputs": [],
   "source": []
  },
  {
   "cell_type": "code",
   "execution_count": 98,
   "metadata": {},
   "outputs": [],
   "source": [
    "    lista_mes_idas = driver.find_elements(By.XPATH, \"//div[@class='CalendarMonth_caption CalendarMonth_caption_1']\")\n",
    "    lista_mes_idas = lista_mes_idas[1:4]\n",
    "    lista_mes_idas_1 = []\n",
    "    time.sleep(1)\n",
    "\n",
    "    for x in lista_mes_idas:\n",
    "        texto = x.text\n",
    "        texto = texto.split(\" \")\n",
    "        texto = texto[0].lower()\n",
    "        time.sleep(1)\n",
    "        lista_mes_idas_1.append(texto)"
   ]
  },
  {
   "cell_type": "code",
   "execution_count": 99,
   "metadata": {},
   "outputs": [
    {
     "data": {
      "text/plain": [
       "['agosto', 'septiembre', 'octubre']"
      ]
     },
     "execution_count": 99,
     "metadata": {},
     "output_type": "execute_result"
    }
   ],
   "source": [
    "lista_mes_idas_1"
   ]
  },
  {
   "cell_type": "code",
   "execution_count": 8,
   "metadata": {},
   "outputs": [
    {
     "data": {
      "text/plain": [
       "'https://sp.booking.com/searchresults.html?aid=2182476&label=latamxp-searchextension-pe&utm_source=latamairlines&utm_medium=referral&utm_campaign=pe_latamtravel-booking_latamairlines_referral_aon&utm_content=pe_latamtravel-booking_latamairlines_referral_aon_search-extension&checkin=2023-03-02&checkout=2023-04-14&iata=ASU&iata_orr=1&group_adults=1&group_children=0'"
      ]
     },
     "execution_count": 8,
     "metadata": {},
     "output_type": "execute_result"
    }
   ],
   "source": [
    "driver.current_url"
   ]
  },
  {
   "cell_type": "code",
   "execution_count": 15,
   "metadata": {},
   "outputs": [],
   "source": [
    "driver.switch_to.window(driver.window_handles[1])"
   ]
  },
  {
   "cell_type": "code",
   "execution_count": 17,
   "metadata": {},
   "outputs": [],
   "source": [
    "#driver.switch_to.window(driver.get(1))"
   ]
  },
  {
   "cell_type": "code",
   "execution_count": 19,
   "metadata": {},
   "outputs": [
    {
     "data": {
      "text/plain": [
       "'https://www.latamairlines.com/pe/es/ofertas-vuelos?origin=LIM&inbound=2023-04-14T17%3A00%3A00.000Z&outbound=2023-03-02T17%3A00%3A00.000Z&destination=ASU&adt=1&chd=0&inf=0&trip=RT&cabin=PremiumEconomy&redemption=false&sort=RECOMMENDED'"
      ]
     },
     "execution_count": 19,
     "metadata": {},
     "output_type": "execute_result"
    }
   ],
   "source": [
    "driver.current_url"
   ]
  },
  {
   "cell_type": "code",
   "execution_count": 24,
   "metadata": {},
   "outputs": [
    {
     "ename": "NoSuchWindowException",
     "evalue": "Message: no such window: target window already closed\nfrom unknown error: web view not found\n  (Session info: chrome=105.0.5195.102)\nStacktrace:\nBacktrace:\n\tOrdinal0 [0x00D9DF13+2219795]\n\tOrdinal0 [0x00D32841+1779777]\n\tOrdinal0 [0x00C4423D+803389]\n\tOrdinal0 [0x00C2C70A+706314]\n\tOrdinal0 [0x00C91502+1119490]\n\tOrdinal0 [0x00C9E8FA+1173754]\n\tOrdinal0 [0x00C8E616+1107478]\n\tOrdinal0 [0x00C67F89+950153]\n\tOrdinal0 [0x00C68F56+954198]\n\tGetHandleVerifier [0x01092CB2+3040210]\n\tGetHandleVerifier [0x01082BB4+2974420]\n\tGetHandleVerifier [0x00E36A0A+565546]\n\tGetHandleVerifier [0x00E35680+560544]\n\tOrdinal0 [0x00D39A5C+1808988]\n\tOrdinal0 [0x00D3E3A8+1827752]\n\tOrdinal0 [0x00D3E495+1827989]\n\tOrdinal0 [0x00D480A4+1867940]\n\tBaseThreadInitThunk [0x75A800F9+25]\n\tRtlGetAppContainerNamedObjectPath [0x77447BBE+286]\n\tRtlGetAppContainerNamedObjectPath [0x77447B8E+238]\n",
     "output_type": "error",
     "traceback": [
      "\u001b[1;31m---------------------------------------------------------------------------\u001b[0m",
      "\u001b[1;31mNoSuchWindowException\u001b[0m                     Traceback (most recent call last)",
      "\u001b[1;32m<ipython-input-24-f2618df61780>\u001b[0m in \u001b[0;36m<module>\u001b[1;34m\u001b[0m\n\u001b[1;32m----> 1\u001b[1;33m \u001b[0mx\u001b[0m \u001b[1;33m=\u001b[0m \u001b[0mdriver\u001b[0m\u001b[1;33m.\u001b[0m\u001b[0mcurrent_url\u001b[0m\u001b[1;33m\u001b[0m\u001b[1;33m\u001b[0m\u001b[0m\n\u001b[0m",
      "\u001b[1;32m~\\anaconda3\\lib\\site-packages\\selenium\\webdriver\\remote\\webdriver.py\u001b[0m in \u001b[0;36mcurrent_url\u001b[1;34m(self)\u001b[0m\n\u001b[0;32m    525\u001b[0m                 \u001b[0mdriver\u001b[0m\u001b[1;33m.\u001b[0m\u001b[0mcurrent_url\u001b[0m\u001b[1;33m\u001b[0m\u001b[1;33m\u001b[0m\u001b[0m\n\u001b[0;32m    526\u001b[0m         \"\"\"\n\u001b[1;32m--> 527\u001b[1;33m         \u001b[1;32mreturn\u001b[0m \u001b[0mself\u001b[0m\u001b[1;33m.\u001b[0m\u001b[0mexecute\u001b[0m\u001b[1;33m(\u001b[0m\u001b[0mCommand\u001b[0m\u001b[1;33m.\u001b[0m\u001b[0mGET_CURRENT_URL\u001b[0m\u001b[1;33m)\u001b[0m\u001b[1;33m[\u001b[0m\u001b[1;34m'value'\u001b[0m\u001b[1;33m]\u001b[0m\u001b[1;33m\u001b[0m\u001b[1;33m\u001b[0m\u001b[0m\n\u001b[0m\u001b[0;32m    528\u001b[0m \u001b[1;33m\u001b[0m\u001b[0m\n\u001b[0;32m    529\u001b[0m     \u001b[1;33m@\u001b[0m\u001b[0mproperty\u001b[0m\u001b[1;33m\u001b[0m\u001b[1;33m\u001b[0m\u001b[0m\n",
      "\u001b[1;32m~\\anaconda3\\lib\\site-packages\\selenium\\webdriver\\remote\\webdriver.py\u001b[0m in \u001b[0;36mexecute\u001b[1;34m(self, driver_command, params)\u001b[0m\n\u001b[0;32m    426\u001b[0m         \u001b[0mresponse\u001b[0m \u001b[1;33m=\u001b[0m \u001b[0mself\u001b[0m\u001b[1;33m.\u001b[0m\u001b[0mcommand_executor\u001b[0m\u001b[1;33m.\u001b[0m\u001b[0mexecute\u001b[0m\u001b[1;33m(\u001b[0m\u001b[0mdriver_command\u001b[0m\u001b[1;33m,\u001b[0m \u001b[0mparams\u001b[0m\u001b[1;33m)\u001b[0m\u001b[1;33m\u001b[0m\u001b[1;33m\u001b[0m\u001b[0m\n\u001b[0;32m    427\u001b[0m         \u001b[1;32mif\u001b[0m \u001b[0mresponse\u001b[0m\u001b[1;33m:\u001b[0m\u001b[1;33m\u001b[0m\u001b[1;33m\u001b[0m\u001b[0m\n\u001b[1;32m--> 428\u001b[1;33m             \u001b[0mself\u001b[0m\u001b[1;33m.\u001b[0m\u001b[0merror_handler\u001b[0m\u001b[1;33m.\u001b[0m\u001b[0mcheck_response\u001b[0m\u001b[1;33m(\u001b[0m\u001b[0mresponse\u001b[0m\u001b[1;33m)\u001b[0m\u001b[1;33m\u001b[0m\u001b[1;33m\u001b[0m\u001b[0m\n\u001b[0m\u001b[0;32m    429\u001b[0m             response['value'] = self._unwrap_value(\n\u001b[0;32m    430\u001b[0m                 response.get('value', None))\n",
      "\u001b[1;32m~\\anaconda3\\lib\\site-packages\\selenium\\webdriver\\remote\\errorhandler.py\u001b[0m in \u001b[0;36mcheck_response\u001b[1;34m(self, response)\u001b[0m\n\u001b[0;32m    241\u001b[0m                 \u001b[0malert_text\u001b[0m \u001b[1;33m=\u001b[0m \u001b[0mvalue\u001b[0m\u001b[1;33m[\u001b[0m\u001b[1;34m'alert'\u001b[0m\u001b[1;33m]\u001b[0m\u001b[1;33m.\u001b[0m\u001b[0mget\u001b[0m\u001b[1;33m(\u001b[0m\u001b[1;34m'text'\u001b[0m\u001b[1;33m)\u001b[0m\u001b[1;33m\u001b[0m\u001b[1;33m\u001b[0m\u001b[0m\n\u001b[0;32m    242\u001b[0m             \u001b[1;32mraise\u001b[0m \u001b[0mexception_class\u001b[0m\u001b[1;33m(\u001b[0m\u001b[0mmessage\u001b[0m\u001b[1;33m,\u001b[0m \u001b[0mscreen\u001b[0m\u001b[1;33m,\u001b[0m \u001b[0mstacktrace\u001b[0m\u001b[1;33m,\u001b[0m \u001b[0malert_text\u001b[0m\u001b[1;33m)\u001b[0m  \u001b[1;31m# type: ignore[call-arg]  # mypy is not smart enough here\u001b[0m\u001b[1;33m\u001b[0m\u001b[1;33m\u001b[0m\u001b[0m\n\u001b[1;32m--> 243\u001b[1;33m         \u001b[1;32mraise\u001b[0m \u001b[0mexception_class\u001b[0m\u001b[1;33m(\u001b[0m\u001b[0mmessage\u001b[0m\u001b[1;33m,\u001b[0m \u001b[0mscreen\u001b[0m\u001b[1;33m,\u001b[0m \u001b[0mstacktrace\u001b[0m\u001b[1;33m)\u001b[0m\u001b[1;33m\u001b[0m\u001b[1;33m\u001b[0m\u001b[0m\n\u001b[0m",
      "\u001b[1;31mNoSuchWindowException\u001b[0m: Message: no such window: target window already closed\nfrom unknown error: web view not found\n  (Session info: chrome=105.0.5195.102)\nStacktrace:\nBacktrace:\n\tOrdinal0 [0x00D9DF13+2219795]\n\tOrdinal0 [0x00D32841+1779777]\n\tOrdinal0 [0x00C4423D+803389]\n\tOrdinal0 [0x00C2C70A+706314]\n\tOrdinal0 [0x00C91502+1119490]\n\tOrdinal0 [0x00C9E8FA+1173754]\n\tOrdinal0 [0x00C8E616+1107478]\n\tOrdinal0 [0x00C67F89+950153]\n\tOrdinal0 [0x00C68F56+954198]\n\tGetHandleVerifier [0x01092CB2+3040210]\n\tGetHandleVerifier [0x01082BB4+2974420]\n\tGetHandleVerifier [0x00E36A0A+565546]\n\tGetHandleVerifier [0x00E35680+560544]\n\tOrdinal0 [0x00D39A5C+1808988]\n\tOrdinal0 [0x00D3E3A8+1827752]\n\tOrdinal0 [0x00D3E495+1827989]\n\tOrdinal0 [0x00D480A4+1867940]\n\tBaseThreadInitThunk [0x75A800F9+25]\n\tRtlGetAppContainerNamedObjectPath [0x77447BBE+286]\n\tRtlGetAppContainerNamedObjectPath [0x77447B8E+238]\n"
     ]
    }
   ],
   "source": [
    "x = driver.current_url"
   ]
  },
  {
   "cell_type": "code",
   "execution_count": 25,
   "metadata": {},
   "outputs": [
    {
     "data": {
      "text/plain": [
       "'https://www.latamairlines.com/pe/es/ofertas-vuelos?origin=LIM&inbound=2023-04-14T17%3A00%3A00.000Z&outbound=2023-03-02T17%3A00%3A00.000Z&destination=ASU&adt=1&chd=0&inf=0&trip=RT&cabin=PremiumEconomy&redemption=false&sort=RECOMMENDED'"
      ]
     },
     "execution_count": 25,
     "metadata": {},
     "output_type": "execute_result"
    }
   ],
   "source": [
    "x"
   ]
  },
  {
   "cell_type": "code",
   "execution_count": 26,
   "metadata": {},
   "outputs": [
    {
     "ename": "NoSuchWindowException",
     "evalue": "Message: no such window: target window already closed\nfrom unknown error: web view not found\n  (Session info: chrome=105.0.5195.102)\nStacktrace:\nBacktrace:\n\tOrdinal0 [0x00D9DF13+2219795]\n\tOrdinal0 [0x00D32841+1779777]\n\tOrdinal0 [0x00C4423D+803389]\n\tOrdinal0 [0x00C2C70A+706314]\n\tOrdinal0 [0x00C91502+1119490]\n\tOrdinal0 [0x00C94F7E+1134462]\n\tOrdinal0 [0x00C8E7C3+1107907]\n\tOrdinal0 [0x00C67F89+950153]\n\tOrdinal0 [0x00C68F56+954198]\n\tGetHandleVerifier [0x01092CB2+3040210]\n\tGetHandleVerifier [0x01082BB4+2974420]\n\tGetHandleVerifier [0x00E36A0A+565546]\n\tGetHandleVerifier [0x00E35680+560544]\n\tOrdinal0 [0x00D39A5C+1808988]\n\tOrdinal0 [0x00D3E3A8+1827752]\n\tOrdinal0 [0x00D3E495+1827989]\n\tOrdinal0 [0x00D480A4+1867940]\n\tBaseThreadInitThunk [0x75A800F9+25]\n\tRtlGetAppContainerNamedObjectPath [0x77447BBE+286]\n\tRtlGetAppContainerNamedObjectPath [0x77447B8E+238]\n",
     "output_type": "error",
     "traceback": [
      "\u001b[1;31m---------------------------------------------------------------------------\u001b[0m",
      "\u001b[1;31mNoSuchWindowException\u001b[0m                     Traceback (most recent call last)",
      "\u001b[1;32m<ipython-input-26-ad0c9a213c39>\u001b[0m in \u001b[0;36m<module>\u001b[1;34m\u001b[0m\n\u001b[1;32m----> 1\u001b[1;33m \u001b[0mdriver\u001b[0m\u001b[1;33m.\u001b[0m\u001b[0mclose\u001b[0m\u001b[1;33m(\u001b[0m\u001b[1;33m)\u001b[0m\u001b[1;33m\u001b[0m\u001b[1;33m\u001b[0m\u001b[0m\n\u001b[0m",
      "\u001b[1;32m~\\anaconda3\\lib\\site-packages\\selenium\\webdriver\\remote\\webdriver.py\u001b[0m in \u001b[0;36mclose\u001b[1;34m(self)\u001b[0m\n\u001b[0;32m    548\u001b[0m                 \u001b[0mdriver\u001b[0m\u001b[1;33m.\u001b[0m\u001b[0mclose\u001b[0m\u001b[1;33m(\u001b[0m\u001b[1;33m)\u001b[0m\u001b[1;33m\u001b[0m\u001b[1;33m\u001b[0m\u001b[0m\n\u001b[0;32m    549\u001b[0m         \"\"\"\n\u001b[1;32m--> 550\u001b[1;33m         \u001b[0mself\u001b[0m\u001b[1;33m.\u001b[0m\u001b[0mexecute\u001b[0m\u001b[1;33m(\u001b[0m\u001b[0mCommand\u001b[0m\u001b[1;33m.\u001b[0m\u001b[0mCLOSE\u001b[0m\u001b[1;33m)\u001b[0m\u001b[1;33m\u001b[0m\u001b[1;33m\u001b[0m\u001b[0m\n\u001b[0m\u001b[0;32m    551\u001b[0m \u001b[1;33m\u001b[0m\u001b[0m\n\u001b[0;32m    552\u001b[0m     \u001b[1;32mdef\u001b[0m \u001b[0mquit\u001b[0m\u001b[1;33m(\u001b[0m\u001b[0mself\u001b[0m\u001b[1;33m)\u001b[0m \u001b[1;33m->\u001b[0m \u001b[1;32mNone\u001b[0m\u001b[1;33m:\u001b[0m\u001b[1;33m\u001b[0m\u001b[1;33m\u001b[0m\u001b[0m\n",
      "\u001b[1;32m~\\anaconda3\\lib\\site-packages\\selenium\\webdriver\\remote\\webdriver.py\u001b[0m in \u001b[0;36mexecute\u001b[1;34m(self, driver_command, params)\u001b[0m\n\u001b[0;32m    426\u001b[0m         \u001b[0mresponse\u001b[0m \u001b[1;33m=\u001b[0m \u001b[0mself\u001b[0m\u001b[1;33m.\u001b[0m\u001b[0mcommand_executor\u001b[0m\u001b[1;33m.\u001b[0m\u001b[0mexecute\u001b[0m\u001b[1;33m(\u001b[0m\u001b[0mdriver_command\u001b[0m\u001b[1;33m,\u001b[0m \u001b[0mparams\u001b[0m\u001b[1;33m)\u001b[0m\u001b[1;33m\u001b[0m\u001b[1;33m\u001b[0m\u001b[0m\n\u001b[0;32m    427\u001b[0m         \u001b[1;32mif\u001b[0m \u001b[0mresponse\u001b[0m\u001b[1;33m:\u001b[0m\u001b[1;33m\u001b[0m\u001b[1;33m\u001b[0m\u001b[0m\n\u001b[1;32m--> 428\u001b[1;33m             \u001b[0mself\u001b[0m\u001b[1;33m.\u001b[0m\u001b[0merror_handler\u001b[0m\u001b[1;33m.\u001b[0m\u001b[0mcheck_response\u001b[0m\u001b[1;33m(\u001b[0m\u001b[0mresponse\u001b[0m\u001b[1;33m)\u001b[0m\u001b[1;33m\u001b[0m\u001b[1;33m\u001b[0m\u001b[0m\n\u001b[0m\u001b[0;32m    429\u001b[0m             response['value'] = self._unwrap_value(\n\u001b[0;32m    430\u001b[0m                 response.get('value', None))\n",
      "\u001b[1;32m~\\anaconda3\\lib\\site-packages\\selenium\\webdriver\\remote\\errorhandler.py\u001b[0m in \u001b[0;36mcheck_response\u001b[1;34m(self, response)\u001b[0m\n\u001b[0;32m    241\u001b[0m                 \u001b[0malert_text\u001b[0m \u001b[1;33m=\u001b[0m \u001b[0mvalue\u001b[0m\u001b[1;33m[\u001b[0m\u001b[1;34m'alert'\u001b[0m\u001b[1;33m]\u001b[0m\u001b[1;33m.\u001b[0m\u001b[0mget\u001b[0m\u001b[1;33m(\u001b[0m\u001b[1;34m'text'\u001b[0m\u001b[1;33m)\u001b[0m\u001b[1;33m\u001b[0m\u001b[1;33m\u001b[0m\u001b[0m\n\u001b[0;32m    242\u001b[0m             \u001b[1;32mraise\u001b[0m \u001b[0mexception_class\u001b[0m\u001b[1;33m(\u001b[0m\u001b[0mmessage\u001b[0m\u001b[1;33m,\u001b[0m \u001b[0mscreen\u001b[0m\u001b[1;33m,\u001b[0m \u001b[0mstacktrace\u001b[0m\u001b[1;33m,\u001b[0m \u001b[0malert_text\u001b[0m\u001b[1;33m)\u001b[0m  \u001b[1;31m# type: ignore[call-arg]  # mypy is not smart enough here\u001b[0m\u001b[1;33m\u001b[0m\u001b[1;33m\u001b[0m\u001b[0m\n\u001b[1;32m--> 243\u001b[1;33m         \u001b[1;32mraise\u001b[0m \u001b[0mexception_class\u001b[0m\u001b[1;33m(\u001b[0m\u001b[0mmessage\u001b[0m\u001b[1;33m,\u001b[0m \u001b[0mscreen\u001b[0m\u001b[1;33m,\u001b[0m \u001b[0mstacktrace\u001b[0m\u001b[1;33m)\u001b[0m\u001b[1;33m\u001b[0m\u001b[1;33m\u001b[0m\u001b[0m\n\u001b[0m",
      "\u001b[1;31mNoSuchWindowException\u001b[0m: Message: no such window: target window already closed\nfrom unknown error: web view not found\n  (Session info: chrome=105.0.5195.102)\nStacktrace:\nBacktrace:\n\tOrdinal0 [0x00D9DF13+2219795]\n\tOrdinal0 [0x00D32841+1779777]\n\tOrdinal0 [0x00C4423D+803389]\n\tOrdinal0 [0x00C2C70A+706314]\n\tOrdinal0 [0x00C91502+1119490]\n\tOrdinal0 [0x00C94F7E+1134462]\n\tOrdinal0 [0x00C8E7C3+1107907]\n\tOrdinal0 [0x00C67F89+950153]\n\tOrdinal0 [0x00C68F56+954198]\n\tGetHandleVerifier [0x01092CB2+3040210]\n\tGetHandleVerifier [0x01082BB4+2974420]\n\tGetHandleVerifier [0x00E36A0A+565546]\n\tGetHandleVerifier [0x00E35680+560544]\n\tOrdinal0 [0x00D39A5C+1808988]\n\tOrdinal0 [0x00D3E3A8+1827752]\n\tOrdinal0 [0x00D3E495+1827989]\n\tOrdinal0 [0x00D480A4+1867940]\n\tBaseThreadInitThunk [0x75A800F9+25]\n\tRtlGetAppContainerNamedObjectPath [0x77447BBE+286]\n\tRtlGetAppContainerNamedObjectPath [0x77447B8E+238]\n"
     ]
    }
   ],
   "source": [
    "driver.close()"
   ]
  },
  {
   "cell_type": "code",
   "execution_count": null,
   "metadata": {},
   "outputs": [],
   "source": []
  }
 ],
 "metadata": {
  "kernelspec": {
   "display_name": "Python 3",
   "language": "python",
   "name": "python3"
  },
  "language_info": {
   "codemirror_mode": {
    "name": "ipython",
    "version": 3
   },
   "file_extension": ".py",
   "mimetype": "text/x-python",
   "name": "python",
   "nbconvert_exporter": "python",
   "pygments_lexer": "ipython3",
   "version": "3.8.3"
  }
 },
 "nbformat": 4,
 "nbformat_minor": 4
}
