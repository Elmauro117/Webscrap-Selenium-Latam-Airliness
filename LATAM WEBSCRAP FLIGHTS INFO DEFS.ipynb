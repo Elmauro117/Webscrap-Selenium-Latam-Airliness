{
 "cells": [
  {
   "cell_type": "code",
   "execution_count": 97,
   "metadata": {},
   "outputs": [],
   "source": [
    "import requests\n",
    "from bs4 import BeautifulSoup"
   ]
  },
  {
   "cell_type": "code",
   "execution_count": 98,
   "metadata": {},
   "outputs": [],
   "source": [
    "url = \"https://www.latamairlines.com/pe/es/ofertas-vuelos?origin=LIM&inbound=2023-06-24T17%3A00%3A00.000Z&outbound=2023-05-20T17%3A00%3A00.000Z&destination=MAD&adt=1&chd=0&inf=0&trip=RT&cabin=Economy&redemption=false&sort=RECOMMENDED\""
   ]
  },
  {
   "cell_type": "code",
   "execution_count": 99,
   "metadata": {},
   "outputs": [],
   "source": [
    "r = requests.get(url)"
   ]
  },
  {
   "cell_type": "code",
   "execution_count": 100,
   "metadata": {},
   "outputs": [
    {
     "data": {
      "text/plain": [
       "200"
      ]
     },
     "execution_count": 100,
     "metadata": {},
     "output_type": "execute_result"
    }
   ],
   "source": [
    "r.status_code"
   ]
  },
  {
   "cell_type": "code",
   "execution_count": 101,
   "metadata": {},
   "outputs": [],
   "source": [
    "s = BeautifulSoup(r.text,'lxml')"
   ]
  },
  {
   "cell_type": "code",
   "execution_count": 74,
   "metadata": {},
   "outputs": [],
   "source": [
    "#print(s.prettify())"
   ]
  },
  {
   "cell_type": "code",
   "execution_count": 75,
   "metadata": {},
   "outputs": [],
   "source": [
    "from selenium import webdriver\n",
    "from selenium.webdriver import Keys\n",
    "from selenium.webdriver.support.ui import Select\n",
    "from selenium.webdriver.common.by import By"
   ]
  },
  {
   "cell_type": "code",
   "execution_count": 76,
   "metadata": {},
   "outputs": [
    {
     "name": "stderr",
     "output_type": "stream",
     "text": [
      "<ipython-input-76-e8535a51902f>:4: DeprecationWarning: executable_path has been deprecated, please pass in a Service object\n",
      "  driver = webdriver.Chrome(executable_path=r\"F:\\\\Chrome driver\\\\chromedriver.exe\", options = options)\n"
     ]
    }
   ],
   "source": [
    "options = webdriver.ChromeOptions()\n",
    "options.add_argument(\"--incognito\")\n",
    "\n",
    "driver = webdriver.Chrome(executable_path=r\"F:\\\\Chrome driver\\\\chromedriver.exe\", options = options)"
   ]
  },
  {
   "cell_type": "code",
   "execution_count": 77,
   "metadata": {},
   "outputs": [],
   "source": [
    "driver.get(url)"
   ]
  },
  {
   "cell_type": "code",
   "execution_count": 78,
   "metadata": {
    "scrolled": true
   },
   "outputs": [
    {
     "data": {
      "text/plain": [
       "[<selenium.webdriver.remote.webelement.WebElement (session=\"dfe3233d10199b223dcf161b50c97902\", element=\"2b0f80da-ae30-4f70-b1ce-9fed60eebf40\")>,\n",
       " <selenium.webdriver.remote.webelement.WebElement (session=\"dfe3233d10199b223dcf161b50c97902\", element=\"79a0b3ff-ce61-4361-96c3-33b3eca01eae\")>,\n",
       " <selenium.webdriver.remote.webelement.WebElement (session=\"dfe3233d10199b223dcf161b50c97902\", element=\"1148d8ac-f954-4691-81a7-f930e9e5f08f\")>,\n",
       " <selenium.webdriver.remote.webelement.WebElement (session=\"dfe3233d10199b223dcf161b50c97902\", element=\"c8150856-17ff-41fd-bee4-c7c38448a69a\")>,\n",
       " <selenium.webdriver.remote.webelement.WebElement (session=\"dfe3233d10199b223dcf161b50c97902\", element=\"e39838c0-6f31-481c-8161-b338208d97aa\")>,\n",
       " <selenium.webdriver.remote.webelement.WebElement (session=\"dfe3233d10199b223dcf161b50c97902\", element=\"fd2049ba-a267-4b1e-887d-686e67f228ea\")>,\n",
       " <selenium.webdriver.remote.webelement.WebElement (session=\"dfe3233d10199b223dcf161b50c97902\", element=\"8b7df5ac-e34d-4b56-85bc-4699c0cba7cf\")>,\n",
       " <selenium.webdriver.remote.webelement.WebElement (session=\"dfe3233d10199b223dcf161b50c97902\", element=\"c755dee9-ee13-4703-a6bc-32221301ae1c\")>,\n",
       " <selenium.webdriver.remote.webelement.WebElement (session=\"dfe3233d10199b223dcf161b50c97902\", element=\"017e2b81-5fc7-4758-a3e8-686044859381\")>,\n",
       " <selenium.webdriver.remote.webelement.WebElement (session=\"dfe3233d10199b223dcf161b50c97902\", element=\"26f68709-c33b-427a-9a01-dbb37bf4c60a\")>,\n",
       " <selenium.webdriver.remote.webelement.WebElement (session=\"dfe3233d10199b223dcf161b50c97902\", element=\"50ee34cf-bc7a-43cc-83f9-47894c283ed2\")>,\n",
       " <selenium.webdriver.remote.webelement.WebElement (session=\"dfe3233d10199b223dcf161b50c97902\", element=\"3908f36d-e6e1-43d1-8198-154112f9048d\")>,\n",
       " <selenium.webdriver.remote.webelement.WebElement (session=\"dfe3233d10199b223dcf161b50c97902\", element=\"068d87ca-c62b-433b-bbbc-3fa358cf6957\")>,\n",
       " <selenium.webdriver.remote.webelement.WebElement (session=\"dfe3233d10199b223dcf161b50c97902\", element=\"9b6f5511-fc28-4df7-b22c-aaef60657833\")>,\n",
       " <selenium.webdriver.remote.webelement.WebElement (session=\"dfe3233d10199b223dcf161b50c97902\", element=\"9fff0230-50d8-4b7c-b985-f39d88f4856e\")>,\n",
       " <selenium.webdriver.remote.webelement.WebElement (session=\"dfe3233d10199b223dcf161b50c97902\", element=\"678ff704-f78d-4c07-96c8-26a4ed2c20ef\")>,\n",
       " <selenium.webdriver.remote.webelement.WebElement (session=\"dfe3233d10199b223dcf161b50c97902\", element=\"ae371614-7f50-42c0-bcef-28429a6671ee\")>,\n",
       " <selenium.webdriver.remote.webelement.WebElement (session=\"dfe3233d10199b223dcf161b50c97902\", element=\"c57d4b6a-5764-487d-945e-3e9598d43b3b\")>,\n",
       " <selenium.webdriver.remote.webelement.WebElement (session=\"dfe3233d10199b223dcf161b50c97902\", element=\"a433d067-da3e-4d33-b8ea-620288082eed\")>,\n",
       " <selenium.webdriver.remote.webelement.WebElement (session=\"dfe3233d10199b223dcf161b50c97902\", element=\"1b4b9b0b-ba04-40d0-9dfa-8a560dca58c1\")>,\n",
       " <selenium.webdriver.remote.webelement.WebElement (session=\"dfe3233d10199b223dcf161b50c97902\", element=\"f04aef86-95d9-456a-9cb8-88fb4b229a79\")>,\n",
       " <selenium.webdriver.remote.webelement.WebElement (session=\"dfe3233d10199b223dcf161b50c97902\", element=\"294812ca-e00f-4d20-9725-61f230223eb9\")>,\n",
       " <selenium.webdriver.remote.webelement.WebElement (session=\"dfe3233d10199b223dcf161b50c97902\", element=\"a23af2ba-2d2f-40ed-b3c2-4e49f68ae397\")>,\n",
       " <selenium.webdriver.remote.webelement.WebElement (session=\"dfe3233d10199b223dcf161b50c97902\", element=\"a51881f9-a463-454b-afe1-a34c67ec8f8f\")>,\n",
       " <selenium.webdriver.remote.webelement.WebElement (session=\"dfe3233d10199b223dcf161b50c97902\", element=\"3b12a9b6-7bb6-4643-ae68-ac17cf6d8cb6\")>,\n",
       " <selenium.webdriver.remote.webelement.WebElement (session=\"dfe3233d10199b223dcf161b50c97902\", element=\"f4431ae7-6b0d-4b5b-8cfc-7e6e4305cb30\")>,\n",
       " <selenium.webdriver.remote.webelement.WebElement (session=\"dfe3233d10199b223dcf161b50c97902\", element=\"ec6c1808-45c0-40c0-9ee4-d9167c2247dc\")>,\n",
       " <selenium.webdriver.remote.webelement.WebElement (session=\"dfe3233d10199b223dcf161b50c97902\", element=\"04ee8565-fd3f-40b6-ae49-a226c63a2e24\")>,\n",
       " <selenium.webdriver.remote.webelement.WebElement (session=\"dfe3233d10199b223dcf161b50c97902\", element=\"3775ed47-cbbf-4ba2-af03-e58cc1e905d6\")>,\n",
       " <selenium.webdriver.remote.webelement.WebElement (session=\"dfe3233d10199b223dcf161b50c97902\", element=\"16945c1f-d9dc-4490-88a5-7aacb50e8534\")>]"
      ]
     },
     "execution_count": 78,
     "metadata": {},
     "output_type": "execute_result"
    }
   ],
   "source": [
    "vuelos = driver.find_elements(By.XPATH, \"//li[@class='sc-fQfKYo hqsges']\")\n",
    "vuelos"
   ]
  },
  {
   "cell_type": "code",
   "execution_count": 79,
   "metadata": {},
   "outputs": [],
   "source": [
    "vuelo =  vuelos[1]"
   ]
  },
  {
   "cell_type": "code",
   "execution_count": 12,
   "metadata": {},
   "outputs": [
    {
     "data": {
      "text/plain": [
       "<selenium.webdriver.remote.webelement.WebElement (session=\"3d0274017d6a0b2e598a6d524cf50d7f\", element=\"74dc58eb-2c99-4e76-8940-38e8678b4102\")>"
      ]
     },
     "execution_count": 12,
     "metadata": {},
     "output_type": "execute_result"
    }
   ],
   "source": [
    "vuelo"
   ]
  },
  {
   "cell_type": "code",
   "execution_count": 13,
   "metadata": {},
   "outputs": [],
   "source": [
    "x=vuelo.find_elements(By.XPATH, \"//span[@class='sc-hkHFWD lomdTu']\")\n",
    "\n",
    "# Caso quieras buscar el segundo elemento exlcusivamente, tambien se pedue ahcer por orden de listas\n",
    "#x2=vuelo.find_elements(By.XPATH, \"(//span[@class='sc-hkHFWD lomdTu'])[2]\")\n",
    "# x2"
   ]
  },
  {
   "cell_type": "code",
   "execution_count": 14,
   "metadata": {},
   "outputs": [
    {
     "data": {
      "text/plain": [
       "[]"
      ]
     },
     "execution_count": 14,
     "metadata": {},
     "output_type": "execute_result"
    }
   ],
   "source": [
    "x"
   ]
  },
  {
   "cell_type": "code",
   "execution_count": 15,
   "metadata": {},
   "outputs": [
    {
     "ename": "IndexError",
     "evalue": "list index out of range",
     "output_type": "error",
     "traceback": [
      "\u001b[1;31m---------------------------------------------------------------------------\u001b[0m",
      "\u001b[1;31mIndexError\u001b[0m                                Traceback (most recent call last)",
      "\u001b[1;32m<ipython-input-15-56c5fbef2204>\u001b[0m in \u001b[0;36m<module>\u001b[1;34m\u001b[0m\n\u001b[1;32m----> 1\u001b[1;33m \u001b[0mx1\u001b[0m \u001b[1;33m=\u001b[0m \u001b[0mx\u001b[0m\u001b[1;33m[\u001b[0m\u001b[1;36m0\u001b[0m\u001b[1;33m]\u001b[0m\u001b[1;33m\u001b[0m\u001b[1;33m\u001b[0m\u001b[0m\n\u001b[0m\u001b[0;32m      2\u001b[0m \u001b[0mx2\u001b[0m \u001b[1;33m=\u001b[0m \u001b[0mx\u001b[0m\u001b[1;33m[\u001b[0m\u001b[1;36m1\u001b[0m\u001b[1;33m]\u001b[0m\u001b[1;33m\u001b[0m\u001b[1;33m\u001b[0m\u001b[0m\n",
      "\u001b[1;31mIndexError\u001b[0m: list index out of range"
     ]
    }
   ],
   "source": [
    "x1 = x[0]\n",
    "x2 = x[1]\n"
   ]
  },
  {
   "cell_type": "code",
   "execution_count": 17,
   "metadata": {},
   "outputs": [],
   "source": [
    "x3=vuelo.find_elements(By.XPATH, \"//span[@class='sc-goFBvh kpzJsB']\")\n",
    "x33 = x3[0]"
   ]
  },
  {
   "cell_type": "code",
   "execution_count": 18,
   "metadata": {
    "scrolled": true
   },
   "outputs": [
    {
     "name": "stdout",
     "output_type": "stream",
     "text": [
      "22:55\n",
      "17:20\n",
      "+1\n",
      "11 h 25 min\n"
     ]
    }
   ],
   "source": [
    "## Partida hr\n",
    "print(x1.text)\n",
    "## Llegada hr\n",
    "print(x2.text)\n",
    "## Dureishon hr\n",
    "print(x33.text)"
   ]
  },
  {
   "cell_type": "code",
   "execution_count": 19,
   "metadata": {},
   "outputs": [
    {
     "data": {
      "text/plain": [
       "'22:55'"
      ]
     },
     "execution_count": 19,
     "metadata": {},
     "output_type": "execute_result"
    }
   ],
   "source": [
    "## Horacio calcatera\n",
    "x1.text"
   ]
  },
  {
   "cell_type": "code",
   "execution_count": 20,
   "metadata": {},
   "outputs": [
    {
     "data": {
      "text/plain": [
       "'17:20\\n+1'"
      ]
     },
     "execution_count": 20,
     "metadata": {},
     "output_type": "execute_result"
    }
   ],
   "source": [
    "## Llegada\n",
    "x2.text"
   ]
  },
  {
   "cell_type": "code",
   "execution_count": 21,
   "metadata": {},
   "outputs": [
    {
     "data": {
      "text/plain": [
       "'11 h 25 min'"
      ]
     },
     "execution_count": 21,
     "metadata": {},
     "output_type": "execute_result"
    }
   ],
   "source": [
    "## Duracion\n",
    "x33.text"
   ]
  },
  {
   "cell_type": "code",
   "execution_count": 19,
   "metadata": {},
   "outputs": [],
   "source": [
    "boton = vuelo.find_elements(By.XPATH, \"//a[@data-reference='modal-air-offers']\")"
   ]
  },
  {
   "cell_type": "code",
   "execution_count": 20,
   "metadata": {},
   "outputs": [],
   "source": [
    "button = boton[1]"
   ]
  },
  {
   "cell_type": "code",
   "execution_count": 21,
   "metadata": {},
   "outputs": [
    {
     "data": {
      "text/plain": [
       "<selenium.webdriver.remote.webelement.WebElement (session=\"5189ef9e458ca5d47c2b57a14041d79c\", element=\"c0727720-92bd-4ecc-bfa2-0866fd0ef255\")>"
      ]
     },
     "execution_count": 21,
     "metadata": {},
     "output_type": "execute_result"
    }
   ],
   "source": [
    "button"
   ]
  },
  {
   "cell_type": "code",
   "execution_count": 22,
   "metadata": {},
   "outputs": [
    {
     "data": {
      "text/plain": [
       "'1 parada'"
      ]
     },
     "execution_count": 22,
     "metadata": {},
     "output_type": "execute_result"
    }
   ],
   "source": [
    "button.text"
   ]
  },
  {
   "cell_type": "code",
   "execution_count": 23,
   "metadata": {},
   "outputs": [],
   "source": [
    "button.click()  "
   ]
  },
  {
   "cell_type": "code",
   "execution_count": 30,
   "metadata": {},
   "outputs": [],
   "source": [
    "segmento = vuelo.find_elements(By.XPATH, \"//div[@class='sc-jFpLkX jAGOAr']\")"
   ]
  },
  {
   "cell_type": "code",
   "execution_count": 31,
   "metadata": {},
   "outputs": [],
   "source": [
    "escalas =len(segmento)-1"
   ]
  },
  {
   "cell_type": "code",
   "execution_count": 32,
   "metadata": {},
   "outputs": [
    {
     "data": {
      "text/plain": [
       "1"
      ]
     },
     "execution_count": 32,
     "metadata": {},
     "output_type": "execute_result"
    }
   ],
   "source": [
    "escalas\n",
    "## Ahi tus escalas:"
   ]
  },
  {
   "cell_type": "code",
   "execution_count": 33,
   "metadata": {},
   "outputs": [],
   "source": [
    "segmento = segmento[0]"
   ]
  },
  {
   "cell_type": "code",
   "execution_count": 34,
   "metadata": {},
   "outputs": [
    {
     "data": {
      "text/plain": [
       "<selenium.webdriver.remote.webelement.WebElement (session=\"5189ef9e458ca5d47c2b57a14041d79c\", element=\"11b2ec19-a50d-49b9-abed-6b557878008b\")>"
      ]
     },
     "execution_count": 34,
     "metadata": {},
     "output_type": "execute_result"
    }
   ],
   "source": [
    "segmento"
   ]
  },
  {
   "cell_type": "code",
   "execution_count": 35,
   "metadata": {},
   "outputs": [],
   "source": [
    "### Tend´rias que jugar con un If elif etc con ESCALAS == 1  2 o 3 o 5 asidfnjasf"
   ]
  },
  {
   "cell_type": "code",
   "execution_count": 36,
   "metadata": {},
   "outputs": [],
   "source": [
    "raa = vuelo.find_elements(By.XPATH, \"//div[@class='iataCode']/span\")"
   ]
  },
  {
   "cell_type": "code",
   "execution_count": 37,
   "metadata": {},
   "outputs": [
    {
     "data": {
      "text/plain": [
       "'16:05'"
      ]
     },
     "execution_count": 37,
     "metadata": {},
     "output_type": "execute_result"
    }
   ],
   "source": [
    "raa[7].text"
   ]
  },
  {
   "cell_type": "code",
   "execution_count": 38,
   "metadata": {},
   "outputs": [],
   "source": [
    "cierro = driver.find_elements(By.XPATH, \"//button[@type='button']\")"
   ]
  },
  {
   "cell_type": "code",
   "execution_count": 39,
   "metadata": {},
   "outputs": [],
   "source": [
    "cierro[0].click()"
   ]
  },
  {
   "cell_type": "code",
   "execution_count": 40,
   "metadata": {},
   "outputs": [],
   "source": [
    "vuelo.click()"
   ]
  },
  {
   "cell_type": "code",
   "execution_count": 45,
   "metadata": {},
   "outputs": [],
   "source": [
    "mas_detalles = vuelo.find_elements(By.XPATH, \"//a[@id='BundleDetailbundle-detail-01-MLESL00F-dialog-open']\")"
   ]
  },
  {
   "cell_type": "code",
   "execution_count": 46,
   "metadata": {},
   "outputs": [
    {
     "ename": "IndexError",
     "evalue": "list index out of range",
     "output_type": "error",
     "traceback": [
      "\u001b[1;31m---------------------------------------------------------------------------\u001b[0m",
      "\u001b[1;31mIndexError\u001b[0m                                Traceback (most recent call last)",
      "\u001b[1;32m<ipython-input-46-3d4db0aa640a>\u001b[0m in \u001b[0;36m<module>\u001b[1;34m\u001b[0m\n\u001b[1;32m----> 1\u001b[1;33m \u001b[0mmas_detalles\u001b[0m\u001b[1;33m[\u001b[0m\u001b[1;36m0\u001b[0m\u001b[1;33m]\u001b[0m\u001b[1;33m.\u001b[0m\u001b[0mclick\u001b[0m\u001b[1;33m(\u001b[0m\u001b[1;33m)\u001b[0m\u001b[1;33m\u001b[0m\u001b[1;33m\u001b[0m\u001b[0m\n\u001b[0m",
      "\u001b[1;31mIndexError\u001b[0m: list index out of range"
     ]
    }
   ],
   "source": [
    "mas_detalles[0].click()"
   ]
  },
  {
   "cell_type": "code",
   "execution_count": 47,
   "metadata": {},
   "outputs": [],
   "source": [
    "precio = vuelo.find_elements(By.XPATH, \".//span[@class='sc-ckYZGd grNCid']\")\n",
    "\n",
    "#### NO TE OLVIDES D EUSA RLE PUNTO .... . . . . .. . . . . "
   ]
  },
  {
   "cell_type": "code",
   "execution_count": 48,
   "metadata": {},
   "outputs": [
    {
     "data": {
      "text/plain": [
       "'956.60'"
      ]
     },
     "execution_count": 48,
     "metadata": {},
     "output_type": "execute_result"
    }
   ],
   "source": [
    "precio[1].text"
   ]
  },
  {
   "cell_type": "code",
   "execution_count": 49,
   "metadata": {},
   "outputs": [
    {
     "data": {
      "text/plain": [
       "[<selenium.webdriver.remote.webelement.WebElement (session=\"5189ef9e458ca5d47c2b57a14041d79c\", element=\"c12587f4-0c48-4774-a31c-2847234b643c\")>,\n",
       " <selenium.webdriver.remote.webelement.WebElement (session=\"5189ef9e458ca5d47c2b57a14041d79c\", element=\"859aa466-71af-4d97-85c7-9b0c03176fc2\")>,\n",
       " <selenium.webdriver.remote.webelement.WebElement (session=\"5189ef9e458ca5d47c2b57a14041d79c\", element=\"1ceedab6-01ce-4938-b688-025ac869ce6a\")>,\n",
       " <selenium.webdriver.remote.webelement.WebElement (session=\"5189ef9e458ca5d47c2b57a14041d79c\", element=\"5940a43b-8b98-4d4c-bde3-6aa3d20e3aa3\")>]"
      ]
     },
     "execution_count": 49,
     "metadata": {},
     "output_type": "execute_result"
    }
   ],
   "source": [
    "precio"
   ]
  },
  {
   "cell_type": "code",
   "execution_count": 170,
   "metadata": {},
   "outputs": [],
   "source": [
    "tarifas = vuelo.find_elements(By.XPATH, \".//div[@class='sc-bveJEc bPLtvA']\")"
   ]
  },
  {
   "cell_type": "code",
   "execution_count": 171,
   "metadata": {},
   "outputs": [
    {
     "name": "stdout",
     "output_type": "stream",
     "text": [
      "{'light': {'moneda': 'USD', 'valor': '966.15'}}\n",
      "{'plus': {'moneda': 'USD', 'valor': '1,041.57'}}\n",
      "{'top': {'moneda': 'USD', 'valor': '1,223.39'}}\n",
      "{'top': {'moneda': 'USD', 'valor': '4,845.99'}}\n"
     ]
    }
   ],
   "source": [
    "precios = []\n",
    "\n",
    "for tarifa in tarifas:\n",
    "    precio = tarifa.find_elements(By.XPATH, \".//span[@class='sc-lmrgJh bggiiV']\")\n",
    "    currency = tarifa.find_elements(By.XPATH, \".//span[@class='sc-lmrgJh bggiiV currency']\")\n",
    "    clase = tarifa.find_elements(By.XPATH, \".//span[@class='sc-khKDHO kCIAAi']\")\n",
    "    sublista = list(range(len(clase)))\n",
    "    for i in sublista:\n",
    "        dict_tarifa = {clase[i].text:{\"moneda\":currency[i].text, \"valor\":precio[i].text}}\n",
    "        precios.append(dict_tarifa)\n",
    "        print(dict_tarifa)\n",
    "## No te salen los 4 porque uno tiene un TARIFA DIV CLASS DIFERENTE"
   ]
  },
  {
   "cell_type": "code",
   "execution_count": 31,
   "metadata": {},
   "outputs": [],
   "source": []
  },
  {
   "cell_type": "code",
   "execution_count": 53,
   "metadata": {},
   "outputs": [
    {
     "ename": "AttributeError",
     "evalue": "'str' object has no attribute 'find_elements'",
     "output_type": "error",
     "traceback": [
      "\u001b[1;31m---------------------------------------------------------------------------\u001b[0m",
      "\u001b[1;31mAttributeError\u001b[0m                            Traceback (most recent call last)",
      "\u001b[1;32m<ipython-input-53-ff7234a7a8ba>\u001b[0m in \u001b[0;36m<module>\u001b[1;34m\u001b[0m\n\u001b[1;32m----> 1\u001b[1;33m \u001b[0mhuevada\u001b[0m \u001b[1;33m=\u001b[0m \u001b[0mpremiums\u001b[0m\u001b[1;33m(\u001b[0m\u001b[1;34m\".//div[@class='sc-gGsJSs cUobTx']\"\u001b[0m\u001b[1;33m)\u001b[0m\u001b[1;33m\u001b[0m\u001b[1;33m\u001b[0m\u001b[0m\n\u001b[0m\u001b[0;32m      2\u001b[0m \u001b[0mprecios\u001b[0m\u001b[1;33m.\u001b[0m\u001b[0mappend\u001b[0m\u001b[1;33m(\u001b[0m\u001b[0mhuevada\u001b[0m\u001b[1;33m)\u001b[0m\u001b[1;33m\u001b[0m\u001b[1;33m\u001b[0m\u001b[0m\n",
      "\u001b[1;32m<ipython-input-52-6d286123a19c>\u001b[0m in \u001b[0;36mpremiums\u001b[1;34m(vuelo)\u001b[0m\n\u001b[0;32m      1\u001b[0m \u001b[1;32mdef\u001b[0m \u001b[0mpremiums\u001b[0m\u001b[1;33m(\u001b[0m\u001b[0mvuelo\u001b[0m\u001b[1;33m)\u001b[0m\u001b[1;33m:\u001b[0m\u001b[1;33m\u001b[0m\u001b[1;33m\u001b[0m\u001b[0m\n\u001b[0;32m      2\u001b[0m \u001b[1;33m\u001b[0m\u001b[0m\n\u001b[1;32m----> 3\u001b[1;33m     \u001b[0mtarifas\u001b[0m \u001b[1;33m=\u001b[0m \u001b[0mvuelo\u001b[0m\u001b[1;33m.\u001b[0m\u001b[0mfind_elements\u001b[0m\u001b[1;33m(\u001b[0m\u001b[0mBy\u001b[0m\u001b[1;33m.\u001b[0m\u001b[0mXPATH\u001b[0m\u001b[1;33m,\u001b[0m \u001b[1;34m\".//div[@class='sc-gGsJSs cUobTx']\"\u001b[0m\u001b[1;33m)\u001b[0m\u001b[1;33m\u001b[0m\u001b[1;33m\u001b[0m\u001b[0m\n\u001b[0m\u001b[0;32m      4\u001b[0m \u001b[1;33m\u001b[0m\u001b[0m\n\u001b[0;32m      5\u001b[0m     \u001b[1;32mfor\u001b[0m \u001b[0mtarifa\u001b[0m \u001b[1;32min\u001b[0m \u001b[0mtarifas\u001b[0m\u001b[1;33m:\u001b[0m\u001b[1;33m\u001b[0m\u001b[1;33m\u001b[0m\u001b[0m\n",
      "\u001b[1;31mAttributeError\u001b[0m: 'str' object has no attribute 'find_elements'"
     ]
    }
   ],
   "source": [
    "huevada = premiums(\".//div[@class='sc-gGsJSs cUobTx']\")\n",
    "precios.append(huevada)"
   ]
  },
  {
   "cell_type": "code",
   "execution_count": 110,
   "metadata": {},
   "outputs": [],
   "source": [
    "precios.pop()\n",
    "# pa bota un null que no se de dond chucha sale"
   ]
  },
  {
   "cell_type": "code",
   "execution_count": 54,
   "metadata": {},
   "outputs": [
    {
     "data": {
      "text/plain": [
       "[{'light': {'moneda': 'USD', 'valor': '881.19'}},\n",
       " {'plus': {'moneda': 'USD', 'valor': '956.60'}},\n",
       " {'top': {'moneda': 'USD', 'valor': '1,134.89'}},\n",
       " {'top': {'moneda': 'USD', 'valor': '4,845.99'}}]"
      ]
     },
     "execution_count": 54,
     "metadata": {},
     "output_type": "execute_result"
    }
   ],
   "source": [
    "precios"
   ]
  },
  {
   "cell_type": "code",
   "execution_count": 90,
   "metadata": {},
   "outputs": [],
   "source": [
    "def premiums(vuelo):\n",
    "    \n",
    "    tarifas = vuelo.find_elements(By.XPATH, \".//div[@class='sc-bveJEc bPLtvA']\")\n",
    "    \n",
    "    precios = []\n",
    "\n",
    "    for tarifa in tarifas:\n",
    "        precio = tarifa.find_elements(By.XPATH, \".//span[@class='sc-lmrgJh bggiiV']\")\n",
    "        currency = tarifa.find_elements(By.XPATH, \".//span[@class='sc-lmrgJh bggiiV currency']\")\n",
    "        clase = tarifa.find_elements(By.XPATH, \".//span[@class='sc-khKDHO kCIAAi']\")\n",
    "        sublista = list(range(len(clase)))\n",
    "        for i in sublista:\n",
    "            dict_tarifa = {clase[i].text:{\"moneda\":currency[i].text, \"valor\":precio[i].text}}\n",
    "            precios.append(dict_tarifa)\n",
    "    return precios"
   ]
  },
  {
   "cell_type": "code",
   "execution_count": 91,
   "metadata": {},
   "outputs": [],
   "source": [
    "def obtener_datos_escalas(vuelo):\n",
    "    \"\"\"\n",
    "    funchon que retorna lista de dicc con info de escalas p\n",
    "    \"\"\"\n",
    "    info_escalas = []\n",
    "    \n",
    "    aeroporto = driver.find_elements(By.XPATH, \"//span[@class='ariport-name']\")\n",
    "    lugar = driver.find_elements(By.XPATH, \"//span['%%']\")\n",
    "    partida_hr= driver.find_elements(By.XPATH, \"//span[@class='time']\")\n",
    "    \n",
    "        \n",
    "    if len(partida_hr)>4:\n",
    "        data_dict = {\n",
    "                \"origen\": lugar[0].text,\n",
    "                \"aeroporto_origen\": aeroporto[0].text,\n",
    "                \"destino\": lugar[1].text,\n",
    "                \"aeroporto_destino\": aeroporto[1].text,\n",
    "\n",
    "                \"dept_time\": partida_hr[0].text,\n",
    "                \"duracion_vuelo\": partida_hr[1].text,\n",
    "                \"arr_time\": partida_hr[2].text,\n",
    "\n",
    "                \"dura_escala\": partida_hr[3].text,\n",
    "\n",
    "                \"origen2\": lugar[2].text,\n",
    "                \"aeroporto_origen2\": aeroporto[2].text,\n",
    "                \"destino2\": lugar[3].text,\n",
    "                \"aeroporto_destino2\": aeroporto[3].text,\n",
    "\n",
    "                \"dept_time2\": partida_hr[4].text,\n",
    "                \"duracion_vuelo2\": partida_hr[5].text,\n",
    "                \"arr_time2\": partida_hr[6].text,\n",
    "            }\n",
    "        info_escalas.append(data_dict)\n",
    "    else:\n",
    "        data_dict = {\n",
    "                \"origen\": lugar[0].text,\n",
    "                \"aeroporto_origen\": aeroporto[0].text,\n",
    "                \"destino\": lugar[1].text,\n",
    "                \"aeroporto_destino\": aeroporto[1].text,\n",
    "\n",
    "                \"dept_time\": partida_hr[0].text,\n",
    "                \"duracion_vuelo\": partida_hr[1].text,\n",
    "                \"arr_time\": partida_hr[2].text,\n",
    "\n",
    "            }\n",
    "                \n",
    "        info_escalas.append(data_dict)\n",
    "    return info_escalas\n"
   ]
  },
  {
   "cell_type": "code",
   "execution_count": 92,
   "metadata": {},
   "outputs": [],
   "source": [
    "def obtener_tiempos(vuelo):\n",
    "    salida=vuelo.find_elements(By.XPATH, \".//span[@class='sc-jbxdUx irLFPy']\")\n",
    "    llegada=vuelo.find_elements(By.XPATH, \".//span[@class='sc-bMuqKn iZseNN']\")\n",
    "    duracion=vuelo.find_elements(By.XPATH, \"(.//span[@class='sc-jbxdUx irLFPy'])[2]\")\n",
    "    \n",
    "    sublista = list(range(len(duracion)))\n",
    "    for i in sublista:\n",
    "        tiempos = {\"hora_salida\": salida[i].text, \"hora_llegada\":llegada[i].text,\n",
    "                   \"duracion\":duracion[i].text}\n",
    "        return tiempos"
   ]
  },
  {
   "cell_type": "code",
   "execution_count": 93,
   "metadata": {},
   "outputs": [],
   "source": [
    "def obtener_info(vuelo):\n",
    "    vuelos = driver.find_elements(By.XPATH, \"//li[@class='sc-fQfKYo hqsges']\")\n",
    "    vuelos = vuelos[:2]\n",
    "    #driver=driver\n",
    "    #sleep.time(4)\n",
    "    print(f\"Se encontraron {len(vuelos)} vuelos.\")\n",
    "    print(\"Iniciando Scraping...\")\n",
    "    info = []\n",
    "    for vuelo in vuelos:\n",
    "             ## Tiempos de c/welo\n",
    "        tiempos = obtener_tiempos(vuelo)\n",
    "             ## clickeamos sobre el BOTON\n",
    "        boton = vuelo.find_elements(By.XPATH, \".//a[@data-reference='modal-air-offers']\")     \n",
    "        boton[0].click()  \n",
    "        escalas = obtener_datos_escalas(vuelo)\n",
    "             #Cerramos \n",
    "        time.sleep(5)\n",
    "        cierro = driver.find_elements(By.XPATH, \".//button[@type='button']\")\n",
    "        cierro[0].click()\n",
    "        time.sleep(3)\n",
    "             ## Click vuelo\n",
    "        vuelo.click()\n",
    "        precios = premiums(vuelo)\n",
    "        time.sleep(2)\n",
    "        cierro = driver.find_elements(By.XPATH, \".//button[@type='button']\")\n",
    "        cierro[0].click()\n",
    "        time.sleep(2)\n",
    "        info.append({\"precios\":precios, \"tiempos\":tiempos,\"escalas\":escalas})\n",
    "    return info\n",
    "        "
   ]
  },
  {
   "cell_type": "code",
   "execution_count": 94,
   "metadata": {},
   "outputs": [],
   "source": [
    "import time"
   ]
  },
  {
   "cell_type": "code",
   "execution_count": null,
   "metadata": {},
   "outputs": [],
   "source": []
  },
  {
   "cell_type": "code",
   "execution_count": 672,
   "metadata": {},
   "outputs": [],
   "source": [
    "boton = driver.find_elements(By.XPATH, \"//a[@data-reference='modal-air-offers']\")\n",
    "#boton\n",
    "Listado = [0]\n",
    "for x in Listado: #list(range(len(boton))):\n",
    "    button = boton[x]\n",
    "    button.click()  "
   ]
  },
  {
   "cell_type": "code",
   "execution_count": 75,
   "metadata": {},
   "outputs": [],
   "source": [
    "for x in vuelos:\n",
    "    boton = x.find_elements(By.XPATH, \"//a[@data-reference='modal-air-offers']\")\n",
    "    #button = boton[0]\n",
    "    #button.click()  "
   ]
  },
  {
   "cell_type": "markdown",
   "metadata": {},
   "source": [
    "# AQUI\n",
    "# AQUI\n",
    "# AQUI"
   ]
  },
  {
   "cell_type": "code",
   "execution_count": 61,
   "metadata": {},
   "outputs": [
    {
     "name": "stderr",
     "output_type": "stream",
     "text": [
      "<ipython-input-61-51a3bc9a6aeb>:5: DeprecationWarning: executable_path has been deprecated, please pass in a Service object\n",
      "  driver = webdriver.Chrome(executable_path=r\"F:\\\\Chrome driver\\\\chromedriver.exe\", options = options)\n"
     ]
    }
   ],
   "source": [
    "options = webdriver.ChromeOptions()\n",
    "options.add_argument(\"--incognito\")\n",
    "url = \"https://www.latamairines.com/pe/es/ofertas-vuelos?origin=LIM&inbound=2023-06-24T17%3A00%3A00.000Z&outbound=2023-05-20T17%3A00%3A00.000Z&destination=MAD&adt=1&chd=0&inf=0&trip=RT&cabin=Economy&redemption=false&sort=RECOMMENDED\"\n",
    "\n",
    "driver = webdriver.Chrome(executable_path=r\"F:\\\\Chrome driver\\\\chromedriver.exe\", options = options)\n",
    "driver.get(url)"
   ]
  },
  {
   "cell_type": "code",
   "execution_count": 95,
   "metadata": {},
   "outputs": [
    {
     "name": "stdout",
     "output_type": "stream",
     "text": [
      "Se encontraron 2 vuelos.\n",
      "Iniciando Scraping...\n"
     ]
    },
    {
     "ename": "IndexError",
     "evalue": "list index out of range",
     "output_type": "error",
     "traceback": [
      "\u001b[1;31m---------------------------------------------------------------------------\u001b[0m",
      "\u001b[1;31mIndexError\u001b[0m                                Traceback (most recent call last)",
      "\u001b[1;32m<ipython-input-95-2aa14b3c0720>\u001b[0m in \u001b[0;36m<module>\u001b[1;34m\u001b[0m\n\u001b[1;32m----> 1\u001b[1;33m \u001b[0mobtener_info\u001b[0m\u001b[1;33m(\u001b[0m\u001b[0mvuelo\u001b[0m\u001b[1;33m)\u001b[0m\u001b[1;33m\u001b[0m\u001b[1;33m\u001b[0m\u001b[0m\n\u001b[0m",
      "\u001b[1;32m<ipython-input-93-21beaf8e1fbd>\u001b[0m in \u001b[0;36mobtener_info\u001b[1;34m(vuelo)\u001b[0m\n\u001b[0;32m     13\u001b[0m         \u001b[0mboton\u001b[0m \u001b[1;33m=\u001b[0m \u001b[0mvuelo\u001b[0m\u001b[1;33m.\u001b[0m\u001b[0mfind_elements\u001b[0m\u001b[1;33m(\u001b[0m\u001b[0mBy\u001b[0m\u001b[1;33m.\u001b[0m\u001b[0mXPATH\u001b[0m\u001b[1;33m,\u001b[0m \u001b[1;34m\".//a[@data-reference='modal-air-offers']\"\u001b[0m\u001b[1;33m)\u001b[0m\u001b[1;33m\u001b[0m\u001b[1;33m\u001b[0m\u001b[0m\n\u001b[0;32m     14\u001b[0m         \u001b[0mboton\u001b[0m\u001b[1;33m[\u001b[0m\u001b[1;36m0\u001b[0m\u001b[1;33m]\u001b[0m\u001b[1;33m.\u001b[0m\u001b[0mclick\u001b[0m\u001b[1;33m(\u001b[0m\u001b[1;33m)\u001b[0m\u001b[1;33m\u001b[0m\u001b[1;33m\u001b[0m\u001b[0m\n\u001b[1;32m---> 15\u001b[1;33m         \u001b[0mescalas\u001b[0m \u001b[1;33m=\u001b[0m \u001b[0mobtener_datos_escalas\u001b[0m\u001b[1;33m(\u001b[0m\u001b[0mvuelo\u001b[0m\u001b[1;33m)\u001b[0m\u001b[1;33m\u001b[0m\u001b[1;33m\u001b[0m\u001b[0m\n\u001b[0m\u001b[0;32m     16\u001b[0m              \u001b[1;31m#Cerramos\u001b[0m\u001b[1;33m\u001b[0m\u001b[1;33m\u001b[0m\u001b[1;33m\u001b[0m\u001b[0m\n\u001b[0;32m     17\u001b[0m         \u001b[0mtime\u001b[0m\u001b[1;33m.\u001b[0m\u001b[0msleep\u001b[0m\u001b[1;33m(\u001b[0m\u001b[1;36m5\u001b[0m\u001b[1;33m)\u001b[0m\u001b[1;33m\u001b[0m\u001b[1;33m\u001b[0m\u001b[0m\n",
      "\u001b[1;32m<ipython-input-91-1e61a5e9e513>\u001b[0m in \u001b[0;36mobtener_datos_escalas\u001b[1;34m(vuelo)\u001b[0m\n\u001b[0;32m     41\u001b[0m \u001b[1;33m\u001b[0m\u001b[0m\n\u001b[0;32m     42\u001b[0m                 \u001b[1;34m\"dept_time\"\u001b[0m\u001b[1;33m:\u001b[0m \u001b[0mpartida_hr\u001b[0m\u001b[1;33m[\u001b[0m\u001b[1;36m0\u001b[0m\u001b[1;33m]\u001b[0m\u001b[1;33m.\u001b[0m\u001b[0mtext\u001b[0m\u001b[1;33m,\u001b[0m\u001b[1;33m\u001b[0m\u001b[1;33m\u001b[0m\u001b[0m\n\u001b[1;32m---> 43\u001b[1;33m                 \u001b[1;34m\"duracion_vuelo\"\u001b[0m\u001b[1;33m:\u001b[0m \u001b[0mpartida_hr\u001b[0m\u001b[1;33m[\u001b[0m\u001b[1;36m1\u001b[0m\u001b[1;33m]\u001b[0m\u001b[1;33m.\u001b[0m\u001b[0mtext\u001b[0m\u001b[1;33m,\u001b[0m\u001b[1;33m\u001b[0m\u001b[1;33m\u001b[0m\u001b[0m\n\u001b[0m\u001b[0;32m     44\u001b[0m                 \u001b[1;34m\"arr_time\"\u001b[0m\u001b[1;33m:\u001b[0m \u001b[0mpartida_hr\u001b[0m\u001b[1;33m[\u001b[0m\u001b[1;36m2\u001b[0m\u001b[1;33m]\u001b[0m\u001b[1;33m.\u001b[0m\u001b[0mtext\u001b[0m\u001b[1;33m,\u001b[0m\u001b[1;33m\u001b[0m\u001b[1;33m\u001b[0m\u001b[0m\n\u001b[0;32m     45\u001b[0m \u001b[1;33m\u001b[0m\u001b[0m\n",
      "\u001b[1;31mIndexError\u001b[0m: list index out of range"
     ]
    }
   ],
   "source": [
    "obtener_info(vuelo)"
   ]
  },
  {
   "cell_type": "code",
   "execution_count": 96,
   "metadata": {},
   "outputs": [],
   "source": [
    "driver.close()"
   ]
  },
  {
   "cell_type": "code",
   "execution_count": null,
   "metadata": {},
   "outputs": [],
   "source": []
  },
  {
   "cell_type": "code",
   "execution_count": 27,
   "metadata": {},
   "outputs": [
    {
     "ename": "NameError",
     "evalue": "name 'vuelo' is not defined",
     "output_type": "error",
     "traceback": [
      "\u001b[1;31m---------------------------------------------------------------------------\u001b[0m",
      "\u001b[1;31mNameError\u001b[0m                                 Traceback (most recent call last)",
      "\u001b[1;32m<ipython-input-27-9212c36a21f0>\u001b[0m in \u001b[0;36m<module>\u001b[1;34m\u001b[0m\n\u001b[1;32m----> 1\u001b[1;33m \u001b[0mvuelo\u001b[0m\u001b[1;33m\u001b[0m\u001b[1;33m\u001b[0m\u001b[0m\n\u001b[0m",
      "\u001b[1;31mNameError\u001b[0m: name 'vuelo' is not defined"
     ]
    }
   ],
   "source": [
    "    vuelo"
   ]
  },
  {
   "cell_type": "code",
   "execution_count": 500,
   "metadata": {},
   "outputs": [],
   "source": [
    "codes = vuelo.find_elements(By.XPATH, \"//div[@class='iataCode']\")\n",
    "\n",
    "#iatacode = vuelo.find_elements(By.XPATH, \"//div[@class='iataCode']\")"
   ]
  },
  {
   "cell_type": "code",
   "execution_count": 329,
   "metadata": {},
   "outputs": [
    {
     "data": {
      "text/plain": [
       "<selenium.webdriver.remote.webelement.WebElement (session=\"5cf60bb6dbed2c62e7322e52becff849\", element=\"2a785072-61b6-4396-b675-09ae00a232dd\")>"
      ]
     },
     "execution_count": 329,
     "metadata": {},
     "output_type": "execute_result"
    }
   ],
   "source": [
    "codes.pop()"
   ]
  },
  {
   "cell_type": "code",
   "execution_count": 330,
   "metadata": {},
   "outputs": [
    {
     "data": {
      "text/plain": [
       "[<selenium.webdriver.remote.webelement.WebElement (session=\"5cf60bb6dbed2c62e7322e52becff849\", element=\"650cca42-0457-4810-aa6d-0e04b8b672f3\")>,\n",
       " <selenium.webdriver.remote.webelement.WebElement (session=\"5cf60bb6dbed2c62e7322e52becff849\", element=\"6e21098e-fd06-431c-b548-e8a4cbcfe225\")>,\n",
       " <selenium.webdriver.remote.webelement.WebElement (session=\"5cf60bb6dbed2c62e7322e52becff849\", element=\"046382ec-c5ff-4280-8824-67d1e52d9811\")>]"
      ]
     },
     "execution_count": 330,
     "metadata": {},
     "output_type": "execute_result"
    }
   ],
   "source": [
    "codes"
   ]
  },
  {
   "cell_type": "code",
   "execution_count": 114,
   "metadata": {},
   "outputs": [],
   "source": [
    "    Listo = []\n",
    "\n",
    "    # partida_hr =driver.find_elements(By.XPATH, \"//span[@class='time']\")\n",
    "    #huevadaza = partida_hr[2].text \n",
    "    #data_dict = {\n",
    "    #               \"aeroporto_origen\": aeroporto[0].text \n",
    "    #}\n",
    "    #listo.append(data_dict).\n",
    "    \n",
    "    aeroporto = driver.find_elements(By.XPATH, \"//span[@class='ariport-name']\")\n",
    "    lugar = driver.find_elements(By.XPATH, \"//span['%%']\")\n",
    "    partida_hr= driver.find_elements(By.XPATH, \"//span[@class='time']\")\n",
    "        \n",
    "        #destino = segmen.find_elements(By.XPATH, \"//span[@class='time'][2]\")\n",
    "        #hr_llegada = segmen.find_elements(By.XPATH, \"//span[@class='time']\")\n",
    "        # no nito tengo PARTIDA HR duracion=segmen.find_elements(By.XPATH, \"//span[@class='sc-goFBvh kpzJsB']\")\n",
    "    if len(partida_hr) > 5:\n",
    "        data_dict = {\n",
    "                \"origen\": lugar[0].text,\n",
    "                \"aeroporto_origen\": aeroporto[0].text,\n",
    "                \"destino\": lugar[1].text,\n",
    "                \"aeroporto_destino\": aeroporto[1].text,\n",
    "\n",
    "                \"dept_time\": partida_hr[0].text,\n",
    "                \"duracion_vuelo\": partida_hr[1].text,\n",
    "                \"arr_time\": partida_hr[2].text,\n",
    "\n",
    "                \"dura_escala\": partida_hr[3].text,\n",
    "\n",
    "                \"origen2\": lugar[2].text,\n",
    "                \"aeroporto_origen2\": aeroporto[2].text,\n",
    "                \"destino2\": lugar[3].text,\n",
    "                \"aeroporto_destino2\": aeroporto[3].text,\n",
    "\n",
    "                \"dept_time2\": partida_hr[4].text,\n",
    "                \"duracion_vuelo2\": partida_hr[5].text,\n",
    "                \"arr_time2\": partida_hr[6].text,\n",
    "            }\n",
    "        Listo.append(data_dict)\n",
    "    else:\n",
    "        data_dict = {\n",
    "                \"origen\": lugar[0].text,\n",
    "                \"aeroporto_origen\": aeroporto[0].text,\n",
    "                \"destino\": lugar[1].text,\n",
    "                \"aeroporto_destino\": aeroporto[1].text,\n",
    "\n",
    "                \"dept_time\": partida_hr[0].text,\n",
    "                \"duracion_vuelo\": partida_hr[1].text,\n",
    "                \"arr_time\": partida_hr[2].text,\n",
    "\n",
    "            }\n",
    "        Listo.append(data_dict)\n"
   ]
  },
  {
   "cell_type": "code",
   "execution_count": 115,
   "metadata": {},
   "outputs": [
    {
     "data": {
      "text/plain": [
       "[{'origen': '',\n",
       "  'aeroporto_origen': 'J Chavez Intl.',\n",
       "  'destino': 'Navegación de secciones de usuario.',\n",
       "  'aeroporto_destino': 'Guarulhos Intl.',\n",
       "  'dept_time': '9:30',\n",
       "  'duracion_vuelo': '4 h 50 min',\n",
       "  'arr_time': '16:20',\n",
       "  'dura_escala': '6 h 50 min',\n",
       "  'origen2': 'Latam Airlines',\n",
       "  'aeroporto_origen2': 'Guarulhos Intl.',\n",
       "  'destino2': '',\n",
       "  'aeroporto_destino2': 'Barajas Intl.',\n",
       "  'dept_time2': '23:10',\n",
       "  'duracion_vuelo2': '9 h 55 min',\n",
       "  'arr_time2': '14:05'}]"
      ]
     },
     "execution_count": 115,
     "metadata": {},
     "output_type": "execute_result"
    }
   ],
   "source": [
    "Listo"
   ]
  },
  {
   "cell_type": "code",
   "execution_count": 335,
   "metadata": {},
   "outputs": [
    {
     "data": {
      "text/plain": [
       "'13:30'"
      ]
     },
     "execution_count": 335,
     "metadata": {},
     "output_type": "execute_result"
    }
   ],
   "source": [
    "partida_hr[2].text "
   ]
  },
  {
   "cell_type": "code",
   "execution_count": 212,
   "metadata": {},
   "outputs": [
    {
     "data": {
      "text/plain": [
       "[]"
      ]
     },
     "execution_count": 212,
     "metadata": {},
     "output_type": "execute_result"
    }
   ],
   "source": [
    "listo"
   ]
  },
  {
   "cell_type": "code",
   "execution_count": 218,
   "metadata": {},
   "outputs": [
    {
     "data": {
      "text/plain": [
       "[<selenium.webdriver.remote.webelement.WebElement (session=\"d9bfc74772d6c0ffa21b32c511dc8e4c\", element=\"665849e3-6521-4c18-90e9-d844ed49d899\")>,\n",
       " <selenium.webdriver.remote.webelement.WebElement (session=\"d9bfc74772d6c0ffa21b32c511dc8e4c\", element=\"18c44c92-04cd-404c-973a-27bb19961eb4\")>,\n",
       " <selenium.webdriver.remote.webelement.WebElement (session=\"d9bfc74772d6c0ffa21b32c511dc8e4c\", element=\"0a830afd-7cc5-4736-8653-c59d469d8422\")>,\n",
       " <selenium.webdriver.remote.webelement.WebElement (session=\"d9bfc74772d6c0ffa21b32c511dc8e4c\", element=\"76c3361c-734d-4d6f-98dc-84994f90b635\")>]"
      ]
     },
     "execution_count": 218,
     "metadata": {},
     "output_type": "execute_result"
    }
   ],
   "source": [
    "aeroporto"
   ]
  },
  {
   "cell_type": "code",
   "execution_count": 463,
   "metadata": {},
   "outputs": [
    {
     "data": {
      "text/plain": [
       "<selenium.webdriver.chrome.webdriver.WebDriver (session=\"17a0f9b6624897057c7d13f80dc364e0\")>"
      ]
     },
     "execution_count": 463,
     "metadata": {},
     "output_type": "execute_result"
    }
   ],
   "source": [
    "driver"
   ]
  },
  {
   "cell_type": "code",
   "execution_count": 464,
   "metadata": {},
   "outputs": [
    {
     "name": "stdout",
     "output_type": "stream",
     "text": [
      "<selenium.webdriver.chrome.webdriver.WebDriver (session=\"17a0f9b6624897057c7d13f80dc364e0\")>\n"
     ]
    }
   ],
   "source": [
    "print(driver)"
   ]
  },
  {
   "cell_type": "code",
   "execution_count": null,
   "metadata": {},
   "outputs": [],
   "source": []
  },
  {
   "cell_type": "code",
   "execution_count": 35,
   "metadata": {},
   "outputs": [
    {
     "data": {
      "text/plain": [
       "[<selenium.webdriver.remote.webelement.WebElement (session=\"c0606ef37dda0d0e4c3264241c245e27\", element=\"56322ffb-e964-450f-8eb6-98e4d15c0b19\")>]"
      ]
     },
     "execution_count": 35,
     "metadata": {},
     "output_type": "execute_result"
    }
   ],
   "source": [
    "boton"
   ]
  },
  {
   "cell_type": "code",
   "execution_count": 86,
   "metadata": {},
   "outputs": [],
   "source": [
    "boton = vuelos[6].find_elements(By.XPATH, \".//a[@data-reference='modal-air-offers']\")\n",
    "boton[0].click()"
   ]
  },
  {
   "cell_type": "code",
   "execution_count": 87,
   "metadata": {},
   "outputs": [],
   "source": [
    "cierro = driver.find_elements(By.XPATH, \".//button[@type='button']\")\n",
    "cierro[0].click()"
   ]
  },
  {
   "cell_type": "code",
   "execution_count": 88,
   "metadata": {},
   "outputs": [],
   "source": [
    "vuelos[6].click()"
   ]
  },
  {
   "cell_type": "code",
   "execution_count": 89,
   "metadata": {},
   "outputs": [],
   "source": [
    "cierro = driver.find_elements(By.XPATH, \".//button[@type='button']\")\n",
    "cierro[0].click()"
   ]
  },
  {
   "cell_type": "code",
   "execution_count": 40,
   "metadata": {},
   "outputs": [],
   "source": [
    "RA =vuelo.find_elements(By.XPATH, \".//span[@class='sc-bMuqKn iZseNN']\")"
   ]
  },
  {
   "cell_type": "code",
   "execution_count": 47,
   "metadata": {},
   "outputs": [],
   "source": [
    "salida=vuelo.find_elements(By.XPATH, \"//span[@class='sc-jbxdUx irLFPy']\")"
   ]
  },
  {
   "cell_type": "code",
   "execution_count": 48,
   "metadata": {},
   "outputs": [
    {
     "data": {
      "text/plain": [
       "[<selenium.webdriver.remote.webelement.WebElement (session=\"a5db043527904a8c50ae5608d2099aae\", element=\"41882b9c-641f-4673-b6d9-870f728155b2\")>,\n",
       " <selenium.webdriver.remote.webelement.WebElement (session=\"a5db043527904a8c50ae5608d2099aae\", element=\"f179a83f-38e5-44ec-b6d2-85d546b08b28\")>,\n",
       " <selenium.webdriver.remote.webelement.WebElement (session=\"a5db043527904a8c50ae5608d2099aae\", element=\"0cbca06b-4363-477b-8bfe-2f62aec1bedd\")>,\n",
       " <selenium.webdriver.remote.webelement.WebElement (session=\"a5db043527904a8c50ae5608d2099aae\", element=\"fa88171f-4f90-4579-b011-f8aa6c8f36b8\")>,\n",
       " <selenium.webdriver.remote.webelement.WebElement (session=\"a5db043527904a8c50ae5608d2099aae\", element=\"a50ca695-eb60-4abc-9153-60dd2265dfa4\")>,\n",
       " <selenium.webdriver.remote.webelement.WebElement (session=\"a5db043527904a8c50ae5608d2099aae\", element=\"0e85df1b-4527-4a56-8797-b94fed287b83\")>,\n",
       " <selenium.webdriver.remote.webelement.WebElement (session=\"a5db043527904a8c50ae5608d2099aae\", element=\"b8976fa4-c974-436b-95ff-63508d99804e\")>,\n",
       " <selenium.webdriver.remote.webelement.WebElement (session=\"a5db043527904a8c50ae5608d2099aae\", element=\"86bd42ff-08d6-48ea-ae83-b2d6968cb65b\")>,\n",
       " <selenium.webdriver.remote.webelement.WebElement (session=\"a5db043527904a8c50ae5608d2099aae\", element=\"4962f507-ec10-4f94-b1a4-73b3769e2d8e\")>,\n",
       " <selenium.webdriver.remote.webelement.WebElement (session=\"a5db043527904a8c50ae5608d2099aae\", element=\"dcfe88c8-9d10-4714-add0-93b948802137\")>,\n",
       " <selenium.webdriver.remote.webelement.WebElement (session=\"a5db043527904a8c50ae5608d2099aae\", element=\"1818096a-384f-459e-beca-ec92a15aef22\")>,\n",
       " <selenium.webdriver.remote.webelement.WebElement (session=\"a5db043527904a8c50ae5608d2099aae\", element=\"984546dc-ef59-4658-aa3e-f6345f71892d\")>,\n",
       " <selenium.webdriver.remote.webelement.WebElement (session=\"a5db043527904a8c50ae5608d2099aae\", element=\"108c77e1-1258-4169-a249-ad345e1b7d4f\")>,\n",
       " <selenium.webdriver.remote.webelement.WebElement (session=\"a5db043527904a8c50ae5608d2099aae\", element=\"adcddbb0-c219-4465-9f44-0cbea56d653a\")>,\n",
       " <selenium.webdriver.remote.webelement.WebElement (session=\"a5db043527904a8c50ae5608d2099aae\", element=\"90ece51a-ad71-48f0-a7d4-f2ae24f8ccc1\")>,\n",
       " <selenium.webdriver.remote.webelement.WebElement (session=\"a5db043527904a8c50ae5608d2099aae\", element=\"1043c754-fd0c-41a8-9485-b683efb86791\")>,\n",
       " <selenium.webdriver.remote.webelement.WebElement (session=\"a5db043527904a8c50ae5608d2099aae\", element=\"53e2e411-f3fb-46ee-8547-7eda2700e34d\")>,\n",
       " <selenium.webdriver.remote.webelement.WebElement (session=\"a5db043527904a8c50ae5608d2099aae\", element=\"2f0359a7-7711-4d2c-ad6b-ac6df1cc65ff\")>,\n",
       " <selenium.webdriver.remote.webelement.WebElement (session=\"a5db043527904a8c50ae5608d2099aae\", element=\"69f47f22-2a36-415c-9813-f65672cbca80\")>,\n",
       " <selenium.webdriver.remote.webelement.WebElement (session=\"a5db043527904a8c50ae5608d2099aae\", element=\"b623e30d-a95b-49e9-9bb5-c6c513129dc9\")>,\n",
       " <selenium.webdriver.remote.webelement.WebElement (session=\"a5db043527904a8c50ae5608d2099aae\", element=\"120bfed4-7e97-49fd-9161-2a53ea27c2f0\")>,\n",
       " <selenium.webdriver.remote.webelement.WebElement (session=\"a5db043527904a8c50ae5608d2099aae\", element=\"d1ed0fa4-32b8-438c-91c1-d25113b83e70\")>,\n",
       " <selenium.webdriver.remote.webelement.WebElement (session=\"a5db043527904a8c50ae5608d2099aae\", element=\"e913296c-f7ee-459f-946d-1ceb5b58900e\")>,\n",
       " <selenium.webdriver.remote.webelement.WebElement (session=\"a5db043527904a8c50ae5608d2099aae\", element=\"856088cf-a6e3-420b-8cf5-0759df1c1ce3\")>,\n",
       " <selenium.webdriver.remote.webelement.WebElement (session=\"a5db043527904a8c50ae5608d2099aae\", element=\"82ff9f57-8cdd-4a21-85b4-fa8c840c3e4c\")>,\n",
       " <selenium.webdriver.remote.webelement.WebElement (session=\"a5db043527904a8c50ae5608d2099aae\", element=\"fa606057-7315-426a-bac6-811e95b22ac8\")>,\n",
       " <selenium.webdriver.remote.webelement.WebElement (session=\"a5db043527904a8c50ae5608d2099aae\", element=\"eddf4017-7af4-42fb-9eb0-cefc3113926f\")>,\n",
       " <selenium.webdriver.remote.webelement.WebElement (session=\"a5db043527904a8c50ae5608d2099aae\", element=\"df2b7350-d972-44f4-a91b-26b480c85fab\")>,\n",
       " <selenium.webdriver.remote.webelement.WebElement (session=\"a5db043527904a8c50ae5608d2099aae\", element=\"18dddf06-db8b-4a7c-a53f-142ceacef985\")>,\n",
       " <selenium.webdriver.remote.webelement.WebElement (session=\"a5db043527904a8c50ae5608d2099aae\", element=\"a2b467cb-4b0a-491c-88c1-c30a34ce7d8c\")>,\n",
       " <selenium.webdriver.remote.webelement.WebElement (session=\"a5db043527904a8c50ae5608d2099aae\", element=\"06a0ccfb-f4e5-459e-af77-4c7fef7c2826\")>,\n",
       " <selenium.webdriver.remote.webelement.WebElement (session=\"a5db043527904a8c50ae5608d2099aae\", element=\"1fe37067-b5ff-4264-9e23-750141249745\")>,\n",
       " <selenium.webdriver.remote.webelement.WebElement (session=\"a5db043527904a8c50ae5608d2099aae\", element=\"8535d5c0-d047-46dd-b3ea-4b6e8c01d188\")>,\n",
       " <selenium.webdriver.remote.webelement.WebElement (session=\"a5db043527904a8c50ae5608d2099aae\", element=\"7d2d5dc2-7148-4341-83cb-bf976eedf785\")>,\n",
       " <selenium.webdriver.remote.webelement.WebElement (session=\"a5db043527904a8c50ae5608d2099aae\", element=\"6dd40838-46aa-4fb0-9d31-7fb3faeb684d\")>,\n",
       " <selenium.webdriver.remote.webelement.WebElement (session=\"a5db043527904a8c50ae5608d2099aae\", element=\"266dd226-8b33-4a20-9a2c-1899b966fe3b\")>,\n",
       " <selenium.webdriver.remote.webelement.WebElement (session=\"a5db043527904a8c50ae5608d2099aae\", element=\"6df4d747-c7b9-4b85-8b5a-a31bfce96e75\")>,\n",
       " <selenium.webdriver.remote.webelement.WebElement (session=\"a5db043527904a8c50ae5608d2099aae\", element=\"a9afbce1-e92a-4188-a73b-32c1359334d6\")>,\n",
       " <selenium.webdriver.remote.webelement.WebElement (session=\"a5db043527904a8c50ae5608d2099aae\", element=\"279641aa-6d84-4972-ba1e-e912878951e2\")>,\n",
       " <selenium.webdriver.remote.webelement.WebElement (session=\"a5db043527904a8c50ae5608d2099aae\", element=\"82ca2e77-48ad-4765-9a65-ceaed8b0af99\")>,\n",
       " <selenium.webdriver.remote.webelement.WebElement (session=\"a5db043527904a8c50ae5608d2099aae\", element=\"d3ddb9b2-d731-4241-b2da-bbf5ca679001\")>,\n",
       " <selenium.webdriver.remote.webelement.WebElement (session=\"a5db043527904a8c50ae5608d2099aae\", element=\"bab89f5a-dd6b-4b10-b3e9-de300317833a\")>,\n",
       " <selenium.webdriver.remote.webelement.WebElement (session=\"a5db043527904a8c50ae5608d2099aae\", element=\"51deac22-0a08-43c3-8c97-fdd297d6e5ed\")>,\n",
       " <selenium.webdriver.remote.webelement.WebElement (session=\"a5db043527904a8c50ae5608d2099aae\", element=\"3483ff11-881d-4239-a516-ef063876c7f5\")>,\n",
       " <selenium.webdriver.remote.webelement.WebElement (session=\"a5db043527904a8c50ae5608d2099aae\", element=\"35bd36f7-4e29-430c-a98f-9c8f8762fbef\")>,\n",
       " <selenium.webdriver.remote.webelement.WebElement (session=\"a5db043527904a8c50ae5608d2099aae\", element=\"e0083efb-7fbe-4d40-a3dc-553092bbdc82\")>,\n",
       " <selenium.webdriver.remote.webelement.WebElement (session=\"a5db043527904a8c50ae5608d2099aae\", element=\"2e643e37-250a-4771-9263-cc09901fb4d4\")>,\n",
       " <selenium.webdriver.remote.webelement.WebElement (session=\"a5db043527904a8c50ae5608d2099aae\", element=\"98c450c5-4df3-4d40-b38b-34755b85e35c\")>,\n",
       " <selenium.webdriver.remote.webelement.WebElement (session=\"a5db043527904a8c50ae5608d2099aae\", element=\"abbb9e70-0675-4961-93e0-e02554abbb17\")>,\n",
       " <selenium.webdriver.remote.webelement.WebElement (session=\"a5db043527904a8c50ae5608d2099aae\", element=\"9ecf6da2-711c-4da7-9deb-f3a0decacfd4\")>,\n",
       " <selenium.webdriver.remote.webelement.WebElement (session=\"a5db043527904a8c50ae5608d2099aae\", element=\"a02bf2d1-ee5d-413a-8908-188fa1dc1a3a\")>,\n",
       " <selenium.webdriver.remote.webelement.WebElement (session=\"a5db043527904a8c50ae5608d2099aae\", element=\"724c5206-3dd1-4573-a93e-848510852fdb\")>,\n",
       " <selenium.webdriver.remote.webelement.WebElement (session=\"a5db043527904a8c50ae5608d2099aae\", element=\"eae9ecd6-1b28-4b16-b72a-309bca0a1106\")>,\n",
       " <selenium.webdriver.remote.webelement.WebElement (session=\"a5db043527904a8c50ae5608d2099aae\", element=\"c6e6f0ab-5d40-455c-b2fc-52376d47a783\")>,\n",
       " <selenium.webdriver.remote.webelement.WebElement (session=\"a5db043527904a8c50ae5608d2099aae\", element=\"a8bacb83-3326-4fa3-a28c-0f25a179d9d3\")>,\n",
       " <selenium.webdriver.remote.webelement.WebElement (session=\"a5db043527904a8c50ae5608d2099aae\", element=\"52efdc6d-b2e8-4313-ac57-cfdf2ac83158\")>,\n",
       " <selenium.webdriver.remote.webelement.WebElement (session=\"a5db043527904a8c50ae5608d2099aae\", element=\"0f3948f2-ee69-41f3-9171-6a7fef43bb82\")>,\n",
       " <selenium.webdriver.remote.webelement.WebElement (session=\"a5db043527904a8c50ae5608d2099aae\", element=\"bf53033f-6012-410e-b14e-6c862ba2c75c\")>,\n",
       " <selenium.webdriver.remote.webelement.WebElement (session=\"a5db043527904a8c50ae5608d2099aae\", element=\"2f03580b-ee63-4c4f-942e-822b8367bdd3\")>,\n",
       " <selenium.webdriver.remote.webelement.WebElement (session=\"a5db043527904a8c50ae5608d2099aae\", element=\"30a68e28-eb6f-419a-b220-604f7d2c2eb8\")>]"
      ]
     },
     "execution_count": 48,
     "metadata": {},
     "output_type": "execute_result"
    }
   ],
   "source": [
    "salida"
   ]
  },
  {
   "cell_type": "code",
   "execution_count": 49,
   "metadata": {},
   "outputs": [
    {
     "data": {
      "text/plain": [
       "[<selenium.webdriver.remote.webelement.WebElement (session=\"a5db043527904a8c50ae5608d2099aae\", element=\"53f95dd3-3170-414d-9f58-b518f9f006de\")>]"
      ]
     },
     "execution_count": 49,
     "metadata": {},
     "output_type": "execute_result"
    }
   ],
   "source": [
    "RA"
   ]
  },
  {
   "cell_type": "code",
   "execution_count": 150,
   "metadata": {},
   "outputs": [],
   "source": [
    "tarifas = vuelo.find_elements(By.XPATH, \".//div[@class='sc-bveJEc bPLtvA']\")\n",
    "    \n",
    "precios = []\n",
    "for tarifa in tarifas:\n",
    "    precio = tarifa.find_elements(By.XPATH, \".//span[@class='sc-lmrgJh bggiiV']\")\n",
    "    currency = tarifa.find_elements(By.XPATH, \".//span[@class='sc-lmrgJh bggiiV currency']\")\n",
    "    clase = tarifa.find_elements(By.XPATH, \".//span[@class='sc-khKDHO kCIAAi']\")\n",
    "    print(precio)\n",
    "    print(currency)\n",
    "    print(clase)\n",
    "    \n",
    "        #cosas = \n",
    "    sublista = list(range(len(clase)))\n",
    "    #precios=[]\n",
    "     \n",
    "    for i in sublista:\n",
    "        dict_tarifa = {clase[i].text:{\"moneda\":currency[i].text, \"valor\":precio[i].text}}\n",
    "        precios.append(dict_tarifa)\n",
    "    print(precios)"
   ]
  },
  {
   "cell_type": "code",
   "execution_count": 152,
   "metadata": {},
   "outputs": [
    {
     "data": {
      "text/plain": [
       "[]"
      ]
     },
     "execution_count": 152,
     "metadata": {},
     "output_type": "execute_result"
    }
   ],
   "source": [
    "precios"
   ]
  },
  {
   "cell_type": "code",
   "execution_count": 166,
   "metadata": {},
   "outputs": [
    {
     "name": "stdout",
     "output_type": "stream",
     "text": [
      "583.83\n"
     ]
    }
   ],
   "source": [
    "clase = driver.find_elements(By.XPATH, \".//span[@class='sc-khKDHO kCIAAi']\")\n",
    "currency = driver.find_elements(By.XPATH, \".//span[@class='sc-lmrgJh bggiiV currency']\")\n",
    "precio = driver.find_elements(By.XPATH, \".//span[@class='sc-lmrgJh bggiiV']\")\n",
    "\n",
    "x = precio[0].text\n",
    "print(x)"
   ]
  },
  {
   "cell_type": "code",
   "execution_count": 142,
   "metadata": {},
   "outputs": [],
   "source": [
    "tarifas = driver.find_elements(By.XPATH, \".//div[@class='sc-bveJEc bPLtvA']\")"
   ]
  },
  {
   "cell_type": "code",
   "execution_count": 143,
   "metadata": {},
   "outputs": [
    {
     "data": {
      "text/plain": [
       "[<selenium.webdriver.remote.webelement.WebElement (session=\"a5db043527904a8c50ae5608d2099aae\", element=\"8c8b765c-d435-49f1-bb3d-04b1b30f8332\")>,\n",
       " <selenium.webdriver.remote.webelement.WebElement (session=\"a5db043527904a8c50ae5608d2099aae\", element=\"f3be44c3-9bfb-4cdc-af9f-60688e7ed610\")>,\n",
       " <selenium.webdriver.remote.webelement.WebElement (session=\"a5db043527904a8c50ae5608d2099aae\", element=\"69e80266-c6e1-472f-afb5-be6444e29c3f\")>,\n",
       " <selenium.webdriver.remote.webelement.WebElement (session=\"a5db043527904a8c50ae5608d2099aae\", element=\"787389ab-9e71-46fb-9f76-0aa7fb60e874\")>]"
      ]
     },
     "execution_count": 143,
     "metadata": {},
     "output_type": "execute_result"
    }
   ],
   "source": [
    "tarifas"
   ]
  },
  {
   "cell_type": "code",
   "execution_count": 129,
   "metadata": {},
   "outputs": [
    {
     "ename": "StaleElementReferenceException",
     "evalue": "Message: stale element reference: element is not attached to the page document\n  (Session info: chrome=105.0.5195.102)\nStacktrace:\nBacktrace:\n\tOrdinal0 [0x003ADF13+2219795]\n\tOrdinal0 [0x00342841+1779777]\n\tOrdinal0 [0x0025423D+803389]\n\tOrdinal0 [0x00256D04+814340]\n\tOrdinal0 [0x00256BC2+814018]\n\tOrdinal0 [0x00256E50+814672]\n\tOrdinal0 [0x0027E91F+977183]\n\tOrdinal0 [0x0029E7FC+1107964]\n\tOrdinal0 [0x002794B4+955572]\n\tOrdinal0 [0x0029EA14+1108500]\n\tOrdinal0 [0x002AF192+1175954]\n\tOrdinal0 [0x0029E616+1107478]\n\tOrdinal0 [0x00277F89+950153]\n\tOrdinal0 [0x00278F56+954198]\n\tGetHandleVerifier [0x006A2CB2+3040210]\n\tGetHandleVerifier [0x00692BB4+2974420]\n\tGetHandleVerifier [0x00446A0A+565546]\n\tGetHandleVerifier [0x00445680+560544]\n\tOrdinal0 [0x00349A5C+1808988]\n\tOrdinal0 [0x0034E3A8+1827752]\n\tOrdinal0 [0x0034E495+1827989]\n\tOrdinal0 [0x003580A4+1867940]\n\tBaseThreadInitThunk [0x75DB00F9+25]\n\tRtlGetAppContainerNamedObjectPath [0x77E87BBE+286]\n\tRtlGetAppContainerNamedObjectPath [0x77E87B8E+238]\n",
     "output_type": "error",
     "traceback": [
      "\u001b[1;31m---------------------------------------------------------------------------\u001b[0m",
      "\u001b[1;31mStaleElementReferenceException\u001b[0m            Traceback (most recent call last)",
      "\u001b[1;32m<ipython-input-129-fa4402f993e8>\u001b[0m in \u001b[0;36m<module>\u001b[1;34m\u001b[0m\n\u001b[0;32m      1\u001b[0m \u001b[0msublista\u001b[0m \u001b[1;33m=\u001b[0m \u001b[0mlist\u001b[0m\u001b[1;33m(\u001b[0m\u001b[0mrange\u001b[0m\u001b[1;33m(\u001b[0m\u001b[0mlen\u001b[0m\u001b[1;33m(\u001b[0m\u001b[0mclase\u001b[0m\u001b[1;33m)\u001b[0m\u001b[1;33m)\u001b[0m\u001b[1;33m)\u001b[0m\u001b[1;33m\u001b[0m\u001b[1;33m\u001b[0m\u001b[0m\n\u001b[0;32m      2\u001b[0m \u001b[1;32mfor\u001b[0m \u001b[0mi\u001b[0m \u001b[1;32min\u001b[0m \u001b[0msublista\u001b[0m\u001b[1;33m:\u001b[0m\u001b[1;33m\u001b[0m\u001b[1;33m\u001b[0m\u001b[0m\n\u001b[1;32m----> 3\u001b[1;33m     \u001b[0mdict_tarifa\u001b[0m \u001b[1;33m=\u001b[0m \u001b[1;33m{\u001b[0m\u001b[0mclase\u001b[0m\u001b[1;33m[\u001b[0m\u001b[0mi\u001b[0m\u001b[1;33m]\u001b[0m\u001b[1;33m.\u001b[0m\u001b[0mtext\u001b[0m\u001b[1;33m:\u001b[0m\u001b[1;33m{\u001b[0m\u001b[1;34m\"moneda\"\u001b[0m\u001b[1;33m:\u001b[0m\u001b[0mcurrency\u001b[0m\u001b[1;33m[\u001b[0m\u001b[0mi\u001b[0m\u001b[1;33m]\u001b[0m\u001b[1;33m.\u001b[0m\u001b[0mtext\u001b[0m\u001b[1;33m,\u001b[0m \u001b[1;34m\"valor\"\u001b[0m\u001b[1;33m:\u001b[0m\u001b[0mprecio\u001b[0m\u001b[1;33m[\u001b[0m\u001b[0mi\u001b[0m\u001b[1;33m]\u001b[0m\u001b[1;33m.\u001b[0m\u001b[0mtext\u001b[0m\u001b[1;33m}\u001b[0m\u001b[1;33m}\u001b[0m\u001b[1;33m\u001b[0m\u001b[1;33m\u001b[0m\u001b[0m\n\u001b[0m\u001b[0;32m      4\u001b[0m     \u001b[0mprint\u001b[0m\u001b[1;33m(\u001b[0m\u001b[0mdict_tarifa\u001b[0m\u001b[1;33m)\u001b[0m\u001b[1;33m\u001b[0m\u001b[1;33m\u001b[0m\u001b[0m\n\u001b[0;32m      5\u001b[0m    \u001b[1;31m# precios.append(dict_tarifa)\u001b[0m\u001b[1;33m\u001b[0m\u001b[1;33m\u001b[0m\u001b[1;33m\u001b[0m\u001b[0m\n",
      "\u001b[1;32m~\\anaconda3\\lib\\site-packages\\selenium\\webdriver\\remote\\webelement.py\u001b[0m in \u001b[0;36mtext\u001b[1;34m(self)\u001b[0m\n\u001b[0;32m     82\u001b[0m     \u001b[1;32mdef\u001b[0m \u001b[0mtext\u001b[0m\u001b[1;33m(\u001b[0m\u001b[0mself\u001b[0m\u001b[1;33m)\u001b[0m \u001b[1;33m->\u001b[0m \u001b[0mstr\u001b[0m\u001b[1;33m:\u001b[0m\u001b[1;33m\u001b[0m\u001b[1;33m\u001b[0m\u001b[0m\n\u001b[0;32m     83\u001b[0m         \u001b[1;34m\"\"\"The text of the element.\"\"\"\u001b[0m\u001b[1;33m\u001b[0m\u001b[1;33m\u001b[0m\u001b[0m\n\u001b[1;32m---> 84\u001b[1;33m         \u001b[1;32mreturn\u001b[0m \u001b[0mself\u001b[0m\u001b[1;33m.\u001b[0m\u001b[0m_execute\u001b[0m\u001b[1;33m(\u001b[0m\u001b[0mCommand\u001b[0m\u001b[1;33m.\u001b[0m\u001b[0mGET_ELEMENT_TEXT\u001b[0m\u001b[1;33m)\u001b[0m\u001b[1;33m[\u001b[0m\u001b[1;34m'value'\u001b[0m\u001b[1;33m]\u001b[0m\u001b[1;33m\u001b[0m\u001b[1;33m\u001b[0m\u001b[0m\n\u001b[0m\u001b[0;32m     85\u001b[0m \u001b[1;33m\u001b[0m\u001b[0m\n\u001b[0;32m     86\u001b[0m     \u001b[1;32mdef\u001b[0m \u001b[0mclick\u001b[0m\u001b[1;33m(\u001b[0m\u001b[0mself\u001b[0m\u001b[1;33m)\u001b[0m \u001b[1;33m->\u001b[0m \u001b[1;32mNone\u001b[0m\u001b[1;33m:\u001b[0m\u001b[1;33m\u001b[0m\u001b[1;33m\u001b[0m\u001b[0m\n",
      "\u001b[1;32m~\\anaconda3\\lib\\site-packages\\selenium\\webdriver\\remote\\webelement.py\u001b[0m in \u001b[0;36m_execute\u001b[1;34m(self, command, params)\u001b[0m\n\u001b[0;32m    394\u001b[0m             \u001b[0mparams\u001b[0m \u001b[1;33m=\u001b[0m \u001b[1;33m{\u001b[0m\u001b[1;33m}\u001b[0m\u001b[1;33m\u001b[0m\u001b[1;33m\u001b[0m\u001b[0m\n\u001b[0;32m    395\u001b[0m         \u001b[0mparams\u001b[0m\u001b[1;33m[\u001b[0m\u001b[1;34m'id'\u001b[0m\u001b[1;33m]\u001b[0m \u001b[1;33m=\u001b[0m \u001b[0mself\u001b[0m\u001b[1;33m.\u001b[0m\u001b[0m_id\u001b[0m\u001b[1;33m\u001b[0m\u001b[1;33m\u001b[0m\u001b[0m\n\u001b[1;32m--> 396\u001b[1;33m         \u001b[1;32mreturn\u001b[0m \u001b[0mself\u001b[0m\u001b[1;33m.\u001b[0m\u001b[0m_parent\u001b[0m\u001b[1;33m.\u001b[0m\u001b[0mexecute\u001b[0m\u001b[1;33m(\u001b[0m\u001b[0mcommand\u001b[0m\u001b[1;33m,\u001b[0m \u001b[0mparams\u001b[0m\u001b[1;33m)\u001b[0m\u001b[1;33m\u001b[0m\u001b[1;33m\u001b[0m\u001b[0m\n\u001b[0m\u001b[0;32m    397\u001b[0m \u001b[1;33m\u001b[0m\u001b[0m\n\u001b[0;32m    398\u001b[0m     \u001b[1;32mdef\u001b[0m \u001b[0mfind_element\u001b[0m\u001b[1;33m(\u001b[0m\u001b[0mself\u001b[0m\u001b[1;33m,\u001b[0m \u001b[0mby\u001b[0m\u001b[1;33m=\u001b[0m\u001b[0mBy\u001b[0m\u001b[1;33m.\u001b[0m\u001b[0mID\u001b[0m\u001b[1;33m,\u001b[0m \u001b[0mvalue\u001b[0m\u001b[1;33m=\u001b[0m\u001b[1;32mNone\u001b[0m\u001b[1;33m)\u001b[0m \u001b[1;33m->\u001b[0m \u001b[0mWebElement\u001b[0m\u001b[1;33m:\u001b[0m\u001b[1;33m\u001b[0m\u001b[1;33m\u001b[0m\u001b[0m\n",
      "\u001b[1;32m~\\anaconda3\\lib\\site-packages\\selenium\\webdriver\\remote\\webdriver.py\u001b[0m in \u001b[0;36mexecute\u001b[1;34m(self, driver_command, params)\u001b[0m\n\u001b[0;32m    426\u001b[0m         \u001b[0mresponse\u001b[0m \u001b[1;33m=\u001b[0m \u001b[0mself\u001b[0m\u001b[1;33m.\u001b[0m\u001b[0mcommand_executor\u001b[0m\u001b[1;33m.\u001b[0m\u001b[0mexecute\u001b[0m\u001b[1;33m(\u001b[0m\u001b[0mdriver_command\u001b[0m\u001b[1;33m,\u001b[0m \u001b[0mparams\u001b[0m\u001b[1;33m)\u001b[0m\u001b[1;33m\u001b[0m\u001b[1;33m\u001b[0m\u001b[0m\n\u001b[0;32m    427\u001b[0m         \u001b[1;32mif\u001b[0m \u001b[0mresponse\u001b[0m\u001b[1;33m:\u001b[0m\u001b[1;33m\u001b[0m\u001b[1;33m\u001b[0m\u001b[0m\n\u001b[1;32m--> 428\u001b[1;33m             \u001b[0mself\u001b[0m\u001b[1;33m.\u001b[0m\u001b[0merror_handler\u001b[0m\u001b[1;33m.\u001b[0m\u001b[0mcheck_response\u001b[0m\u001b[1;33m(\u001b[0m\u001b[0mresponse\u001b[0m\u001b[1;33m)\u001b[0m\u001b[1;33m\u001b[0m\u001b[1;33m\u001b[0m\u001b[0m\n\u001b[0m\u001b[0;32m    429\u001b[0m             response['value'] = self._unwrap_value(\n\u001b[0;32m    430\u001b[0m                 response.get('value', None))\n",
      "\u001b[1;32m~\\anaconda3\\lib\\site-packages\\selenium\\webdriver\\remote\\errorhandler.py\u001b[0m in \u001b[0;36mcheck_response\u001b[1;34m(self, response)\u001b[0m\n\u001b[0;32m    241\u001b[0m                 \u001b[0malert_text\u001b[0m \u001b[1;33m=\u001b[0m \u001b[0mvalue\u001b[0m\u001b[1;33m[\u001b[0m\u001b[1;34m'alert'\u001b[0m\u001b[1;33m]\u001b[0m\u001b[1;33m.\u001b[0m\u001b[0mget\u001b[0m\u001b[1;33m(\u001b[0m\u001b[1;34m'text'\u001b[0m\u001b[1;33m)\u001b[0m\u001b[1;33m\u001b[0m\u001b[1;33m\u001b[0m\u001b[0m\n\u001b[0;32m    242\u001b[0m             \u001b[1;32mraise\u001b[0m \u001b[0mexception_class\u001b[0m\u001b[1;33m(\u001b[0m\u001b[0mmessage\u001b[0m\u001b[1;33m,\u001b[0m \u001b[0mscreen\u001b[0m\u001b[1;33m,\u001b[0m \u001b[0mstacktrace\u001b[0m\u001b[1;33m,\u001b[0m \u001b[0malert_text\u001b[0m\u001b[1;33m)\u001b[0m  \u001b[1;31m# type: ignore[call-arg]  # mypy is not smart enough here\u001b[0m\u001b[1;33m\u001b[0m\u001b[1;33m\u001b[0m\u001b[0m\n\u001b[1;32m--> 243\u001b[1;33m         \u001b[1;32mraise\u001b[0m \u001b[0mexception_class\u001b[0m\u001b[1;33m(\u001b[0m\u001b[0mmessage\u001b[0m\u001b[1;33m,\u001b[0m \u001b[0mscreen\u001b[0m\u001b[1;33m,\u001b[0m \u001b[0mstacktrace\u001b[0m\u001b[1;33m)\u001b[0m\u001b[1;33m\u001b[0m\u001b[1;33m\u001b[0m\u001b[0m\n\u001b[0m",
      "\u001b[1;31mStaleElementReferenceException\u001b[0m: Message: stale element reference: element is not attached to the page document\n  (Session info: chrome=105.0.5195.102)\nStacktrace:\nBacktrace:\n\tOrdinal0 [0x003ADF13+2219795]\n\tOrdinal0 [0x00342841+1779777]\n\tOrdinal0 [0x0025423D+803389]\n\tOrdinal0 [0x00256D04+814340]\n\tOrdinal0 [0x00256BC2+814018]\n\tOrdinal0 [0x00256E50+814672]\n\tOrdinal0 [0x0027E91F+977183]\n\tOrdinal0 [0x0029E7FC+1107964]\n\tOrdinal0 [0x002794B4+955572]\n\tOrdinal0 [0x0029EA14+1108500]\n\tOrdinal0 [0x002AF192+1175954]\n\tOrdinal0 [0x0029E616+1107478]\n\tOrdinal0 [0x00277F89+950153]\n\tOrdinal0 [0x00278F56+954198]\n\tGetHandleVerifier [0x006A2CB2+3040210]\n\tGetHandleVerifier [0x00692BB4+2974420]\n\tGetHandleVerifier [0x00446A0A+565546]\n\tGetHandleVerifier [0x00445680+560544]\n\tOrdinal0 [0x00349A5C+1808988]\n\tOrdinal0 [0x0034E3A8+1827752]\n\tOrdinal0 [0x0034E495+1827989]\n\tOrdinal0 [0x003580A4+1867940]\n\tBaseThreadInitThunk [0x75DB00F9+25]\n\tRtlGetAppContainerNamedObjectPath [0x77E87BBE+286]\n\tRtlGetAppContainerNamedObjectPath [0x77E87B8E+238]\n"
     ]
    }
   ],
   "source": [
    "sublista = list(range(len(clase)))\n",
    "for i in sublista:\n",
    "    dict_tarifa = {clase[i].text:{\"moneda\":currency[i].text, \"valor\":precio[i].text}}\n",
    "    print(dict_tarifa)\n",
    "   # precios.append(dict_tarifa)\n",
    "#print(precios)"
   ]
  },
  {
   "cell_type": "code",
   "execution_count": null,
   "metadata": {},
   "outputs": [],
   "source": []
  },
  {
   "cell_type": "code",
   "execution_count": 80,
   "metadata": {},
   "outputs": [],
   "source": [
    "    aeroporto = driver.find_elements(By.XPATH, \"//span[@class='ariport-name']\")\n",
    "    lugar = driver.find_elements(By.XPATH, \"//span['%%']\")\n",
    "    partida_hr= driver.find_elements(By.XPATH, \"//span[@class='time']\")\n",
    "    \n",
    "    if len(partida_hr)>5 & len(aeroporto)>3:\n",
    "        data_dict = {\n",
    "                \"origen\": lugar[0].text,\n",
    "                \"aeroporto_origen\": aeroporto[0].text,\n",
    "                \"destino\": lugar[1].text,\n",
    "                \"aeroporto_destino\": aeroporto[1].text,\n",
    "\n",
    "                \"dept_time\": partida_hr[0].text,\n",
    "                \"duracion_vuelo\": partida_hr[1].text,\n",
    "                \"arr_time\": partida_hr[2].text,\n",
    "\n",
    "                \"dura_escala\": partida_hr[3].text,\n",
    "\n",
    "                \"origen2\": lugar[2].text,\n",
    "                \"aeroporto_origen2\": aeroporto[2].text,\n",
    "                \"destino2\": lugar[3].text,\n",
    "                \"aeroporto_destino2\": aeroporto[3].text,\n",
    "\n",
    "                \"dept_time2\": partida_hr[4].text,\n",
    "                \"duracion_vuelo2\": partida_hr[5].text,\n",
    "                \"arr_time2\": partida_hr[6].text,\n",
    "            }\n",
    "        \n",
    "    else:\n",
    "        data_dict = {\n",
    "                \"origen\": lugar[0].text,\n",
    "                \"aeroporto_origen\": aeroporto[0].text,\n",
    "                \"destino\": lugar[1].text,\n",
    "                \"aeroporto_destino\": aeroporto[1].text,\n",
    "\n",
    "                \"dept_time\": partida_hr[0].text,\n",
    "                \"duracion_vuelo\": partida_hr[1].text,\n",
    "                \"arr_time\": partida_hr[2].text,\n",
    "\n",
    "            }\n",
    "                "
   ]
  },
  {
   "cell_type": "code",
   "execution_count": 81,
   "metadata": {},
   "outputs": [],
   "source": [
    "wamne =  aeroporto[1].text"
   ]
  },
  {
   "cell_type": "code",
   "execution_count": 82,
   "metadata": {},
   "outputs": [
    {
     "data": {
      "text/plain": [
       "'Guarulhos Intl.'"
      ]
     },
     "execution_count": 82,
     "metadata": {},
     "output_type": "execute_result"
    }
   ],
   "source": [
    "wamne"
   ]
  },
  {
   "cell_type": "code",
   "execution_count": 83,
   "metadata": {},
   "outputs": [],
   "source": [
    "www =  lugar[3].text"
   ]
  },
  {
   "cell_type": "code",
   "execution_count": 84,
   "metadata": {},
   "outputs": [
    {
     "data": {
      "text/plain": [
       "''"
      ]
     },
     "execution_count": 84,
     "metadata": {},
     "output_type": "execute_result"
    }
   ],
   "source": [
    "www"
   ]
  },
  {
   "cell_type": "code",
   "execution_count": 85,
   "metadata": {},
   "outputs": [
    {
     "data": {
      "text/plain": [
       "7"
      ]
     },
     "execution_count": 85,
     "metadata": {},
     "output_type": "execute_result"
    }
   ],
   "source": [
    "len(partida_hr)"
   ]
  },
  {
   "cell_type": "code",
   "execution_count": 86,
   "metadata": {},
   "outputs": [],
   "source": [
    "parte = partida_hr[5].text"
   ]
  },
  {
   "cell_type": "code",
   "execution_count": 87,
   "metadata": {},
   "outputs": [
    {
     "data": {
      "text/plain": [
       "'9 h 55 min'"
      ]
     },
     "execution_count": 87,
     "metadata": {},
     "output_type": "execute_result"
    }
   ],
   "source": [
    "parte"
   ]
  },
  {
   "cell_type": "code",
   "execution_count": 88,
   "metadata": {
    "scrolled": true
   },
   "outputs": [
    {
     "data": {
      "text/plain": [
       "{'origen': '',\n",
       " 'aeroporto_origen': 'J Chavez Intl.',\n",
       " 'destino': 'Navegación de secciones de usuario.',\n",
       " 'aeroporto_destino': 'Guarulhos Intl.',\n",
       " 'dept_time': '9:30',\n",
       " 'duracion_vuelo': '4 h 50 min',\n",
       " 'arr_time': '16:20',\n",
       " 'dura_escala': '6 h 50 min',\n",
       " 'origen2': 'Latam Airlines',\n",
       " 'aeroporto_origen2': 'Guarulhos Intl.',\n",
       " 'destino2': '',\n",
       " 'aeroporto_destino2': 'Barajas Intl.',\n",
       " 'dept_time2': '23:10',\n",
       " 'duracion_vuelo2': '9 h 55 min',\n",
       " 'arr_time2': '14:05'}"
      ]
     },
     "execution_count": 88,
     "metadata": {},
     "output_type": "execute_result"
    }
   ],
   "source": [
    "data_dict"
   ]
  },
  {
   "cell_type": "code",
   "execution_count": null,
   "metadata": {},
   "outputs": [],
   "source": []
  },
  {
   "cell_type": "code",
   "execution_count": null,
   "metadata": {},
   "outputs": [],
   "source": []
  }
 ],
 "metadata": {
  "kernelspec": {
   "display_name": "Python 3",
   "language": "python",
   "name": "python3"
  },
  "language_info": {
   "codemirror_mode": {
    "name": "ipython",
    "version": 3
   },
   "file_extension": ".py",
   "mimetype": "text/x-python",
   "name": "python",
   "nbconvert_exporter": "python",
   "pygments_lexer": "ipython3",
   "version": "3.8.3"
  }
 },
 "nbformat": 4,
 "nbformat_minor": 4
}
